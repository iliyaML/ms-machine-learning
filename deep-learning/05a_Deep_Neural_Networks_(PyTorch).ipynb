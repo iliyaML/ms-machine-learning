{
 "cells": [
  {
   "cell_type": "markdown",
   "metadata": {},
   "source": [
    "# Deep Learning with PyTorch\n",
    "\n",
    "Classical machine learning relies on using statistics to determine relationships between features and labels, and can be very effective for creating predictive models. However, a massive growth in the availability of data coupled with advances in the computing technology required to process it has led to the emergence of new machine learning techniques that mimic the way the brain processes information in a structure called an artificial neural network.\n",
    "\n",
    "PyTorch is a framework for creating machine learning models, including deep neural networks (DNNs). In this example, we'll use PyTorch to create a simple neural network that classifies penguins into species based on the length and depth of their culmen (bill), their flipper length, and their body mass.\n",
    "\n",
    "> **Citation**: The penguins dataset used in the this exercise is a subset of data collected and made available by [Dr. Kristen\n",
    "Gorman](https://www.uaf.edu/cfos/people/faculty/detail/kristen-gorman.php)\n",
    "and the [Palmer Station, Antarctica LTER](https://pal.lternet.edu/), a\n",
    "member of the [Long Term Ecological Research\n",
    "Network](https://lternet.edu/).\n",
    "\n",
    "## Explore the Dataset\n",
    "\n",
    "Before we start using PyTorch to create a model, let's load the data we need from the Palmer Islands penguins dataset, which contains observations of three different species of penguin.\n",
    "\n",
    "> **Note**: In reality, you can solve the penguin classification problem easily using classical machine learning techniques without the need for a deep learning model; but it's a useful, easy to understand dataset with which to demonstrate the principles of neural networks in this notebook."
   ]
  },
  {
   "cell_type": "code",
   "execution_count": 4,
   "metadata": {},
   "outputs": [
    {
     "name": "stderr",
     "output_type": "stream",
     "text": [
      "--2022-10-24 14:05:15--  https://raw.githubusercontent.com/MicrosoftDocs/mslearn-introduction-to-machine-learning/main/Data/ml-basics/penguins.csv\n",
      "Resolving raw.githubusercontent.com (raw.githubusercontent.com)... 185.199.108.133, 185.199.109.133, 185.199.110.133, ...\n",
      "Connecting to raw.githubusercontent.com (raw.githubusercontent.com)|185.199.108.133|:443... connected.\n",
      "HTTP request sent, awaiting response... 200 OK\n",
      "Length: 7086 (6.9K) [text/plain]\n",
      "Saving to: 'data/penguins.csv'\n",
      "\n",
      "     0K ......                                                100% 2.49M=0.003s\n",
      "\n",
      "2022-10-24 14:05:15 (2.49 MB/s) - 'data/penguins.csv' saved [7086/7086]\n",
      "\n"
     ]
    }
   ],
   "source": [
    "!wget -P data https://raw.githubusercontent.com/MicrosoftDocs/mslearn-introduction-to-machine-learning/main/Data/ml-basics/penguins.csv"
   ]
  },
  {
   "cell_type": "code",
   "execution_count": 3,
   "metadata": {},
   "outputs": [],
   "source": [
    "import numpy as np\n",
    "import pandas as pd\n",
    "import matplotlib.pyplot as plt\n",
    "\n",
    "%matplotlib inline\n",
    "\n",
    "from sklearn.model_selection import train_test_split\n",
    "from sklearn.metrics import confusion_matrix\n",
    "\n",
    "import torch\n",
    "import torch.nn as nn\n",
    "import torch.utils.data as td"
   ]
  },
  {
   "cell_type": "code",
   "execution_count": 23,
   "metadata": {},
   "outputs": [
    {
     "data": {
      "text/html": [
       "<div>\n",
       "<style scoped>\n",
       "    .dataframe tbody tr th:only-of-type {\n",
       "        vertical-align: middle;\n",
       "    }\n",
       "\n",
       "    .dataframe tbody tr th {\n",
       "        vertical-align: top;\n",
       "    }\n",
       "\n",
       "    .dataframe thead th {\n",
       "        text-align: right;\n",
       "    }\n",
       "</style>\n",
       "<table border=\"1\" class=\"dataframe\">\n",
       "  <thead>\n",
       "    <tr style=\"text-align: right;\">\n",
       "      <th></th>\n",
       "      <th>CulmenLength</th>\n",
       "      <th>CulmenDepth</th>\n",
       "      <th>FlipperLength</th>\n",
       "      <th>BodyMass</th>\n",
       "      <th>Species</th>\n",
       "    </tr>\n",
       "  </thead>\n",
       "  <tbody>\n",
       "    <tr>\n",
       "      <th>215</th>\n",
       "      <td>54.3</td>\n",
       "      <td>15.7</td>\n",
       "      <td>23.1</td>\n",
       "      <td>56.50</td>\n",
       "      <td>1</td>\n",
       "    </tr>\n",
       "    <tr>\n",
       "      <th>119</th>\n",
       "      <td>41.1</td>\n",
       "      <td>18.6</td>\n",
       "      <td>18.9</td>\n",
       "      <td>33.25</td>\n",
       "      <td>0</td>\n",
       "    </tr>\n",
       "    <tr>\n",
       "      <th>121</th>\n",
       "      <td>37.7</td>\n",
       "      <td>19.8</td>\n",
       "      <td>19.8</td>\n",
       "      <td>35.00</td>\n",
       "      <td>0</td>\n",
       "    </tr>\n",
       "    <tr>\n",
       "      <th>113</th>\n",
       "      <td>42.2</td>\n",
       "      <td>19.5</td>\n",
       "      <td>19.7</td>\n",
       "      <td>42.75</td>\n",
       "      <td>0</td>\n",
       "    </tr>\n",
       "    <tr>\n",
       "      <th>16</th>\n",
       "      <td>38.7</td>\n",
       "      <td>19.0</td>\n",
       "      <td>19.5</td>\n",
       "      <td>34.50</td>\n",
       "      <td>0</td>\n",
       "    </tr>\n",
       "    <tr>\n",
       "      <th>169</th>\n",
       "      <td>49.2</td>\n",
       "      <td>15.2</td>\n",
       "      <td>22.1</td>\n",
       "      <td>63.00</td>\n",
       "      <td>1</td>\n",
       "    </tr>\n",
       "    <tr>\n",
       "      <th>298</th>\n",
       "      <td>43.2</td>\n",
       "      <td>16.6</td>\n",
       "      <td>18.7</td>\n",
       "      <td>29.00</td>\n",
       "      <td>2</td>\n",
       "    </tr>\n",
       "    <tr>\n",
       "      <th>100</th>\n",
       "      <td>35.0</td>\n",
       "      <td>17.9</td>\n",
       "      <td>19.2</td>\n",
       "      <td>37.25</td>\n",
       "      <td>0</td>\n",
       "    </tr>\n",
       "    <tr>\n",
       "      <th>314</th>\n",
       "      <td>46.9</td>\n",
       "      <td>16.6</td>\n",
       "      <td>19.2</td>\n",
       "      <td>27.00</td>\n",
       "      <td>2</td>\n",
       "    </tr>\n",
       "    <tr>\n",
       "      <th>315</th>\n",
       "      <td>53.5</td>\n",
       "      <td>19.9</td>\n",
       "      <td>20.5</td>\n",
       "      <td>45.00</td>\n",
       "      <td>2</td>\n",
       "    </tr>\n",
       "  </tbody>\n",
       "</table>\n",
       "</div>"
      ],
      "text/plain": [
       "     CulmenLength  CulmenDepth  FlipperLength  BodyMass  Species\n",
       "215          54.3         15.7           23.1     56.50        1\n",
       "119          41.1         18.6           18.9     33.25        0\n",
       "121          37.7         19.8           19.8     35.00        0\n",
       "113          42.2         19.5           19.7     42.75        0\n",
       "16           38.7         19.0           19.5     34.50        0\n",
       "169          49.2         15.2           22.1     63.00        1\n",
       "298          43.2         16.6           18.7     29.00        2\n",
       "100          35.0         17.9           19.2     37.25        0\n",
       "314          46.9         16.6           19.2     27.00        2\n",
       "315          53.5         19.9           20.5     45.00        2"
      ]
     },
     "execution_count": 23,
     "metadata": {},
     "output_type": "execute_result"
    }
   ],
   "source": [
    "# Constants\n",
    "RANDOM_STATE = 42\n",
    "\n",
    "# load the training dataset (excluding rows with null values)\n",
    "penguins_df = pd.read_csv('data/penguins.csv').dropna()\n",
    "\n",
    "# Deep Learning models work best when features are on similar scales\n",
    "# In a real solution, we'd implement some custom normalization for each feature, but to keep things simple\n",
    "# we'll just rescale the FlipperLength and BodyMass so they're on a similar scale to the bill measurements\n",
    "penguins_df['FlipperLength'] = penguins_df['FlipperLength']/10\n",
    "penguins_df['BodyMass'] = penguins_df['BodyMass']/100\n",
    "\n",
    "# The dataset is too small to be useful for deep learning\n",
    "# So we'll oversample it to increase its size\n",
    "for i in range(1,3):\n",
    "    penguins_df = penguins_df.append(penguins)\n",
    "\n",
    "# Display a random sample of 10 observations\n",
    "sample_df = penguins_df.sample(10)\n",
    "sample_df"
   ]
  },
  {
   "cell_type": "markdown",
   "metadata": {},
   "source": [
    "The **Species** column is the label our model will predict. Each label value represents a class of penguin species, encoded as 0, 1, or 2. The following code shows the actual species to which these class labels corrrespond."
   ]
  },
  {
   "cell_type": "code",
   "execution_count": 24,
   "metadata": {
    "tags": []
   },
   "outputs": [
    {
     "name": "stdout",
     "output_type": "stream",
     "text": [
      "['CulmenLength' 'CulmenDepth' 'FlipperLength' 'BodyMass' 'Species'] SpeciesName\n",
      "[ 36.9 18.6 18.9 35.0 0 ] Adelie\n",
      "[ 43.4 14.4 21.8 46.0 1 ] Gentoo\n",
      "[ 45.6 20.3 19.1 46.0 0 ] Adelie\n",
      "[ 38.6 21.2 19.1 38.0 0 ] Adelie\n",
      "[ 36.7 19.3 19.3 34.5 0 ] Adelie\n",
      "[ 38.1 17.0 18.1 31.75 0 ] Adelie\n",
      "[ 35.7 18.0 20.2 35.5 0 ] Adelie\n",
      "[ 45.2 14.8 21.2 52.0 1 ] Gentoo\n",
      "[ 39.0 17.5 18.6 35.5 0 ] Adelie\n",
      "[ 48.4 16.3 22.0 54.0 1 ] Gentoo\n"
     ]
    }
   ],
   "source": [
    "penguin_classes_ls = ['Adelie', 'Gentoo', 'Chinstrap']\n",
    "print(sample_df.columns[0:5].values, 'SpeciesName')\n",
    "for index, row in penguins.sample(10).iterrows():\n",
    "    print('[',row[0], row[1], row[2],row[3], int(row[4]), ']', penguin_classes_ls[int(row[-1])])"
   ]
  },
  {
   "cell_type": "markdown",
   "metadata": {},
   "source": [
    "As is common in a supervised learning problem, we'll split the dataset into a set of records with which to train the model, and a smaller set with which to validate the trained model."
   ]
  },
  {
   "cell_type": "code",
   "execution_count": 25,
   "metadata": {
    "tags": []
   },
   "outputs": [
    {
     "name": "stdout",
     "output_type": "stream",
     "text": [
      "Training Set: 957, Test Set: 411 \n",
      "\n",
      "Sample of features and labels:\n",
      "[51.1 16.5 22.5 52.5] 1 (Gentoo)\n",
      "[50.7 19.7 20.3 40.5] 2 (Chinstrap)\n",
      "[49.5 16.2 22.9 58. ] 1 (Gentoo)\n",
      "[39.3 20.6 19.  36.5] 0 (Adelie)\n",
      "[42.5 20.7 19.7 45. ] 0 (Adelie)\n",
      "[50.  15.3 22.  55.5] 1 (Gentoo)\n",
      "[50.2  18.7  19.8  37.75] 2 (Chinstrap)\n",
      "[50.7 19.7 20.3 40.5] 2 (Chinstrap)\n",
      "[49.1  14.5  21.2  46.25] 1 (Gentoo)\n",
      "[43.2 16.6 18.7 29. ] 2 (Chinstrap)\n",
      "[38.8  17.6  19.1  32.75] 0 (Adelie)\n",
      "[37.8 17.1 18.6 33. ] 0 (Adelie)\n",
      "[45.8 14.2 21.9 47. ] 1 (Gentoo)\n",
      "[43.8 13.9 20.8 43. ] 1 (Gentoo)\n",
      "[36.  17.1 18.7 37. ] 0 (Adelie)\n",
      "[43.3 13.4 20.9 44. ] 1 (Gentoo)\n",
      "[36.  18.5 18.6 31. ] 0 (Adelie)\n",
      "[41.1  19.   18.2  34.25] 0 (Adelie)\n",
      "[33.1 16.1 17.8 29. ] 0 (Adelie)\n",
      "[40.9 13.7 21.4 46.5] 1 (Gentoo)\n",
      "[45.2 17.8 19.8 39.5] 2 (Chinstrap)\n",
      "[48.4 14.6 21.3 58.5] 1 (Gentoo)\n",
      "[43.6 13.9 21.7 49. ] 1 (Gentoo)\n",
      "[38.5  17.9  19.   33.25] 0 (Adelie)\n"
     ]
    }
   ],
   "source": [
    "features_ls = ['CulmenLength','CulmenDepth','FlipperLength','BodyMass']\n",
    "label = 'Species'\n",
    "   \n",
    "# Split data 70%-30% into training set and test set\n",
    "X_train, X_test, y_train, y_test = train_test_split(penguins[features_ls].values,\n",
    "                                                    penguins[label].values,\n",
    "                                                    test_size=0.30,\n",
    "                                                    random_state=0)\n",
    "\n",
    "print ('Training Set: %d, Test Set: %d \\n' % (len(X_train), len(X_test)))\n",
    "print(\"Sample of features and labels:\")\n",
    "\n",
    "# Take a look at the first 25 training features and corresponding labels\n",
    "for n in range(0,24):\n",
    "    print(X_train[n], y_train[n], '(' + penguin_classes[y_train[n]] + ')')"
   ]
  },
  {
   "cell_type": "markdown",
   "metadata": {},
   "source": [
    "The *features* are the measurements for each penguin observation, and the *label* is a numeric value that indicates the species of penguin that the observation represents (Adelie, Gentoo, or Chinstrap).\n",
    "\n",
    "## Install and import the PyTorch libraries\n",
    "\n",
    "Since we plan to use PyTorch to create our penguin classifier, we'll need to run the following two cells to install and import the PyTorch libraries we intend to use. The specific installation of of PyTorch depends on your operating system and whether your computer has graphics processing units (GPUs) that can be used for high-performance processing via *cuda*. You can find detailed instructions at https://pytorch.org/get-started/locally/."
   ]
  },
  {
   "cell_type": "code",
   "execution_count": 26,
   "metadata": {},
   "outputs": [],
   "source": [
    "# !pip install torch==1.9.0+cpu torchvision==0.10.0+cpu torchaudio==0.9.0 -f https://download.pytorch.org/whl/torch_stable.html"
   ]
  },
  {
   "cell_type": "code",
   "execution_count": 27,
   "metadata": {
    "tags": []
   },
   "outputs": [
    {
     "name": "stdout",
     "output_type": "stream",
     "text": [
      "Libraries imported - ready to use PyTorch 1.12.1+cpu\n"
     ]
    }
   ],
   "source": [
    "# Set random seed for reproducability\n",
    "torch.manual_seed(RANDOM_STATE)\n",
    "\n",
    "print(\"Libraries imported - ready to use PyTorch\", torch.__version__)"
   ]
  },
  {
   "cell_type": "markdown",
   "metadata": {},
   "source": [
    "## Prepare the data for PyTorch\n",
    "\n",
    "PyTorch makes use of *data loaders* to load training and validation data in batches. We've already loaded the data into numpy arrays, but we need to wrap those in PyTorch datasets (in which the data is converted to PyTorch *tensor* objects) and create loaders to read batches from those datasets."
   ]
  },
  {
   "cell_type": "code",
   "execution_count": 28,
   "metadata": {
    "tags": []
   },
   "outputs": [
    {
     "name": "stdout",
     "output_type": "stream",
     "text": [
      "Ready to load data\n"
     ]
    }
   ],
   "source": [
    "# Create a dataset and loader for the training data and labels\n",
    "train_X = torch.Tensor(X_train).float()\n",
    "train_y = torch.Tensor(y_train).long()\n",
    "train_ds = td.TensorDataset(train_X, train_y)\n",
    "train_loader = td.DataLoader(train_ds, batch_size=20,\n",
    "    shuffle=False, num_workers=1)\n",
    "\n",
    "# Create a dataset and loader for the test data and labels\n",
    "test_X = torch.Tensor(X_test).float()\n",
    "test_y = torch.Tensor(y_test).long()\n",
    "test_ds = td.TensorDataset(test_X, test_y)\n",
    "test_loader = td.DataLoader(test_ds, batch_size=20,\n",
    "    shuffle=False, num_workers=1)\n",
    "print('Ready to load data')"
   ]
  },
  {
   "cell_type": "markdown",
   "metadata": {},
   "source": [
    "## Define a neural network\n",
    "\n",
    "Now we're ready to define our neural network. In this case, we'll create a network that consists of 3 fully-connected layers:\n",
    "* An input layer that receives an input value for each feature (in this case, the four penguin measurements) and applies a *ReLU* activation function.\n",
    "* A hidden layer that receives ten inputs and applies a *ReLU* activation function.\n",
    "* An output layer that generates a non-negative numeric output for each penguin species (which a loss function will translate into classification probabilities for each of the three possible penguin species)."
   ]
  },
  {
   "cell_type": "code",
   "execution_count": 29,
   "metadata": {
    "tags": []
   },
   "outputs": [
    {
     "name": "stdout",
     "output_type": "stream",
     "text": [
      "PenguinNet(\n",
      "  (fc1): Linear(in_features=4, out_features=10, bias=True)\n",
      "  (fc2): Linear(in_features=10, out_features=10, bias=True)\n",
      "  (fc3): Linear(in_features=10, out_features=3, bias=True)\n",
      ")\n"
     ]
    }
   ],
   "source": [
    "# Number of hidden layer nodes\n",
    "hl = 10\n",
    "\n",
    "# Define the neural network\n",
    "class PenguinNet(nn.Module):\n",
    "    def __init__(self):\n",
    "        super(PenguinNet, self).__init__()\n",
    "        self.fc1 = nn.Linear(len(features), hl)\n",
    "        self.fc2 = nn.Linear(hl, hl)\n",
    "        self.fc3 = nn.Linear(hl, len(penguin_classes))\n",
    "\n",
    "    def forward(self, x):\n",
    "        x = torch.relu(self.fc1(x))\n",
    "        x = torch.relu(self.fc2(x))\n",
    "        x = torch.relu(self.fc3(x))\n",
    "        return x\n",
    "\n",
    "# Create a model instance from the network\n",
    "model = PenguinNet()\n",
    "print(model)"
   ]
  },
  {
   "cell_type": "markdown",
   "metadata": {},
   "source": [
    "## Train the model\n",
    "\n",
    "To train the model, we need to repeatedly feed the training values forward through the network, use a loss function to calculate the loss, use an optimizer to backpropagate the weight and bias value adjustments, and validate the model using the test data we withheld.\n",
    "\n",
    "To do this, we'll create a function to train and optimize the model, and function to test the model. Then we'll call these functions iteratively over 50 epochs, logging the loss and accuracy statistics for each epoch."
   ]
  },
  {
   "cell_type": "code",
   "execution_count": 30,
   "metadata": {
    "tags": []
   },
   "outputs": [
    {
     "name": "stdout",
     "output_type": "stream",
     "text": [
      "Epoch: 1\n",
      "Training set: Average loss: 1.166543\n",
      "Validation set: Average loss: 1.098612, Accuracy: 174/411 (42%)\n",
      "\n",
      "Epoch: 2\n",
      "Training set: Average loss: 1.098612\n",
      "Validation set: Average loss: 1.098612, Accuracy: 174/411 (42%)\n",
      "\n",
      "Epoch: 3\n",
      "Training set: Average loss: 1.098612\n",
      "Validation set: Average loss: 1.098612, Accuracy: 174/411 (42%)\n",
      "\n",
      "Epoch: 4\n",
      "Training set: Average loss: 1.098612\n",
      "Validation set: Average loss: 1.098612, Accuracy: 174/411 (42%)\n",
      "\n",
      "Epoch: 5\n",
      "Training set: Average loss: 1.098612\n",
      "Validation set: Average loss: 1.098612, Accuracy: 174/411 (42%)\n",
      "\n",
      "Epoch: 6\n",
      "Training set: Average loss: 1.098612\n",
      "Validation set: Average loss: 1.098612, Accuracy: 174/411 (42%)\n",
      "\n",
      "Epoch: 7\n",
      "Training set: Average loss: 1.098612\n",
      "Validation set: Average loss: 1.098612, Accuracy: 174/411 (42%)\n",
      "\n",
      "Epoch: 8\n",
      "Training set: Average loss: 1.098612\n",
      "Validation set: Average loss: 1.098612, Accuracy: 174/411 (42%)\n",
      "\n",
      "Epoch: 9\n",
      "Training set: Average loss: 1.098612\n",
      "Validation set: Average loss: 1.098612, Accuracy: 174/411 (42%)\n",
      "\n",
      "Epoch: 10\n",
      "Training set: Average loss: 1.098612\n",
      "Validation set: Average loss: 1.098612, Accuracy: 174/411 (42%)\n",
      "\n",
      "Epoch: 11\n",
      "Training set: Average loss: 1.098612\n",
      "Validation set: Average loss: 1.098612, Accuracy: 174/411 (42%)\n",
      "\n",
      "Epoch: 12\n",
      "Training set: Average loss: 1.098612\n",
      "Validation set: Average loss: 1.098612, Accuracy: 174/411 (42%)\n",
      "\n",
      "Epoch: 13\n",
      "Training set: Average loss: 1.098612\n",
      "Validation set: Average loss: 1.098612, Accuracy: 174/411 (42%)\n",
      "\n",
      "Epoch: 14\n",
      "Training set: Average loss: 1.098612\n",
      "Validation set: Average loss: 1.098612, Accuracy: 174/411 (42%)\n",
      "\n",
      "Epoch: 15\n",
      "Training set: Average loss: 1.098612\n",
      "Validation set: Average loss: 1.098612, Accuracy: 174/411 (42%)\n",
      "\n",
      "Epoch: 16\n",
      "Training set: Average loss: 1.098612\n",
      "Validation set: Average loss: 1.098612, Accuracy: 174/411 (42%)\n",
      "\n",
      "Epoch: 17\n",
      "Training set: Average loss: 1.098612\n",
      "Validation set: Average loss: 1.098612, Accuracy: 174/411 (42%)\n",
      "\n",
      "Epoch: 18\n",
      "Training set: Average loss: 1.098612\n",
      "Validation set: Average loss: 1.098612, Accuracy: 174/411 (42%)\n",
      "\n",
      "Epoch: 19\n",
      "Training set: Average loss: 1.098612\n",
      "Validation set: Average loss: 1.098612, Accuracy: 174/411 (42%)\n",
      "\n",
      "Epoch: 20\n",
      "Training set: Average loss: 1.098612\n",
      "Validation set: Average loss: 1.098612, Accuracy: 174/411 (42%)\n",
      "\n",
      "Epoch: 21\n",
      "Training set: Average loss: 1.098612\n",
      "Validation set: Average loss: 1.098612, Accuracy: 174/411 (42%)\n",
      "\n",
      "Epoch: 22\n",
      "Training set: Average loss: 1.098612\n",
      "Validation set: Average loss: 1.098612, Accuracy: 174/411 (42%)\n",
      "\n",
      "Epoch: 23\n",
      "Training set: Average loss: 1.098612\n",
      "Validation set: Average loss: 1.098612, Accuracy: 174/411 (42%)\n",
      "\n",
      "Epoch: 24\n",
      "Training set: Average loss: 1.098612\n",
      "Validation set: Average loss: 1.098612, Accuracy: 174/411 (42%)\n",
      "\n",
      "Epoch: 25\n",
      "Training set: Average loss: 1.098612\n",
      "Validation set: Average loss: 1.098612, Accuracy: 174/411 (42%)\n",
      "\n",
      "Epoch: 26\n",
      "Training set: Average loss: 1.098612\n",
      "Validation set: Average loss: 1.098612, Accuracy: 174/411 (42%)\n",
      "\n",
      "Epoch: 27\n",
      "Training set: Average loss: 1.098612\n",
      "Validation set: Average loss: 1.098612, Accuracy: 174/411 (42%)\n",
      "\n",
      "Epoch: 28\n",
      "Training set: Average loss: 1.098612\n",
      "Validation set: Average loss: 1.098612, Accuracy: 174/411 (42%)\n",
      "\n",
      "Epoch: 29\n",
      "Training set: Average loss: 1.098612\n",
      "Validation set: Average loss: 1.098612, Accuracy: 174/411 (42%)\n",
      "\n",
      "Epoch: 30\n",
      "Training set: Average loss: 1.098612\n",
      "Validation set: Average loss: 1.098612, Accuracy: 174/411 (42%)\n",
      "\n",
      "Epoch: 31\n",
      "Training set: Average loss: 1.098612\n",
      "Validation set: Average loss: 1.098612, Accuracy: 174/411 (42%)\n",
      "\n",
      "Epoch: 32\n",
      "Training set: Average loss: 1.098612\n",
      "Validation set: Average loss: 1.098612, Accuracy: 174/411 (42%)\n",
      "\n",
      "Epoch: 33\n",
      "Training set: Average loss: 1.098612\n",
      "Validation set: Average loss: 1.098612, Accuracy: 174/411 (42%)\n",
      "\n",
      "Epoch: 34\n",
      "Training set: Average loss: 1.098612\n",
      "Validation set: Average loss: 1.098612, Accuracy: 174/411 (42%)\n",
      "\n",
      "Epoch: 35\n",
      "Training set: Average loss: 1.098612\n",
      "Validation set: Average loss: 1.098612, Accuracy: 174/411 (42%)\n",
      "\n",
      "Epoch: 36\n",
      "Training set: Average loss: 1.098612\n",
      "Validation set: Average loss: 1.098612, Accuracy: 174/411 (42%)\n",
      "\n",
      "Epoch: 37\n",
      "Training set: Average loss: 1.098612\n",
      "Validation set: Average loss: 1.098612, Accuracy: 174/411 (42%)\n",
      "\n",
      "Epoch: 38\n",
      "Training set: Average loss: 1.098612\n",
      "Validation set: Average loss: 1.098612, Accuracy: 174/411 (42%)\n",
      "\n",
      "Epoch: 39\n",
      "Training set: Average loss: 1.098612\n",
      "Validation set: Average loss: 1.098612, Accuracy: 174/411 (42%)\n",
      "\n",
      "Epoch: 40\n",
      "Training set: Average loss: 1.098612\n",
      "Validation set: Average loss: 1.098612, Accuracy: 174/411 (42%)\n",
      "\n",
      "Epoch: 41\n",
      "Training set: Average loss: 1.098612\n",
      "Validation set: Average loss: 1.098612, Accuracy: 174/411 (42%)\n",
      "\n",
      "Epoch: 42\n",
      "Training set: Average loss: 1.098612\n",
      "Validation set: Average loss: 1.098612, Accuracy: 174/411 (42%)\n",
      "\n",
      "Epoch: 43\n",
      "Training set: Average loss: 1.098612\n",
      "Validation set: Average loss: 1.098612, Accuracy: 174/411 (42%)\n",
      "\n",
      "Epoch: 44\n",
      "Training set: Average loss: 1.098612\n",
      "Validation set: Average loss: 1.098612, Accuracy: 174/411 (42%)\n",
      "\n",
      "Epoch: 45\n",
      "Training set: Average loss: 1.098612\n",
      "Validation set: Average loss: 1.098612, Accuracy: 174/411 (42%)\n",
      "\n",
      "Epoch: 46\n",
      "Training set: Average loss: 1.098612\n",
      "Validation set: Average loss: 1.098612, Accuracy: 174/411 (42%)\n",
      "\n",
      "Epoch: 47\n",
      "Training set: Average loss: 1.098612\n",
      "Validation set: Average loss: 1.098612, Accuracy: 174/411 (42%)\n",
      "\n",
      "Epoch: 48\n",
      "Training set: Average loss: 1.098612\n",
      "Validation set: Average loss: 1.098612, Accuracy: 174/411 (42%)\n",
      "\n",
      "Epoch: 49\n",
      "Training set: Average loss: 1.098612\n",
      "Validation set: Average loss: 1.098612, Accuracy: 174/411 (42%)\n",
      "\n",
      "Epoch: 50\n",
      "Training set: Average loss: 1.098612\n",
      "Validation set: Average loss: 1.098612, Accuracy: 174/411 (42%)\n",
      "\n"
     ]
    }
   ],
   "source": [
    "def train(model, data_loader, optimizer):\n",
    "    # Set the model to training mode\n",
    "    model.train()\n",
    "    train_loss = 0\n",
    "    \n",
    "    for batch, tensor in enumerate(data_loader):\n",
    "        data, target = tensor\n",
    "        #feedforward\n",
    "        optimizer.zero_grad()\n",
    "        out = model(data)\n",
    "        loss = loss_criteria(out, target)\n",
    "        train_loss += loss.item()\n",
    "\n",
    "        # backpropagate\n",
    "        loss.backward()\n",
    "        optimizer.step()\n",
    "\n",
    "    #Return average loss\n",
    "    avg_loss = train_loss / (batch+1)\n",
    "    print('Training set: Average loss: {:.6f}'.format(avg_loss))\n",
    "    return avg_loss\n",
    "           \n",
    "            \n",
    "def test(model, data_loader):\n",
    "    # Switch the model to evaluation mode (so we don't backpropagate)\n",
    "    model.eval()\n",
    "    test_loss = 0\n",
    "    correct = 0\n",
    "\n",
    "    with torch.no_grad():\n",
    "        batch_count = 0\n",
    "        for batch, tensor in enumerate(data_loader):\n",
    "            batch_count += 1\n",
    "            data, target = tensor\n",
    "            # Get the predictions\n",
    "            out = model(data)\n",
    "\n",
    "            # calculate the loss\n",
    "            test_loss += loss_criteria(out, target).item()\n",
    "\n",
    "            # Calculate the accuracy\n",
    "            _, predicted = torch.max(out.data, 1)\n",
    "            correct += torch.sum(target==predicted).item()\n",
    "            \n",
    "    # Calculate the average loss and total accuracy for this epoch\n",
    "    avg_loss = test_loss/batch_count\n",
    "    print('Validation set: Average loss: {:.6f}, Accuracy: {}/{} ({:.0f}%)\\n'.format(\n",
    "        avg_loss, correct, len(data_loader.dataset),\n",
    "        100. * correct / len(data_loader.dataset)))\n",
    "    \n",
    "    # return average loss for the epoch\n",
    "    return avg_loss\n",
    "\n",
    "# Specify the loss criteria (we'll use CrossEntropyLoss for multi-class classification)\n",
    "loss_criteria = nn.CrossEntropyLoss()\n",
    "\n",
    "# Use an \"Adam\" optimizer to adjust weights\n",
    "# (see https://pytorch.org/docs/stable/optim.html#algorithms for details of supported algorithms)\n",
    "learning_rate = 0.001\n",
    "optimizer = torch.optim.Adam(model.parameters(), lr=learning_rate)\n",
    "optimizer.zero_grad()\n",
    "\n",
    "# We'll track metrics for each epoch in these arrays\n",
    "epoch_nums = []\n",
    "training_loss = []\n",
    "validation_loss = []\n",
    "\n",
    "# Train over 50 epochs\n",
    "epochs = 50\n",
    "for epoch in range(1, epochs + 1):\n",
    "\n",
    "    # print the epoch number\n",
    "    print('Epoch: {}'.format(epoch))\n",
    "    \n",
    "    # Feed training data into the model to optimize the weights\n",
    "    train_loss = train(model, train_loader, optimizer)\n",
    "    \n",
    "    # Feed the test data into the model to check its performance\n",
    "    test_loss = test(model, test_loader)\n",
    "    \n",
    "    # Log the metrics for this epoch\n",
    "    epoch_nums.append(epoch)\n",
    "    training_loss.append(train_loss)\n",
    "    validation_loss.append(test_loss)"
   ]
  },
  {
   "cell_type": "markdown",
   "metadata": {},
   "source": [
    "While the training process is running, let's try to understand what's happening:\n",
    "\n",
    "1. In each *epoch*, the full set of training data is passed forward through the network. There are four features for each observation, and four corresponding nodes in the input layer - so the features for each observation are passed as a vector of four values to that layer. However, for efficiency, the feature vectors are grouped into batches; so actually a matrix of multiple feature vectors is fed in each time.\n",
    "2. The matrix of feature values is processed by a function that performs a weighted sum using initialized weights and bias values. The result of this function is then processed by the activation function for the input layer to constrain the values passed to the nodes in the next layer.\n",
    "3. The weighted sum and activation functions are repeated in each layer. Note that the functions operate on vectors and matrices rather than individual scalar values. In other words, the forward pass is essentially a series of nested linear algebra functions. This is the reason data scientists prefer to use computers with graphical processing units (GPUs), since these are optimized for matrix and vector calculations.\n",
    "4. In the final layer of the network, the output vectors contain a calculated value for each possible class (in this case, classes 0, 1, and 2). This vector is processed by a *loss function* that converts these values to probabilities and determines how far they are from the expected values based on the actual classes - so for example, suppose the output for a Gentoo penguin (class 1) observation is \\[0.3, 0.4, 0.3\\]. The correct prediction would be \\[0.0, 1.0, 0.0\\], so the variance between the predicted and actual values (how far away each predicted value is from what it should be) is \\[0.3, 0.6, 0.3\\]. This variance is aggregated for each batch and maintained as a running aggregate to calculate the overall level of error (*loss*) incurred by the training data for the epoch. \n",
    "5. At the end of each epoch, the validation data is passed through the network, and its loss and accuracy (proportion of correct predictions based on the highest probability value in the output vector) are also calculated. It's important to do this because it enables us to compare the performance of the model using data on which it was not trained, helping us determine if it will generalize well for new data or if it's *overfitted* to the training data.\n",
    "6. After all the data has been passed forward through the network, the output of the loss function for the *training* data (but <u>not</u> the *validation* data) is passed to the opimizer. The precise details of how the optimizer processes the loss vary depending on the specific optimization algorithm being used; but fundamentally you can think of the entire network, from the input layer to the loss function as being one big nested (*composite*) function. The optimizer applies some differential calculus to calculate *partial derivatives* for the function with respect to each weight and bias value that was used in the network. It's possible to do this efficiently for a nested function due to something called the *chain rule*, which enables you to determine the derivative of a composite function from the derivatives of its inner function and outer functions. You don't really need to worry about the details of the math here (the optimizer does it for you), but the end result is that the partial derivatives tell us about the slope (or *gradient*) of the loss function with respect to each weight and bias value - in other words, we can determine whether to increase or decrease the weight and bias values in order to decrease the loss.\n",
    "7. Having determined in which direction to adjust the weights and biases, the optimizer uses the *learning rate* to determine by how much to adjust them; and then works backwards through the network in a process called *backpropagation* to assign new values to the weights and biases in each layer.\n",
    "8. Now the next epoch repeats the whole training, validation, and backpropagation process starting with the revised weights and biases from the previous epoch - which hopefully will result in a lower level of loss.\n",
    "9. The process continues like this for 50 epochs.\n",
    "\n",
    "## Review training and validation loss\n",
    "\n",
    "After training is complete, we can examine the loss metrics we recorded while training and validating the model. We're really looking for two things:\n",
    "* The loss should reduce with each epoch, showing that the model is learning the right weights and biases to predict the correct labels.\n",
    "* The training loss and validation loss should follow a similar trend, showing that the model is not overfitting to the training data.\n",
    "\n",
    "Let's plot the loss metrics and see:"
   ]
  },
  {
   "cell_type": "code",
   "execution_count": 31,
   "metadata": {},
   "outputs": [
    {
     "data": {
      "image/png": "[encoded data removed]",
      "text/plain": [
       "<Figure size 640x480 with 1 Axes>"
      ]
     },
     "metadata": {},
     "output_type": "display_data"
    }
   ],
   "source": [
    "plt.plot(epoch_nums, training_loss)\n",
    "plt.plot(epoch_nums, validation_loss)\n",
    "plt.xlabel('epoch')\n",
    "plt.ylabel('loss')\n",
    "plt.legend(['training', 'validation'], loc='upper right')\n",
    "plt.show()"
   ]
  },
  {
   "cell_type": "markdown",
   "metadata": {},
   "source": [
    "## View the learned weights and biases\n",
    "\n",
    "The trained model consists of the final weights and biases that were determined by the optimizer during training. Based on our network model we should expect the following values for each layer:\n",
    "* Layer 1: There are four input values going to ten output nodes, so there should be 10 x 4 weights and 10 bias values.\n",
    "* Layer 2: There are ten input values going to ten output nodes, so there should be 10 x 10 weights and 10 bias values.\n",
    "* Layer 3: There are ten input values going to three output nodes, so there should be 3 x 10 weights and 3 bias values."
   ]
  },
  {
   "cell_type": "code",
   "execution_count": 32,
   "metadata": {
    "tags": []
   },
   "outputs": [
    {
     "name": "stdout",
     "output_type": "stream",
     "text": [
      "fc1.weight \n",
      " [[ 0.35889655  0.3912057  -0.14046116  0.43606257]\n",
      " [-0.12339187  0.08485231 -0.25723436  0.28111932]\n",
      " [ 0.42649826 -0.37531966  0.41702724  0.07337324]\n",
      " [ 0.3733795   0.06673237  0.2461515  -0.06229892]\n",
      " [ 0.4084969   0.09715991 -0.21010269  0.15081696]\n",
      " [-0.20547357 -0.03349287 -0.17817229  0.35639763]\n",
      " [-0.3946851  -0.23050517 -0.14118737 -0.30063623]\n",
      " [ 0.04719156 -0.49383956  0.45155454 -0.42473412]\n",
      " [ 0.41056085  0.10816622 -0.13758935  0.33370316]\n",
      " [ 0.07432206  0.3959451   0.05205448 -0.15663616]]\n",
      "fc1.bias \n",
      " [ 0.11091828 -0.15021643  0.19562145  0.44943002  0.3123381  -0.19355758\n",
      "  0.28863233  0.08946311  0.27873573 -0.3094002 ]\n",
      "fc2.weight \n",
      " [[-0.31303653 -0.12217793 -0.24255392  0.25947717  0.0910835   0.13098583\n",
      "   0.10001057 -0.00550109  0.24748245 -0.22468412]\n",
      " [ 0.01991087 -0.21583816  0.09750947 -0.10890324  0.09689733 -0.06588337\n",
      "   0.26227674 -0.1874288  -0.1885976  -0.18860899]\n",
      " [ 0.26310757  0.08352916  0.28317657 -0.28206033 -0.33522132 -0.27245292\n",
      "  -0.21272296  0.12808493  0.09161437  0.24282622]\n",
      " [-0.16330804 -0.2155762   0.16778353 -0.12782069  0.19192615 -0.07504106\n",
      "   0.18089679 -0.24569885 -0.15958427  0.09641039]\n",
      " [ 0.04551026 -0.1034751   0.1671529   0.19452779 -0.25027147 -0.19282533\n",
      "   0.28955773 -0.10670553 -0.13353924 -0.3102461 ]\n",
      " [-0.18109423  0.07899484 -0.04173991 -0.2295453   0.00741765 -0.21600935\n",
      "  -0.2682866  -0.17413482 -0.27676636 -0.20135425]\n",
      " [ 0.30345735  0.03798025  0.08207324 -0.3060498  -0.219959   -0.128659\n",
      "   0.04944888 -0.27825555 -0.14935741 -0.18745579]\n",
      " [ 0.00087634 -0.11766937 -0.02191323 -0.21428533 -0.2170572  -0.18448785\n",
      "  -0.10824396 -0.24959253  0.26514748 -0.06275985]\n",
      " [ 0.27405703  0.11121691 -0.26478094  0.21846992 -0.08564295 -0.09760423\n",
      "  -0.26249135 -0.3143812   0.09302481 -0.08163059]\n",
      " [ 0.1402572  -0.24334301  0.25128144 -0.21498205 -0.03727722  0.0534491\n",
      "   0.16325316  0.25529394  0.3053414  -0.23235533]]\n",
      "fc2.bias \n",
      " [ 0.07958418 -0.13601777 -0.05598948 -0.23669335  0.26677302 -0.23209552\n",
      "  0.157655    0.11113495  0.10270842 -0.15327726]\n",
      "fc3.weight \n",
      " [[ 0.28743568  0.06949118  0.04067954 -0.27867723  0.13274878 -0.04744068\n",
      "  -0.14487162  0.27162275  0.07050261 -0.17496136]\n",
      " [-0.16005518 -0.01510167  0.15821977 -0.08080688 -0.1942804  -0.10828994\n",
      "  -0.25231147  0.11277708  0.22549488 -0.31742668]\n",
      " [ 0.07344413  0.16336066  0.03525618 -0.11261649  0.1453333   0.16618186\n",
      "   0.09833352 -0.05556798 -0.10631636  0.01097123]]\n",
      "fc3.bias \n",
      " [-0.05586293 -0.11362658  0.17960455]\n"
     ]
    }
   ],
   "source": [
    "for param_tensor in model.state_dict():\n",
    "    print(param_tensor, \"\\n\", model.state_dict()[param_tensor].numpy())"
   ]
  },
  {
   "cell_type": "markdown",
   "metadata": {},
   "source": [
    "## Evaluate model performance\n",
    "\n",
    "So, is the model any good? The raw accuracy reported from the validation data would seem to indicate that it predicts pretty well; but it's typically useful to dig a little deeper and compare the predictions for each possible class. A common way to visualize the performance of a classification model is to create a *confusion matrix* that shows a crosstab of correct and incorrect predictions for each class."
   ]
  },
  {
   "cell_type": "code",
   "execution_count": 33,
   "metadata": {},
   "outputs": [
    {
     "data": {
      "image/png": "[encoded data removed]",
      "text/plain": [
       "<Figure size 640x480 with 2 Axes>"
      ]
     },
     "metadata": {},
     "output_type": "display_data"
    }
   ],
   "source": [
    "# Set the model to evaluate mode\n",
    "model.eval()\n",
    "\n",
    "# Get predictions for the test data\n",
    "x = torch.Tensor(X_test).float()\n",
    "_, predicted = torch.max(model(x).data, 1)\n",
    "\n",
    "# Plot the confusion matrix\n",
    "cm = confusion_matrix(y_test, predicted.numpy())\n",
    "plt.imshow(cm, interpolation=\"nearest\", cmap=plt.cm.Blues)\n",
    "plt.colorbar()\n",
    "tick_marks = np.arange(len(penguin_classes))\n",
    "plt.xticks(tick_marks, penguin_classes, rotation=45)\n",
    "plt.yticks(tick_marks, penguin_classes)\n",
    "plt.xlabel(\"Predicted Species\")\n",
    "plt.ylabel(\"Actual Species\")\n",
    "plt.show()"
   ]
  },
  {
   "cell_type": "markdown",
   "metadata": {},
   "source": [
    "The confusion matrix should show a strong diagonal line indicating that there are more correct than incorrect predictions for each class.\n",
    "\n",
    "## Save the trained model\n",
    "Now that we have a model we believe is reasonably accurate, we can save its trained weights for use later."
   ]
  },
  {
   "cell_type": "code",
   "execution_count": 34,
   "metadata": {},
   "outputs": [
    {
     "name": "stdout",
     "output_type": "stream",
     "text": [
      "model saved as models/penguin_classifier.pt\n"
     ]
    }
   ],
   "source": [
    "# Save the model weights\n",
    "model_file = 'models/penguin_classifier.pt'\n",
    "torch.save(model.state_dict(), model_file)\n",
    "del model\n",
    "print('model saved as', model_file)"
   ]
  },
  {
   "cell_type": "markdown",
   "metadata": {},
   "source": [
    "## Use the trained model\n",
    "\n",
    "When we have a new penguin observation, we can use the model to predict the species."
   ]
  },
  {
   "cell_type": "code",
   "execution_count": 35,
   "metadata": {
    "tags": []
   },
   "outputs": [
    {
     "name": "stdout",
     "output_type": "stream",
     "text": [
      "New sample: [[50.4, 15.3, 20, 50]]\n",
      "Prediction: Adelie\n"
     ]
    }
   ],
   "source": [
    "# New penguin features\n",
    "X_new = [[50.4,15.3,20,50]]\n",
    "print ('New sample: {}'.format(X_new))\n",
    "\n",
    "# Create a new model class and load weights\n",
    "model = PenguinNet()\n",
    "model.load_state_dict(torch.load(model_file))\n",
    "\n",
    "# Set model to evaluation mode\n",
    "model.eval()\n",
    "\n",
    "# Get a prediction for the new data sample\n",
    "x = torch.Tensor(X_new).float()\n",
    "_, predicted = torch.max(model(x).data, 1)\n",
    "\n",
    "print('Prediction:',penguin_classes[predicted.item()])"
   ]
  },
  {
   "cell_type": "markdown",
   "metadata": {},
   "source": [
    "## Learn more\n",
    "\n",
    "This notebook was designed to help you understand the basic concepts and principles involved in deep neural networks, using a simple PyTorch example. To learn more about PyTorch, take a look at the [tutorials on the PyTorch web site](https://pytorch.org/tutorials/)."
   ]
  }
 ],
 "metadata": {
  "kernelspec": {
   "display_name": "Python 3.9.2 64-bit",
   "language": "python",
   "name": "python3"
  },
  "language_info": {
   "codemirror_mode": {
    "name": "ipython",
    "version": 3
   },
   "file_extension": ".py",
   "mimetype": "text/x-python",
   "name": "python",
   "nbconvert_exporter": "python",
   "pygments_lexer": "ipython3",
   "version": "3.9.2"
  },
  "vscode": {
   "interpreter": {
    "hash": "01fd550304b9e7cfb3e25c8e3ca63c0030fb0173de6652dd3d36373edc7c122f"
   }
  }
 },
 "nbformat": 4,
 "nbformat_minor": 2
}
