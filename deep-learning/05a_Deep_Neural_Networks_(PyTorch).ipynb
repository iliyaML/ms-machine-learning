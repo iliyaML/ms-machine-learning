{
 "cells": [
  {
   "cell_type": "markdown",
   "metadata": {},
   "source": [
    "# Deep Learning with PyTorch\n",
    "\n",
    "Classical machine learning relies on using statistics to determine relationships between features and labels, and can be very effective for creating predictive models. However, a massive growth in the availability of data coupled with advances in the computing technology required to process it has led to the emergence of new machine learning techniques that mimic the way the brain processes information in a structure called an artificial neural network.\n",
    "\n",
    "PyTorch is a framework for creating machine learning models, including deep neural networks (DNNs). In this example, we'll use PyTorch to create a simple neural network that classifies penguins into species based on the length and depth of their culmen (bill), their flipper length, and their body mass.\n",
    "\n",
    "> **Citation**: The penguins dataset used in the this exercise is a subset of data collected and made available by [Dr. Kristen\n",
    "Gorman](https://www.uaf.edu/cfos/people/faculty/detail/kristen-gorman.php)\n",
    "and the [Palmer Station, Antarctica LTER](https://pal.lternet.edu/), a\n",
    "member of the [Long Term Ecological Research\n",
    "Network](https://lternet.edu/).\n",
    "\n",
    "## Explore the Dataset\n",
    "\n",
    "Before we start using PyTorch to create a model, let's load the data we need from the Palmer Islands penguins dataset, which contains observations of three different species of penguin.\n",
    "\n",
    "> **Note**: In reality, you can solve the penguin classification problem easily using classical machine learning techniques without the need for a deep learning model; but it's a useful, easy to understand dataset with which to demonstrate the principles of neural networks in this notebook."
   ]
  },
  {
   "cell_type": "code",
   "execution_count": 1,
   "metadata": {},
   "outputs": [
    {
     "name": "stderr",
     "output_type": "stream",
     "text": [
      "--2022-10-30 20:23:42--  https://raw.githubusercontent.com/MicrosoftDocs/mslearn-introduction-to-machine-learning/main/Data/ml-basics/penguins.csv\n",
      "Resolving raw.githubusercontent.com (raw.githubusercontent.com)... 185.199.108.133, 185.199.109.133, 185.199.110.133, ...\n",
      "Connecting to raw.githubusercontent.com (raw.githubusercontent.com)|185.199.108.133|:443... connected.\n",
      "HTTP request sent, awaiting response... 200 OK\n",
      "Length: 7086 (6.9K) [text/plain]\n",
      "Saving to: 'data/penguins.csv'\n",
      "\n",
      "     0K ......                                                100% 2.58M=0.003s\n",
      "\n",
      "2022-10-30 20:23:43 (2.58 MB/s) - 'data/penguins.csv' saved [7086/7086]\n",
      "\n"
     ]
    }
   ],
   "source": [
    "!wget -P data https://raw.githubusercontent.com/MicrosoftDocs/mslearn-introduction-to-machine-learning/main/Data/ml-basics/penguins.csv"
   ]
  },
  {
   "cell_type": "code",
   "execution_count": 2,
   "metadata": {},
   "outputs": [],
   "source": [
    "import numpy as np\n",
    "import pandas as pd\n",
    "import matplotlib.pyplot as plt\n",
    "\n",
    "%matplotlib inline\n",
    "\n",
    "from sklearn.model_selection import train_test_split\n",
    "from sklearn.metrics import confusion_matrix\n",
    "\n",
    "import torch\n",
    "import torch.nn as nn\n",
    "import torch.utils.data as td"
   ]
  },
  {
   "cell_type": "code",
   "execution_count": 3,
   "metadata": {},
   "outputs": [
    {
     "data": {
      "text/html": [
       "<div>\n",
       "<style scoped>\n",
       "    .dataframe tbody tr th:only-of-type {\n",
       "        vertical-align: middle;\n",
       "    }\n",
       "\n",
       "    .dataframe tbody tr th {\n",
       "        vertical-align: top;\n",
       "    }\n",
       "\n",
       "    .dataframe thead th {\n",
       "        text-align: right;\n",
       "    }\n",
       "</style>\n",
       "<table border=\"1\" class=\"dataframe\">\n",
       "  <thead>\n",
       "    <tr style=\"text-align: right;\">\n",
       "      <th></th>\n",
       "      <th>CulmenLength</th>\n",
       "      <th>CulmenDepth</th>\n",
       "      <th>FlipperLength</th>\n",
       "      <th>BodyMass</th>\n",
       "      <th>Species</th>\n",
       "    </tr>\n",
       "  </thead>\n",
       "  <tbody>\n",
       "    <tr>\n",
       "      <th>313</th>\n",
       "      <td>52.0</td>\n",
       "      <td>20.7</td>\n",
       "      <td>21.0</td>\n",
       "      <td>48.0</td>\n",
       "      <td>2</td>\n",
       "    </tr>\n",
       "    <tr>\n",
       "      <th>304</th>\n",
       "      <td>46.4</td>\n",
       "      <td>17.8</td>\n",
       "      <td>19.1</td>\n",
       "      <td>37.0</td>\n",
       "      <td>2</td>\n",
       "    </tr>\n",
       "    <tr>\n",
       "      <th>29</th>\n",
       "      <td>40.5</td>\n",
       "      <td>18.9</td>\n",
       "      <td>18.0</td>\n",
       "      <td>39.5</td>\n",
       "      <td>0</td>\n",
       "    </tr>\n",
       "    <tr>\n",
       "      <th>87</th>\n",
       "      <td>36.9</td>\n",
       "      <td>18.6</td>\n",
       "      <td>18.9</td>\n",
       "      <td>35.0</td>\n",
       "      <td>0</td>\n",
       "    </tr>\n",
       "    <tr>\n",
       "      <th>213</th>\n",
       "      <td>46.2</td>\n",
       "      <td>14.9</td>\n",
       "      <td>22.1</td>\n",
       "      <td>53.0</td>\n",
       "      <td>1</td>\n",
       "    </tr>\n",
       "    <tr>\n",
       "      <th>207</th>\n",
       "      <td>45.0</td>\n",
       "      <td>15.4</td>\n",
       "      <td>22.0</td>\n",
       "      <td>50.5</td>\n",
       "      <td>1</td>\n",
       "    </tr>\n",
       "    <tr>\n",
       "      <th>155</th>\n",
       "      <td>50.0</td>\n",
       "      <td>15.2</td>\n",
       "      <td>21.8</td>\n",
       "      <td>57.0</td>\n",
       "      <td>1</td>\n",
       "    </tr>\n",
       "    <tr>\n",
       "      <th>124</th>\n",
       "      <td>35.2</td>\n",
       "      <td>15.9</td>\n",
       "      <td>18.6</td>\n",
       "      <td>30.5</td>\n",
       "      <td>0</td>\n",
       "    </tr>\n",
       "    <tr>\n",
       "      <th>303</th>\n",
       "      <td>49.5</td>\n",
       "      <td>19.0</td>\n",
       "      <td>20.0</td>\n",
       "      <td>38.0</td>\n",
       "      <td>2</td>\n",
       "    </tr>\n",
       "    <tr>\n",
       "      <th>13</th>\n",
       "      <td>38.6</td>\n",
       "      <td>21.2</td>\n",
       "      <td>19.1</td>\n",
       "      <td>38.0</td>\n",
       "      <td>0</td>\n",
       "    </tr>\n",
       "  </tbody>\n",
       "</table>\n",
       "</div>"
      ],
      "text/plain": [
       "     CulmenLength  CulmenDepth  FlipperLength  BodyMass  Species\n",
       "313          52.0         20.7           21.0      48.0        2\n",
       "304          46.4         17.8           19.1      37.0        2\n",
       "29           40.5         18.9           18.0      39.5        0\n",
       "87           36.9         18.6           18.9      35.0        0\n",
       "213          46.2         14.9           22.1      53.0        1\n",
       "207          45.0         15.4           22.0      50.5        1\n",
       "155          50.0         15.2           21.8      57.0        1\n",
       "124          35.2         15.9           18.6      30.5        0\n",
       "303          49.5         19.0           20.0      38.0        2\n",
       "13           38.6         21.2           19.1      38.0        0"
      ]
     },
     "execution_count": 3,
     "metadata": {},
     "output_type": "execute_result"
    }
   ],
   "source": [
    "# Constants\n",
    "RANDOM_STATE = 42\n",
    "\n",
    "# load the training dataset (excluding rows with null values)\n",
    "penguins_df = pd.read_csv('data/penguins.csv').dropna()\n",
    "\n",
    "# Deep Learning models work best when features are on similar scales\n",
    "# In a real solution, we'd implement some custom normalization for each feature, but to keep things simple\n",
    "# we'll just rescale the FlipperLength and BodyMass so they're on a similar scale to the bill measurements\n",
    "penguins_df['FlipperLength'] = penguins_df['FlipperLength']/10\n",
    "penguins_df['BodyMass'] = penguins_df['BodyMass']/100\n",
    "\n",
    "# The dataset is too small to be useful for deep learning\n",
    "# So we'll oversample it to increase its size\n",
    "for i in range(1, 3):\n",
    "    penguins_df = penguins_df.append(penguins_df)\n",
    "\n",
    "# Display a random sample of 10 observations\n",
    "sample_df = penguins_df.sample(10)\n",
    "sample_df"
   ]
  },
  {
   "cell_type": "markdown",
   "metadata": {},
   "source": [
    "The **Species** column is the label our model will predict. Each label value represents a class of penguin species, encoded as 0, 1, or 2. The following code shows the actual species to which these class labels corrrespond."
   ]
  },
  {
   "cell_type": "code",
   "execution_count": 4,
   "metadata": {
    "tags": []
   },
   "outputs": [
    {
     "name": "stdout",
     "output_type": "stream",
     "text": [
      "['CulmenLength' 'CulmenDepth' 'FlipperLength' 'BodyMass' 'Species'] SpeciesName\n",
      "[ 49.0 16.1 21.6 55.5 1 ] Gentoo\n",
      "[ 46.8 15.4 21.5 51.5 1 ] Gentoo\n",
      "[ 43.5 18.1 20.2 34.0 2 ] Chinstrap\n",
      "[ 35.7 18.0 20.2 35.5 0 ] Adelie\n",
      "[ 44.5 15.7 21.7 48.75 1 ] Gentoo\n",
      "[ 39.6 20.7 19.1 39.0 0 ] Adelie\n",
      "[ 37.8 17.3 18.0 37.0 0 ] Adelie\n",
      "[ 40.2 20.1 20.0 39.75 0 ] Adelie\n",
      "[ 47.2 15.5 21.5 49.75 1 ] Gentoo\n",
      "[ 45.7 17.0 19.5 36.5 2 ] Chinstrap\n"
     ]
    }
   ],
   "source": [
    "penguin_classes_ls = ['Adelie', 'Gentoo', 'Chinstrap']\n",
    "print(sample_df.columns[0:5].values, 'SpeciesName')\n",
    "for index, row in penguins_df.sample(10).iterrows():\n",
    "    print('[',row[0], row[1], row[2],row[3], int(row[4]), ']', penguin_classes_ls[int(row[-1])])"
   ]
  },
  {
   "cell_type": "markdown",
   "metadata": {},
   "source": [
    "As is common in a supervised learning problem, we'll split the dataset into a set of records with which to train the model, and a smaller set with which to validate the trained model."
   ]
  },
  {
   "cell_type": "code",
   "execution_count": 5,
   "metadata": {
    "tags": []
   },
   "outputs": [
    {
     "name": "stdout",
     "output_type": "stream",
     "text": [
      "Training Set: 957, Test Set: 411 \n",
      "\n",
      "Sample of features and labels:\n",
      "[43.2 14.5 20.8 44.5] 1 (Gentoo)\n",
      "[40.8 18.4 19.5 39. ] 0 (Adelie)\n",
      "[50.  16.3 23.  57. ] 1 (Gentoo)\n",
      "[38.5  17.9  19.   33.25] 0 (Adelie)\n",
      "[45.3 13.8 20.8 42. ] 1 (Gentoo)\n",
      "[45.1 14.4 21.  44. ] 1 (Gentoo)\n",
      "[40.6 18.8 19.3 38. ] 0 (Adelie)\n",
      "[50.6 19.4 19.3 38. ] 2 (Chinstrap)\n",
      "[49.6 15.  21.6 47.5] 1 (Gentoo)\n",
      "[42.5 17.3 18.7 33.5] 2 (Chinstrap)\n",
      "[41.   20.   20.3  47.25] 0 (Adelie)\n",
      "[50.9  17.9  19.6  36.75] 2 (Chinstrap)\n",
      "[40.8 18.9 20.8 43. ] 0 (Adelie)\n",
      "[37.3 17.8 19.1 33.5] 0 (Adelie)\n",
      "[38.5  17.9  19.   33.25] 0 (Adelie)\n",
      "[42.2  19.5  19.7  42.75] 0 (Adelie)\n",
      "[38.6 21.2 19.1 38. ] 0 (Adelie)\n",
      "[43.2 14.5 20.8 44.5] 1 (Gentoo)\n",
      "[50.2 14.3 21.8 57. ] 1 (Gentoo)\n",
      "[39.  17.5 18.6 35.5] 0 (Adelie)\n",
      "[51.1 16.3 22.  60. ] 1 (Gentoo)\n",
      "[48.1 15.1 20.9 55. ] 1 (Gentoo)\n",
      "[54.2 20.8 20.1 43. ] 2 (Chinstrap)\n",
      "[42.5 20.7 19.7 45. ] 0 (Adelie)\n"
     ]
    }
   ],
   "source": [
    "features_ls = ['CulmenLength','CulmenDepth','FlipperLength','BodyMass']\n",
    "label = 'Species'\n",
    "   \n",
    "# Split data 70%-30% into training set and test set\n",
    "X_train, X_test, y_train, y_test = train_test_split(penguins_df[features_ls].values,\n",
    "                                                    penguins_df[label].values,\n",
    "                                                    test_size=0.30,\n",
    "                                                    random_state=RANDOM_STATE)\n",
    "\n",
    "print ('Training Set: %d, Test Set: %d \\n' % (len(X_train), len(X_test)))\n",
    "print(\"Sample of features and labels:\")\n",
    "\n",
    "# Take a look at the first 25 training features and corresponding labels\n",
    "for n in range(0,24):\n",
    "    print(X_train[n], y_train[n], '(' + penguin_classes_ls[y_train[n]] + ')')"
   ]
  },
  {
   "cell_type": "markdown",
   "metadata": {},
   "source": [
    "The *features* are the measurements for each penguin observation, and the *label* is a numeric value that indicates the species of penguin that the observation represents (Adelie, Gentoo, or Chinstrap).\n",
    "\n",
    "## Install and import the PyTorch libraries\n",
    "\n",
    "Since we plan to use PyTorch to create our penguin classifier, we'll need to run the following two cells to install and import the PyTorch libraries we intend to use. The specific installation of of PyTorch depends on your operating system and whether your computer has graphics processing units (GPUs) that can be used for high-performance processing via *cuda*. You can find detailed instructions at https://pytorch.org/get-started/locally/."
   ]
  },
  {
   "cell_type": "code",
   "execution_count": 6,
   "metadata": {},
   "outputs": [],
   "source": [
    "# !pip install torch==1.9.0+cpu torchvision==0.10.0+cpu torchaudio==0.9.0 -f https://download.pytorch.org/whl/torch_stable.html"
   ]
  },
  {
   "cell_type": "code",
   "execution_count": 7,
   "metadata": {
    "tags": []
   },
   "outputs": [
    {
     "name": "stdout",
     "output_type": "stream",
     "text": [
      "Libraries imported - ready to use PyTorch 1.12.1+cpu\n"
     ]
    }
   ],
   "source": [
    "# Set random seed for reproducability\n",
    "torch.manual_seed(0)\n",
    "\n",
    "print(\"Libraries imported - ready to use PyTorch\", torch.__version__)"
   ]
  },
  {
   "cell_type": "markdown",
   "metadata": {},
   "source": [
    "## Prepare the data for PyTorch\n",
    "\n",
    "PyTorch makes use of *data loaders* to load training and validation data in batches. We've already loaded the data into numpy arrays, but we need to wrap those in PyTorch datasets (in which the data is converted to PyTorch *tensor* objects) and create loaders to read batches from those datasets."
   ]
  },
  {
   "cell_type": "code",
   "execution_count": 8,
   "metadata": {
    "tags": []
   },
   "outputs": [
    {
     "name": "stdout",
     "output_type": "stream",
     "text": [
      "Ready to load data\n"
     ]
    }
   ],
   "source": [
    "# Create a dataset and loader for the training data and labels\n",
    "train_X = torch.Tensor(X_train).float()\n",
    "train_y = torch.Tensor(y_train).long()\n",
    "train_ds = td.TensorDataset(train_X, train_y)\n",
    "train_loader = td.DataLoader(train_ds, batch_size=20,\n",
    "    shuffle=False, num_workers=1)\n",
    "\n",
    "# Create a dataset and loader for the test data and labels\n",
    "test_X = torch.Tensor(X_test).float()\n",
    "test_y = torch.Tensor(y_test).long()\n",
    "test_ds = td.TensorDataset(test_X, test_y)\n",
    "test_loader = td.DataLoader(test_ds, batch_size=20,\n",
    "    shuffle=False, num_workers=1)\n",
    "print('Ready to load data')"
   ]
  },
  {
   "cell_type": "code",
   "execution_count": 9,
   "metadata": {},
   "outputs": [
    {
     "data": {
      "text/plain": [
       "array([[43.2 , 14.5 , 20.8 , 44.5 ],\n",
       "       [40.8 , 18.4 , 19.5 , 39.  ],\n",
       "       [50.  , 16.3 , 23.  , 57.  ],\n",
       "       ...,\n",
       "       [48.8 , 16.2 , 22.2 , 60.  ],\n",
       "       [46.1 , 15.1 , 21.5 , 51.  ],\n",
       "       [41.  , 20.  , 20.3 , 47.25]])"
      ]
     },
     "execution_count": 9,
     "metadata": {},
     "output_type": "execute_result"
    }
   ],
   "source": [
    "X_train"
   ]
  },
  {
   "cell_type": "code",
   "execution_count": 10,
   "metadata": {},
   "outputs": [
    {
     "data": {
      "text/plain": [
       "tensor([[36.3000, 19.5000, 19.0000, 38.0000],\n",
       "        [37.6000, 17.0000, 18.5000, 36.0000],\n",
       "        [45.7000, 17.3000, 19.3000, 36.0000],\n",
       "        ...,\n",
       "        [45.6000, 19.4000, 19.4000, 35.2500],\n",
       "        [42.4000, 17.3000, 18.1000, 36.0000],\n",
       "        [52.5000, 15.6000, 22.1000, 54.5000]])"
      ]
     },
     "execution_count": 10,
     "metadata": {},
     "output_type": "execute_result"
    }
   ],
   "source": [
    "test_X"
   ]
  },
  {
   "cell_type": "markdown",
   "metadata": {},
   "source": [
    "## Define a neural network\n",
    "\n",
    "Now we're ready to define our neural network. In this case, we'll create a network that consists of 3 fully-connected layers:\n",
    "* An input layer that receives an input value for each feature (in this case, the four penguin measurements) and applies a *ReLU* activation function.\n",
    "* A hidden layer that receives ten inputs and applies a *ReLU* activation function.\n",
    "* An output layer that generates a non-negative numeric output for each penguin species (which a loss function will translate into classification probabilities for each of the three possible penguin species)."
   ]
  },
  {
   "cell_type": "code",
   "execution_count": 11,
   "metadata": {
    "tags": []
   },
   "outputs": [
    {
     "name": "stdout",
     "output_type": "stream",
     "text": [
      "PenguinNet(\n",
      "  (fc1): Linear(in_features=4, out_features=10, bias=True)\n",
      "  (fc2): Linear(in_features=10, out_features=10, bias=True)\n",
      "  (fc3): Linear(in_features=10, out_features=3, bias=True)\n",
      ")\n"
     ]
    }
   ],
   "source": [
    "# Number of hidden layer nodes\n",
    "hl = 10\n",
    "\n",
    "# Define the neural network\n",
    "class PenguinNet(nn.Module):\n",
    "    def __init__(self):\n",
    "        super(PenguinNet, self).__init__()\n",
    "        self.fc1 = nn.Linear(len(features_ls), hl)\n",
    "        self.fc2 = nn.Linear(hl, hl)\n",
    "        self.fc3 = nn.Linear(hl, len(penguin_classes_ls))\n",
    "\n",
    "    def forward(self, x):\n",
    "        x = torch.relu(self.fc1(x))\n",
    "        x = torch.relu(self.fc2(x))\n",
    "        x = torch.relu(self.fc3(x))\n",
    "        return x\n",
    "\n",
    "# Create a model instance from the network\n",
    "model = PenguinNet()\n",
    "print(model)"
   ]
  },
  {
   "cell_type": "markdown",
   "metadata": {},
   "source": [
    "## Train the model\n",
    "\n",
    "To train the model, we need to repeatedly feed the training values forward through the network, use a loss function to calculate the loss, use an optimizer to backpropagate the weight and bias value adjustments, and validate the model using the test data we withheld.\n",
    "\n",
    "To do this, we'll create a function to train and optimize the model, and function to test the model. Then we'll call these functions iteratively over 50 epochs, logging the loss and accuracy statistics for each epoch."
   ]
  },
  {
   "cell_type": "code",
   "execution_count": 12,
   "metadata": {
    "tags": []
   },
   "outputs": [
    {
     "name": "stdout",
     "output_type": "stream",
     "text": [
      "Epoch: 1\n",
      "Training set: Average loss: 1.130481\n",
      "Validation set: Average loss: 1.022544, Accuracy: 148/411 (36%)\n",
      "\n",
      "Epoch: 2\n",
      "Training set: Average loss: 1.006885\n",
      "Validation set: Average loss: 0.975683, Accuracy: 183/411 (45%)\n",
      "\n",
      "Epoch: 3\n",
      "Training set: Average loss: 0.958253\n",
      "Validation set: Average loss: 0.917766, Accuracy: 233/411 (57%)\n",
      "\n",
      "Epoch: 4\n",
      "Training set: Average loss: 0.901445\n",
      "Validation set: Average loss: 0.855363, Accuracy: 256/411 (62%)\n",
      "\n",
      "Epoch: 5\n",
      "Training set: Average loss: 0.845791\n",
      "Validation set: Average loss: 0.799371, Accuracy: 265/411 (64%)\n",
      "\n",
      "Epoch: 6\n",
      "Training set: Average loss: 0.798196\n",
      "Validation set: Average loss: 0.752377, Accuracy: 274/411 (67%)\n",
      "\n",
      "Epoch: 7\n",
      "Training set: Average loss: 0.757733\n",
      "Validation set: Average loss: 0.714905, Accuracy: 294/411 (72%)\n",
      "\n",
      "Epoch: 8\n",
      "Training set: Average loss: 0.725297\n",
      "Validation set: Average loss: 0.686490, Accuracy: 303/411 (74%)\n",
      "\n",
      "Epoch: 9\n",
      "Training set: Average loss: 0.698703\n",
      "Validation set: Average loss: 0.663162, Accuracy: 325/411 (79%)\n",
      "\n",
      "Epoch: 10\n",
      "Training set: Average loss: 0.676236\n",
      "Validation set: Average loss: 0.644822, Accuracy: 331/411 (81%)\n",
      "\n",
      "Epoch: 11\n",
      "Training set: Average loss: 0.658106\n",
      "Validation set: Average loss: 0.629956, Accuracy: 333/411 (81%)\n",
      "\n",
      "Epoch: 12\n",
      "Training set: Average loss: 0.642625\n",
      "Validation set: Average loss: 0.617187, Accuracy: 336/411 (82%)\n",
      "\n",
      "Epoch: 13\n",
      "Training set: Average loss: 0.629437\n",
      "Validation set: Average loss: 0.606232, Accuracy: 338/411 (82%)\n",
      "\n",
      "Epoch: 14\n",
      "Training set: Average loss: 0.617006\n",
      "Validation set: Average loss: 0.596308, Accuracy: 348/411 (85%)\n",
      "\n",
      "Epoch: 15\n",
      "Training set: Average loss: 0.606212\n",
      "Validation set: Average loss: 0.587468, Accuracy: 353/411 (86%)\n",
      "\n",
      "Epoch: 16\n",
      "Training set: Average loss: 0.596899\n",
      "Validation set: Average loss: 0.579571, Accuracy: 357/411 (87%)\n",
      "\n",
      "Epoch: 17\n",
      "Training set: Average loss: 0.588711\n",
      "Validation set: Average loss: 0.572528, Accuracy: 362/411 (88%)\n",
      "\n",
      "Epoch: 18\n",
      "Training set: Average loss: 0.581323\n",
      "Validation set: Average loss: 0.566598, Accuracy: 367/411 (89%)\n",
      "\n",
      "Epoch: 19\n",
      "Training set: Average loss: 0.574954\n",
      "Validation set: Average loss: 0.560545, Accuracy: 369/411 (90%)\n",
      "\n",
      "Epoch: 20\n",
      "Training set: Average loss: 0.569205\n",
      "Validation set: Average loss: 0.555618, Accuracy: 373/411 (91%)\n",
      "\n",
      "Epoch: 21\n",
      "Training set: Average loss: 0.563783\n",
      "Validation set: Average loss: 0.551883, Accuracy: 376/411 (91%)\n",
      "\n",
      "Epoch: 22\n",
      "Training set: Average loss: 0.559471\n",
      "Validation set: Average loss: 0.547892, Accuracy: 376/411 (91%)\n",
      "\n",
      "Epoch: 23\n",
      "Training set: Average loss: 0.555586\n",
      "Validation set: Average loss: 0.544413, Accuracy: 377/411 (92%)\n",
      "\n",
      "Epoch: 24\n",
      "Training set: Average loss: 0.551986\n",
      "Validation set: Average loss: 0.541299, Accuracy: 379/411 (92%)\n",
      "\n",
      "Epoch: 25\n",
      "Training set: Average loss: 0.548564\n",
      "Validation set: Average loss: 0.538561, Accuracy: 384/411 (93%)\n",
      "\n",
      "Epoch: 26\n",
      "Training set: Average loss: 0.545555\n",
      "Validation set: Average loss: 0.536280, Accuracy: 384/411 (93%)\n",
      "\n",
      "Epoch: 27\n",
      "Training set: Average loss: 0.543100\n",
      "Validation set: Average loss: 0.533053, Accuracy: 384/411 (93%)\n",
      "\n",
      "Epoch: 28\n",
      "Training set: Average loss: 0.539738\n",
      "Validation set: Average loss: 0.530947, Accuracy: 384/411 (93%)\n",
      "\n",
      "Epoch: 29\n",
      "Training set: Average loss: 0.537685\n",
      "Validation set: Average loss: 0.529124, Accuracy: 387/411 (94%)\n",
      "\n",
      "Epoch: 30\n",
      "Training set: Average loss: 0.535572\n",
      "Validation set: Average loss: 0.527326, Accuracy: 387/411 (94%)\n",
      "\n",
      "Epoch: 31\n",
      "Training set: Average loss: 0.533504\n",
      "Validation set: Average loss: 0.525654, Accuracy: 387/411 (94%)\n",
      "\n",
      "Epoch: 32\n",
      "Training set: Average loss: 0.531641\n",
      "Validation set: Average loss: 0.523886, Accuracy: 387/411 (94%)\n",
      "\n",
      "Epoch: 33\n",
      "Training set: Average loss: 0.529801\n",
      "Validation set: Average loss: 0.522314, Accuracy: 387/411 (94%)\n",
      "\n",
      "Epoch: 34\n",
      "Training set: Average loss: 0.528162\n",
      "Validation set: Average loss: 0.520945, Accuracy: 385/411 (94%)\n",
      "\n",
      "Epoch: 35\n",
      "Training set: Average loss: 0.526588\n",
      "Validation set: Average loss: 0.519698, Accuracy: 385/411 (94%)\n",
      "\n",
      "Epoch: 36\n",
      "Training set: Average loss: 0.525207\n",
      "Validation set: Average loss: 0.518741, Accuracy: 385/411 (94%)\n",
      "\n",
      "Epoch: 37\n",
      "Training set: Average loss: 0.524098\n",
      "Validation set: Average loss: 0.517862, Accuracy: 385/411 (94%)\n",
      "\n",
      "Epoch: 38\n",
      "Training set: Average loss: 0.522557\n",
      "Validation set: Average loss: 0.516852, Accuracy: 385/411 (94%)\n",
      "\n",
      "Epoch: 39\n",
      "Training set: Average loss: 0.521622\n",
      "Validation set: Average loss: 0.515798, Accuracy: 385/411 (94%)\n",
      "\n",
      "Epoch: 40\n",
      "Training set: Average loss: 0.520443\n",
      "Validation set: Average loss: 0.514672, Accuracy: 387/411 (94%)\n",
      "\n",
      "Epoch: 41\n",
      "Training set: Average loss: 0.519456\n",
      "Validation set: Average loss: 0.513856, Accuracy: 387/411 (94%)\n",
      "\n",
      "Epoch: 42\n",
      "Training set: Average loss: 0.518588\n",
      "Validation set: Average loss: 0.512974, Accuracy: 387/411 (94%)\n",
      "\n",
      "Epoch: 43\n",
      "Training set: Average loss: 0.517630\n",
      "Validation set: Average loss: 0.511978, Accuracy: 387/411 (94%)\n",
      "\n",
      "Epoch: 44\n",
      "Training set: Average loss: 0.516773\n",
      "Validation set: Average loss: 0.510947, Accuracy: 388/411 (94%)\n",
      "\n",
      "Epoch: 45\n",
      "Training set: Average loss: 0.516012\n",
      "Validation set: Average loss: 0.510186, Accuracy: 388/411 (94%)\n",
      "\n",
      "Epoch: 46\n",
      "Training set: Average loss: 0.515184\n",
      "Validation set: Average loss: 0.509393, Accuracy: 388/411 (94%)\n",
      "\n",
      "Epoch: 47\n",
      "Training set: Average loss: 0.514787\n",
      "Validation set: Average loss: 0.508597, Accuracy: 388/411 (94%)\n",
      "\n",
      "Epoch: 48\n",
      "Training set: Average loss: 0.513679\n",
      "Validation set: Average loss: 0.508136, Accuracy: 391/411 (95%)\n",
      "\n",
      "Epoch: 49\n",
      "Training set: Average loss: 0.513182\n",
      "Validation set: Average loss: 0.507420, Accuracy: 391/411 (95%)\n",
      "\n",
      "Epoch: 50\n",
      "Training set: Average loss: 0.512540\n",
      "Validation set: Average loss: 0.506863, Accuracy: 392/411 (95%)\n",
      "\n"
     ]
    }
   ],
   "source": [
    "def train(model, data_loader, optimizer):\n",
    "    # Set the model to training mode\n",
    "    model.train()\n",
    "    train_loss = 0\n",
    "    \n",
    "    for batch, tensor in enumerate(data_loader):\n",
    "        data, target = tensor\n",
    "        #feedforward\n",
    "        optimizer.zero_grad()\n",
    "        out = model(data)\n",
    "        loss = loss_criteria(out, target)\n",
    "        train_loss += loss.item()\n",
    "\n",
    "        # backpropagate\n",
    "        loss.backward()\n",
    "        optimizer.step()\n",
    "\n",
    "    #Return average loss\n",
    "    avg_loss = train_loss / (batch+1)\n",
    "    print('Training set: Average loss: {:.6f}'.format(avg_loss))\n",
    "    return avg_loss\n",
    "           \n",
    "            \n",
    "def test(model, data_loader):\n",
    "    # Switch the model to evaluation mode (so we don't backpropagate)\n",
    "    model.eval()\n",
    "    test_loss = 0\n",
    "    correct = 0\n",
    "\n",
    "    with torch.no_grad():\n",
    "        batch_count = 0\n",
    "        for batch, tensor in enumerate(data_loader):\n",
    "            batch_count += 1\n",
    "            data, target = tensor\n",
    "            # Get the predictions\n",
    "            out = model(data)\n",
    "\n",
    "            # calculate the loss\n",
    "            test_loss += loss_criteria(out, target).item()\n",
    "\n",
    "            # Calculate the accuracy\n",
    "            _, predicted = torch.max(out.data, 1)\n",
    "            correct += torch.sum(target==predicted).item()\n",
    "            \n",
    "    # Calculate the average loss and total accuracy for this epoch\n",
    "    avg_loss = test_loss/batch_count\n",
    "    print('Validation set: Average loss: {:.6f}, Accuracy: {}/{} ({:.0f}%)\\n'.format(\n",
    "        avg_loss, correct, len(data_loader.dataset),\n",
    "        100. * correct / len(data_loader.dataset)))\n",
    "    \n",
    "    # return average loss for the epoch\n",
    "    return avg_loss\n",
    "\n",
    "# Specify the loss criteria (we'll use CrossEntropyLoss for multi-class classification)\n",
    "loss_criteria = nn.CrossEntropyLoss()\n",
    "\n",
    "# Use an \"Adam\" optimizer to adjust weights\n",
    "# (see https://pytorch.org/docs/stable/optim.html#algorithms for details of supported algorithms)\n",
    "learning_rate = 0.001\n",
    "optimizer = torch.optim.Adam(model.parameters(), lr=learning_rate)\n",
    "optimizer.zero_grad()\n",
    "\n",
    "# We'll track metrics for each epoch in these arrays\n",
    "epoch_nums = []\n",
    "training_loss = []\n",
    "validation_loss = []\n",
    "\n",
    "# Train over 50 epochs\n",
    "epochs = 50\n",
    "for epoch in range(1, epochs + 1):\n",
    "\n",
    "    # print the epoch number\n",
    "    print('Epoch: {}'.format(epoch))\n",
    "    \n",
    "    # Feed training data into the model to optimize the weights\n",
    "    train_loss = train(model, train_loader, optimizer)\n",
    "    \n",
    "    # Feed the test data into the model to check its performance\n",
    "    test_loss = test(model, test_loader)\n",
    "    \n",
    "    # Log the metrics for this epoch\n",
    "    epoch_nums.append(epoch)\n",
    "    training_loss.append(train_loss)\n",
    "    validation_loss.append(test_loss)"
   ]
  },
  {
   "cell_type": "markdown",
   "metadata": {},
   "source": [
    "While the training process is running, let's try to understand what's happening:\n",
    "\n",
    "1. In each *epoch*, the full set of training data is passed forward through the network. There are four features for each observation, and four corresponding nodes in the input layer - so the features for each observation are passed as a vector of four values to that layer. However, for efficiency, the feature vectors are grouped into batches; so actually a matrix of multiple feature vectors is fed in each time.\n",
    "2. The matrix of feature values is processed by a function that performs a weighted sum using initialized weights and bias values. The result of this function is then processed by the activation function for the input layer to constrain the values passed to the nodes in the next layer.\n",
    "3. The weighted sum and activation functions are repeated in each layer. Note that the functions operate on vectors and matrices rather than individual scalar values. In other words, the forward pass is essentially a series of nested linear algebra functions. This is the reason data scientists prefer to use computers with graphical processing units (GPUs), since these are optimized for matrix and vector calculations.\n",
    "4. In the final layer of the network, the output vectors contain a calculated value for each possible class (in this case, classes 0, 1, and 2). This vector is processed by a *loss function* that converts these values to probabilities and determines how far they are from the expected values based on the actual classes - so for example, suppose the output for a Gentoo penguin (class 1) observation is \\[0.3, 0.4, 0.3\\]. The correct prediction would be \\[0.0, 1.0, 0.0\\], so the variance between the predicted and actual values (how far away each predicted value is from what it should be) is \\[0.3, 0.6, 0.3\\]. This variance is aggregated for each batch and maintained as a running aggregate to calculate the overall level of error (*loss*) incurred by the training data for the epoch. \n",
    "5. At the end of each epoch, the validation data is passed through the network, and its loss and accuracy (proportion of correct predictions based on the highest probability value in the output vector) are also calculated. It's important to do this because it enables us to compare the performance of the model using data on which it was not trained, helping us determine if it will generalize well for new data or if it's *overfitted* to the training data.\n",
    "6. After all the data has been passed forward through the network, the output of the loss function for the *training* data (but <u>not</u> the *validation* data) is passed to the opimizer. The precise details of how the optimizer processes the loss vary depending on the specific optimization algorithm being used; but fundamentally you can think of the entire network, from the input layer to the loss function as being one big nested (*composite*) function. The optimizer applies some differential calculus to calculate *partial derivatives* for the function with respect to each weight and bias value that was used in the network. It's possible to do this efficiently for a nested function due to something called the *chain rule*, which enables you to determine the derivative of a composite function from the derivatives of its inner function and outer functions. You don't really need to worry about the details of the math here (the optimizer does it for you), but the end result is that the partial derivatives tell us about the slope (or *gradient*) of the loss function with respect to each weight and bias value - in other words, we can determine whether to increase or decrease the weight and bias values in order to decrease the loss.\n",
    "7. Having determined in which direction to adjust the weights and biases, the optimizer uses the *learning rate* to determine by how much to adjust them; and then works backwards through the network in a process called *backpropagation* to assign new values to the weights and biases in each layer.\n",
    "8. Now the next epoch repeats the whole training, validation, and backpropagation process starting with the revised weights and biases from the previous epoch - which hopefully will result in a lower level of loss.\n",
    "9. The process continues like this for 50 epochs.\n",
    "\n",
    "## Review training and validation loss\n",
    "\n",
    "After training is complete, we can examine the loss metrics we recorded while training and validating the model. We're really looking for two things:\n",
    "* The loss should reduce with each epoch, showing that the model is learning the right weights and biases to predict the correct labels.\n",
    "* The training loss and validation loss should follow a similar trend, showing that the model is not overfitting to the training data.\n",
    "\n",
    "Let's plot the loss metrics and see:"
   ]
  },
  {
   "cell_type": "code",
   "execution_count": 13,
   "metadata": {},
   "outputs": [
    {
     "data": {
      "image/png": "[encoded data removed]",
      "text/plain": [
       "<Figure size 640x480 with 1 Axes>"
      ]
     },
     "metadata": {},
     "output_type": "display_data"
    }
   ],
   "source": [
    "plt.plot(epoch_nums, training_loss)\n",
    "plt.plot(epoch_nums, validation_loss)\n",
    "plt.xlabel('epoch')\n",
    "plt.ylabel('loss')\n",
    "plt.legend(['training', 'validation'], loc='upper right')\n",
    "plt.show()"
   ]
  },
  {
   "cell_type": "markdown",
   "metadata": {},
   "source": [
    "## View the learned weights and biases\n",
    "\n",
    "The trained model consists of the final weights and biases that were determined by the optimizer during training. Based on our network model we should expect the following values for each layer:\n",
    "* Layer 1: There are four input values going to ten output nodes, so there should be 10 x 4 weights and 10 bias values.\n",
    "* Layer 2: There are ten input values going to ten output nodes, so there should be 10 x 10 weights and 10 bias values.\n",
    "* Layer 3: There are ten input values going to three output nodes, so there should be 3 x 10 weights and 3 bias values."
   ]
  },
  {
   "cell_type": "code",
   "execution_count": 14,
   "metadata": {
    "tags": []
   },
   "outputs": [
    {
     "name": "stdout",
     "output_type": "stream",
     "text": [
      "fc1.weight \n",
      " [[-0.00374341  0.2682218  -0.41152257 -0.3679695 ]\n",
      " [-0.25226432 -0.31052938  0.14446104  0.5561743 ]\n",
      " [-0.04437202  0.13230628 -0.15110654 -0.09828269]\n",
      " [-0.47767425 -0.33114105 -0.20611155  0.01852179]\n",
      " [ 0.17924273  0.28158447 -0.3572809  -0.2356109 ]\n",
      " [ 0.36252     0.3504853  -0.20407507  0.40235114]\n",
      " [-0.08059168  0.05290705  0.4527381  -0.46383518]\n",
      " [-0.35454476 -0.1544078  -0.23331662  0.39131948]\n",
      " [-0.32408983 -0.23016644 -0.34932023 -0.4682805 ]\n",
      " [-0.446892    0.90992576  0.26437098  0.1352816 ]]\n",
      "fc1.bias \n",
      " [ 0.02629578 -0.24616952  0.08459234 -0.46684736 -0.3797093  -0.43677017\n",
      "  0.31546897  0.25772813 -0.22174752  0.25030804]\n",
      "fc2.weight \n",
      " [[ 0.20224687  0.3143725   0.12550515  0.04272011  0.21202639 -0.18619564\n",
      "   0.05892715 -0.24517313 -0.21917307 -0.16335806]\n",
      " [ 0.14308453 -0.0467318  -0.18731831  0.09553465  0.19176917  0.05488195\n",
      "   0.01207405  0.03587086  0.19618031  0.7670134 ]\n",
      " [-0.24369258 -0.08917422  0.12428063  0.2620103   0.26556414  0.35733676\n",
      "   0.06293392 -0.2438302   0.02909058 -0.6215446 ]\n",
      " [-0.29470977  0.6554877   0.2404469  -0.31544605  0.05918899 -0.06420071\n",
      "  -0.05203882 -0.09782512  0.12160733 -0.5131306 ]\n",
      " [ 0.11592636  0.15991893  0.22637847  0.11824107 -0.31298175 -0.20513597\n",
      "   0.15789726  0.0661869  -0.24668422 -0.1820901 ]\n",
      " [ 0.29749104  0.4743354  -0.13788326 -0.07958971 -0.318459   -0.05317608\n",
      "  -0.23813814 -0.20867519 -0.01742402 -0.26387098]\n",
      " [-0.12950484  0.18764248 -0.19243696  0.2869356   0.21671084 -0.26666948\n",
      "  -0.07870413  0.01426902  0.04613796  0.07500109]\n",
      " [ 0.12409672  0.01894209 -0.15429662  0.1496355  -0.30334112 -0.1874303\n",
      "  -0.07916126 -0.15403877 -0.11062703 -0.25918713]\n",
      " [-0.06726643  0.30196667 -0.20601156 -0.01622862  0.20802592 -0.09200852\n",
      "   0.00878868  0.00999757  0.06399861  0.39182115]\n",
      " [ 0.29954556  0.20082232  0.3002309  -0.02287012 -0.2840742  -0.14991638\n",
      "   0.21532115 -0.00204995 -0.15717986 -0.24232906]]\n",
      "fc2.bias \n",
      " [-0.2959424  -0.04922205 -0.22381303  0.12644678  0.17096573 -0.3554635\n",
      "  0.19725719 -0.24745122  0.03278114 -0.1282217 ]\n",
      "fc3.weight \n",
      " [[-0.06091028 -0.06208903 -0.28376698 -0.27304304 -0.04948315  0.0040895\n",
      "  -0.14365433  0.11912274 -0.28462344 -0.02134135]\n",
      " [ 0.27809682 -0.41468665  0.26642948  0.9678954  -0.2853832   0.7136222\n",
      "  -0.03649095 -0.14116624  0.16460991 -0.25554216]\n",
      " [ 0.03393281 -0.24325283  0.81373817 -0.57430124  0.15194914 -0.35043323\n",
      "  -0.07604478 -0.06650442 -1.1982236   0.17134616]]\n",
      "fc3.bias \n",
      " [ 0.25107792  0.06914473 -0.17739104]\n"
     ]
    }
   ],
   "source": [
    "for param_tensor in model.state_dict():\n",
    "    print(param_tensor, \"\\n\", model.state_dict()[param_tensor].numpy())"
   ]
  },
  {
   "cell_type": "markdown",
   "metadata": {},
   "source": [
    "## Evaluate model performance\n",
    "\n",
    "So, is the model any good? The raw accuracy reported from the validation data would seem to indicate that it predicts pretty well; but it's typically useful to dig a little deeper and compare the predictions for each possible class. A common way to visualize the performance of a classification model is to create a *confusion matrix* that shows a crosstab of correct and incorrect predictions for each class."
   ]
  },
  {
   "cell_type": "code",
   "execution_count": 15,
   "metadata": {},
   "outputs": [
    {
     "data": {
      "image/png": "[encoded data removed]",
      "text/plain": [
       "<Figure size 640x480 with 2 Axes>"
      ]
     },
     "metadata": {},
     "output_type": "display_data"
    }
   ],
   "source": [
    "# Set the model to evaluate mode\n",
    "model.eval()\n",
    "\n",
    "# Get predictions for the test data\n",
    "x = torch.Tensor(X_test).float()\n",
    "_, predicted = torch.max(model(x).data, 1)\n",
    "\n",
    "# Plot the confusion matrix\n",
    "cm = confusion_matrix(y_test, predicted.numpy())\n",
    "plt.imshow(cm, interpolation=\"nearest\", cmap=plt.cm.Blues)\n",
    "plt.colorbar()\n",
    "tick_marks = np.arange(len(penguin_classes_ls))\n",
    "plt.xticks(tick_marks, penguin_classes_ls, rotation=45)\n",
    "plt.yticks(tick_marks, penguin_classes_ls)\n",
    "plt.xlabel(\"Predicted Species\")\n",
    "plt.ylabel(\"Actual Species\")\n",
    "plt.show()"
   ]
  },
  {
   "cell_type": "markdown",
   "metadata": {},
   "source": [
    "The confusion matrix should show a strong diagonal line indicating that there are more correct than incorrect predictions for each class.\n",
    "\n",
    "## Save the trained model\n",
    "Now that we have a model we believe is reasonably accurate, we can save its trained weights for use later."
   ]
  },
  {
   "cell_type": "code",
   "execution_count": 16,
   "metadata": {},
   "outputs": [
    {
     "name": "stdout",
     "output_type": "stream",
     "text": [
      "model saved as penguin_classifier.pt\n"
     ]
    }
   ],
   "source": [
    "# Save the model weights\n",
    "model_file = 'penguin_classifier.pt'\n",
    "torch.save(model.state_dict(), model_file)\n",
    "del model\n",
    "print('model saved as', model_file)"
   ]
  },
  {
   "cell_type": "markdown",
   "metadata": {},
   "source": [
    "## Use the trained model\n",
    "\n",
    "When we have a new penguin observation, we can use the model to predict the species."
   ]
  },
  {
   "cell_type": "code",
   "execution_count": 17,
   "metadata": {
    "tags": []
   },
   "outputs": [
    {
     "name": "stdout",
     "output_type": "stream",
     "text": [
      "New sample: [[50.4, 15.3, 20, 50]]\n",
      "Prediction: Gentoo\n"
     ]
    }
   ],
   "source": [
    "# New penguin features\n",
    "X_new = [[50.4,15.3,20,50]]\n",
    "print('New sample: {}'.format(X_new))\n",
    "\n",
    "# Create a new model class and load weights\n",
    "model = PenguinNet()\n",
    "model.load_state_dict(torch.load(model_file))\n",
    "\n",
    "# Set model to evaluation mode\n",
    "model.eval()\n",
    "\n",
    "# Get a prediction for the new data sample\n",
    "x = torch.Tensor(X_new).float()\n",
    "_, predicted = torch.max(model(x).data, 1)\n",
    "\n",
    "print('Prediction:', penguin_classes_ls[predicted.item()])"
   ]
  },
  {
   "cell_type": "markdown",
   "metadata": {},
   "source": [
    "## Learn more\n",
    "\n",
    "This notebook was designed to help you understand the basic concepts and principles involved in deep neural networks, using a simple PyTorch example. To learn more about PyTorch, take a look at the [tutorials on the PyTorch web site](https://pytorch.org/tutorials/)."
   ]
  }
 ],
 "metadata": {
  "kernelspec": {
   "display_name": "Python 3.9.2 64-bit",
   "language": "python",
   "name": "python3"
  },
  "language_info": {
   "codemirror_mode": {
    "name": "ipython",
    "version": 3
   },
   "file_extension": ".py",
   "mimetype": "text/x-python",
   "name": "python",
   "nbconvert_exporter": "python",
   "pygments_lexer": "ipython3",
   "version": "3.9.2"
  },
  "vscode": {
   "interpreter": {
    "hash": "01fd550304b9e7cfb3e25c8e3ca63c0030fb0173de6652dd3d36373edc7c122f"
   }
  }
 },
 "nbformat": 4,
 "nbformat_minor": 2
}
