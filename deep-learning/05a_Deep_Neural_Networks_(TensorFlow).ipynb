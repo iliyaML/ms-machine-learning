{
 "cells": [
  {
   "cell_type": "markdown",
   "metadata": {},
   "source": [
    "# Deep Learning with TensorFlow\n",
    "\n",
    "Classical machine learning relies on using statistics to determine relationships between features and labels, and can be very effective for creating predictive models. However, a massive growth in the availability of data coupled with advances in the computing technology required to process it has led to the emergence of new machine learning techniques that mimic the way the brain processes information in a structure called an artificial neural network.\n",
    "\n",
    "TensorFlow is a framework for creating machine learning models, including deep neural networks (DNNs). In this example, we'll use Tensorflow to create a simple neural network that classifies penguins into species based on the length and depth of their culmen (bill), their flipper length, and their body mass.\n",
    "\n",
    "> **Citation**: The penguins dataset used in the this exercise is a subset of data collected and made available by [Dr. Kristen\n",
    "Gorman](https://www.uaf.edu/cfos/people/faculty/detail/kristen-gorman.php)\n",
    "and the [Palmer Station, Antarctica LTER](https://pal.lternet.edu/), a\n",
    "member of the [Long Term Ecological Research\n",
    "Network](https://lternet.edu/).\n",
    "\n",
    "## Explore the dataset\n",
    "\n",
    "Before we start using TensorFlow to create a model, let's load the data we need from the Palmer Islands penguins dataset, which contains observations of three different species of penguin.\n",
    "\n",
    "> **Note**: In reality, you can solve the penguin classification problem easily using classical machine learning techniques without the need for a deep learning model; but it's a useful, easy to understand dataset with which to demonstrate the principles of neural networks in this notebook."
   ]
  },
  {
   "cell_type": "code",
   "execution_count": 1,
   "metadata": {},
   "outputs": [
    {
     "name": "stderr",
     "output_type": "stream",
     "text": [
      "--2022-10-23 07:52:57--  https://raw.githubusercontent.com/MicrosoftDocs/mslearn-introduction-to-machine-learning/main/Data/ml-basics/penguins.csv\n",
      "Resolving raw.githubusercontent.com (raw.githubusercontent.com)... 185.199.108.133, 185.199.109.133, 185.199.110.133, ...\n",
      "Connecting to raw.githubusercontent.com (raw.githubusercontent.com)|185.199.108.133|:443... connected.\n",
      "HTTP request sent, awaiting response... 200 OK\n",
      "Length: 7086 (6.9K) [text/plain]\n",
      "Saving to: 'data/penguins.csv.1'\n",
      "\n",
      "     0K ......                                                100% 2.12M=0.003s\n",
      "\n",
      "2022-10-23 07:52:58 (2.12 MB/s) - 'data/penguins.csv.1' saved [7086/7086]\n",
      "\n"
     ]
    }
   ],
   "source": [
    "!wget -P data https://raw.githubusercontent.com/MicrosoftDocs/mslearn-introduction-to-machine-learning/main/Data/ml-basics/penguins.csv"
   ]
  },
  {
   "cell_type": "code",
   "execution_count": 1,
   "metadata": {},
   "outputs": [],
   "source": [
    "import numpy as np\n",
    "import pandas as pd\n",
    "import matplotlib.pyplot as plt\n",
    "%matplotlib inline\n",
    "\n",
    "from sklearn.metrics import confusion_matrix\n",
    "from sklearn.model_selection import train_test_split\n",
    "\n",
    "import tensorflow as tf\n",
    "from tensorflow import keras\n",
    "from tensorflow.keras import models\n",
    "from tensorflow.keras.models import Sequential\n",
    "from tensorflow.keras.layers import Dense\n",
    "from tensorflow.keras import utils\n",
    "from tensorflow.keras import optimizers"
   ]
  },
  {
   "cell_type": "code",
   "execution_count": 2,
   "metadata": {},
   "outputs": [
    {
     "data": {
      "text/html": [
       "<div>\n",
       "<style scoped>\n",
       "    .dataframe tbody tr th:only-of-type {\n",
       "        vertical-align: middle;\n",
       "    }\n",
       "\n",
       "    .dataframe tbody tr th {\n",
       "        vertical-align: top;\n",
       "    }\n",
       "\n",
       "    .dataframe thead th {\n",
       "        text-align: right;\n",
       "    }\n",
       "</style>\n",
       "<table border=\"1\" class=\"dataframe\">\n",
       "  <thead>\n",
       "    <tr style=\"text-align: right;\">\n",
       "      <th></th>\n",
       "      <th>CulmenLength</th>\n",
       "      <th>CulmenDepth</th>\n",
       "      <th>FlipperLength</th>\n",
       "      <th>BodyMass</th>\n",
       "      <th>Species</th>\n",
       "    </tr>\n",
       "  </thead>\n",
       "  <tbody>\n",
       "    <tr>\n",
       "      <th>22</th>\n",
       "      <td>35.9</td>\n",
       "      <td>19.2</td>\n",
       "      <td>18.9</td>\n",
       "      <td>38.00</td>\n",
       "      <td>0</td>\n",
       "    </tr>\n",
       "    <tr>\n",
       "      <th>266</th>\n",
       "      <td>46.2</td>\n",
       "      <td>14.1</td>\n",
       "      <td>21.7</td>\n",
       "      <td>43.75</td>\n",
       "      <td>1</td>\n",
       "    </tr>\n",
       "    <tr>\n",
       "      <th>318</th>\n",
       "      <td>50.9</td>\n",
       "      <td>19.1</td>\n",
       "      <td>19.6</td>\n",
       "      <td>35.50</td>\n",
       "      <td>2</td>\n",
       "    </tr>\n",
       "    <tr>\n",
       "      <th>233</th>\n",
       "      <td>52.5</td>\n",
       "      <td>15.6</td>\n",
       "      <td>22.1</td>\n",
       "      <td>54.50</td>\n",
       "      <td>1</td>\n",
       "    </tr>\n",
       "    <tr>\n",
       "      <th>2</th>\n",
       "      <td>40.3</td>\n",
       "      <td>18.0</td>\n",
       "      <td>19.5</td>\n",
       "      <td>32.50</td>\n",
       "      <td>0</td>\n",
       "    </tr>\n",
       "    <tr>\n",
       "      <th>173</th>\n",
       "      <td>45.1</td>\n",
       "      <td>14.5</td>\n",
       "      <td>21.5</td>\n",
       "      <td>50.00</td>\n",
       "      <td>1</td>\n",
       "    </tr>\n",
       "    <tr>\n",
       "      <th>155</th>\n",
       "      <td>50.0</td>\n",
       "      <td>15.2</td>\n",
       "      <td>21.8</td>\n",
       "      <td>57.00</td>\n",
       "      <td>1</td>\n",
       "    </tr>\n",
       "    <tr>\n",
       "      <th>342</th>\n",
       "      <td>50.8</td>\n",
       "      <td>19.0</td>\n",
       "      <td>21.0</td>\n",
       "      <td>41.00</td>\n",
       "      <td>2</td>\n",
       "    </tr>\n",
       "    <tr>\n",
       "      <th>164</th>\n",
       "      <td>45.5</td>\n",
       "      <td>13.7</td>\n",
       "      <td>21.4</td>\n",
       "      <td>46.50</td>\n",
       "      <td>1</td>\n",
       "    </tr>\n",
       "    <tr>\n",
       "      <th>185</th>\n",
       "      <td>59.6</td>\n",
       "      <td>17.0</td>\n",
       "      <td>23.0</td>\n",
       "      <td>60.50</td>\n",
       "      <td>1</td>\n",
       "    </tr>\n",
       "  </tbody>\n",
       "</table>\n",
       "</div>"
      ],
      "text/plain": [
       "     CulmenLength  CulmenDepth  FlipperLength  BodyMass  Species\n",
       "22           35.9         19.2           18.9     38.00        0\n",
       "266          46.2         14.1           21.7     43.75        1\n",
       "318          50.9         19.1           19.6     35.50        2\n",
       "233          52.5         15.6           22.1     54.50        1\n",
       "2            40.3         18.0           19.5     32.50        0\n",
       "173          45.1         14.5           21.5     50.00        1\n",
       "155          50.0         15.2           21.8     57.00        1\n",
       "342          50.8         19.0           21.0     41.00        2\n",
       "164          45.5         13.7           21.4     46.50        1\n",
       "185          59.6         17.0           23.0     60.50        1"
      ]
     },
     "execution_count": 2,
     "metadata": {},
     "output_type": "execute_result"
    }
   ],
   "source": [
    "# Constants\n",
    "RANDOM_STATE = 42\n",
    "\n",
    "# load the training dataset (excluding rows with null values)\n",
    "penguins_df = pd.read_csv('data/penguins.csv').dropna()\n",
    "\n",
    "# Deep Learning models work best when features are on similar scales\n",
    "# In a real solution, we'd implement some custom normalization for each feature, but to keep things simple\n",
    "# we'll just rescale the FlipperLength and BodyMass so they're on a similar scale to the bill measurements\n",
    "penguins_df['FlipperLength'] = penguins_df['FlipperLength'] / 10\n",
    "penguins_df['BodyMass'] = penguins_df['BodyMass'] / 100\n",
    "\n",
    "# The dataset is too small to be useful for deep learning\n",
    "# So we'll oversample it to increase its size\n",
    "for i in range(1, 3):\n",
    "    penguins_df = penguins_df.append(penguins_df)\n",
    "\n",
    "# Display a random sample of 10 observations\n",
    "sample_df = penguins_df.sample(10)\n",
    "sample_df"
   ]
  },
  {
   "cell_type": "markdown",
   "metadata": {},
   "source": [
    "The **Species** column is the label our model will predict. Each label value represents a class of penguin species, encoded as 0, 1, or 2. The following code shows the actual species to which these class labels corrrespond."
   ]
  },
  {
   "cell_type": "code",
   "execution_count": 3,
   "metadata": {
    "tags": []
   },
   "outputs": [
    {
     "name": "stdout",
     "output_type": "stream",
     "text": [
      "['CulmenLength' 'CulmenDepth' 'FlipperLength' 'BodyMass' 'Species'] SpeciesName\n",
      "[ 51.3 14.2 21.8 53.0 1 ] Gentoo\n",
      "[ 55.1 16.0 23.0 58.5 1 ] Gentoo\n",
      "[ 44.1 18.0 21.0 40.0 0 ] Adelie\n",
      "[ 49.2 18.2 19.5 44.0 2 ] Chinstrap\n",
      "[ 45.3 13.7 21.0 43.0 1 ] Gentoo\n",
      "[ 38.2 18.1 18.5 39.5 0 ] Adelie\n",
      "[ 36.0 17.8 19.5 34.5 0 ] Adelie\n",
      "[ 44.5 14.7 21.4 48.5 1 ] Gentoo\n",
      "[ 41.1 18.1 20.5 43.0 0 ] Adelie\n",
      "[ 44.4 17.3 21.9 52.5 1 ] Gentoo\n"
     ]
    }
   ],
   "source": [
    "penguin_classes_ls = ['Adelie', 'Gentoo', 'Chinstrap']\n",
    "print(sample_df.columns[0:5].values, 'SpeciesName')\n",
    "for index, row in penguins_df.sample(10).iterrows():\n",
    "    print('[',row[0], row[1], row[2],row[3], int(row[4]), ']',penguin_classes_ls[int(row[-1])])"
   ]
  },
  {
   "cell_type": "markdown",
   "metadata": {},
   "source": [
    "As is common in a supervised learning problem, we'll split the dataset into a set of records with which to train the model, and a smaller set with which to validate the trained model."
   ]
  },
  {
   "cell_type": "code",
   "execution_count": 4,
   "metadata": {
    "tags": []
   },
   "outputs": [
    {
     "name": "stdout",
     "output_type": "stream",
     "text": [
      "Training Set: 957, Test Set: 411 \n",
      "\n",
      "Sample of features and labels:\n",
      "[51.1 16.5 22.5 52.5] 1 (Gentoo)\n",
      "[50.7 19.7 20.3 40.5] 2 (Chinstrap)\n",
      "[49.5 16.2 22.9 58. ] 1 (Gentoo)\n",
      "[39.3 20.6 19.  36.5] 0 (Adelie)\n",
      "[42.5 20.7 19.7 45. ] 0 (Adelie)\n",
      "[50.  15.3 22.  55.5] 1 (Gentoo)\n",
      "[50.2  18.7  19.8  37.75] 2 (Chinstrap)\n",
      "[50.7 19.7 20.3 40.5] 2 (Chinstrap)\n",
      "[49.1  14.5  21.2  46.25] 1 (Gentoo)\n",
      "[43.2 16.6 18.7 29. ] 2 (Chinstrap)\n",
      "[38.8  17.6  19.1  32.75] 0 (Adelie)\n",
      "[37.8 17.1 18.6 33. ] 0 (Adelie)\n",
      "[45.8 14.2 21.9 47. ] 1 (Gentoo)\n",
      "[43.8 13.9 20.8 43. ] 1 (Gentoo)\n",
      "[36.  17.1 18.7 37. ] 0 (Adelie)\n",
      "[43.3 13.4 20.9 44. ] 1 (Gentoo)\n",
      "[36.  18.5 18.6 31. ] 0 (Adelie)\n",
      "[41.1  19.   18.2  34.25] 0 (Adelie)\n",
      "[33.1 16.1 17.8 29. ] 0 (Adelie)\n",
      "[40.9 13.7 21.4 46.5] 1 (Gentoo)\n",
      "[45.2 17.8 19.8 39.5] 2 (Chinstrap)\n",
      "[48.4 14.6 21.3 58.5] 1 (Gentoo)\n",
      "[43.6 13.9 21.7 49. ] 1 (Gentoo)\n",
      "[38.5  17.9  19.   33.25] 0 (Adelie)\n"
     ]
    }
   ],
   "source": [
    "features_ls = ['CulmenLength','CulmenDepth','FlipperLength','BodyMass']\n",
    "label = 'Species'\n",
    "   \n",
    "# Split data 70%-30% into training set and test set\n",
    "X_train, X_test, y_train, y_test = train_test_split(penguins_df[features_ls].values,\n",
    "                                                    penguins_df[label].values,\n",
    "                                                    test_size=0.30,\n",
    "                                                    random_state=0)\n",
    "\n",
    "print ('Training Set: %d, Test Set: %d \\n' % (len(X_train), len(X_test)))\n",
    "print(\"Sample of features and labels:\")\n",
    "\n",
    "# Take a look at the first 25 training features and corresponding labels\n",
    "for n in range(0, 24):\n",
    "    print(X_train[n], y_train[n], '(' + penguin_classes_ls[y_train[n]] + ')')"
   ]
  },
  {
   "cell_type": "markdown",
   "metadata": {},
   "source": [
    "The *features* are the measurements for each penguin observation, and the *label* is a numeric value that indicates the species of penguin that the observation represents (Adelie, Gentoo, or Chinstrap).\n",
    "\n",
    "## Install and import TensorFlow libraries\n",
    "\n",
    "Since we plan to use TensorFlow to create our penguin classifier, we'll need to run the following two cells to install and import the libraries we intend to use.\n",
    "\n",
    "> **Note** *Keras* is an abstraction layer over the base TensorFlow API. In most common machine learning scenarios, you can use Keras to simplify your code."
   ]
  },
  {
   "cell_type": "code",
   "execution_count": 5,
   "metadata": {},
   "outputs": [],
   "source": [
    "# !pip install --upgrade tensorflow"
   ]
  },
  {
   "cell_type": "code",
   "execution_count": 6,
   "metadata": {
    "tags": []
   },
   "outputs": [
    {
     "name": "stdout",
     "output_type": "stream",
     "text": [
      "Libraries imported.\n",
      "Keras version: 2.5.0\n",
      "TensorFlow version: 2.5.0\n"
     ]
    }
   ],
   "source": [
    "# Set random seed for reproducability\n",
    "tf.random.set_seed(RANDOM_STATE)\n",
    "\n",
    "print(\"Libraries imported.\")\n",
    "print('Keras version:', keras.__version__)\n",
    "print('TensorFlow version:', tf.__version__)"
   ]
  },
  {
   "cell_type": "markdown",
   "metadata": {},
   "source": [
    "## Prepare the data for TensorFlow\n",
    "\n",
    "We've already loaded our data and split it into training and validation datasets. However, we need to do some further data preparation so that our data will work correctly with TensorFlow. Specifically, we need to set the data type of our features to 32-bit floating point numbers, and specify that the labels represent categorical classes rather than numeric values."
   ]
  },
  {
   "cell_type": "code",
   "execution_count": 7,
   "metadata": {
    "tags": []
   },
   "outputs": [
    {
     "name": "stdout",
     "output_type": "stream",
     "text": [
      "Ready...\n"
     ]
    }
   ],
   "source": [
    "# Set data types for float features\n",
    "X_train = X_train.astype('float32')\n",
    "X_test = X_test.astype('float32')\n",
    "\n",
    "# Set data types for categorical labels\n",
    "y_train = utils.to_categorical(y_train)\n",
    "y_test = utils.to_categorical(y_test)\n",
    "print('Ready...')"
   ]
  },
  {
   "cell_type": "markdown",
   "metadata": {},
   "source": [
    "## Define a neural network\n",
    "\n",
    "Now we're ready to define our neural network. In this case, we'll create a network that consists of 3 fully-connected layers:\n",
    "* An input layer that receives an input value for each feature (in this case, the four penguin measurements) and applies a *ReLU* activation function.\n",
    "* A hidden layer that receives ten inputs and applies a *ReLU* activation function.\n",
    "* An output layer that uses a *SoftMax* activation function to generate an output for each penguin species (which represent the classification probabilities for each of the three possible penguin species). Softmax functions produce a vector with probability values that sum to 1."
   ]
  },
  {
   "cell_type": "code",
   "execution_count": 8,
   "metadata": {
    "tags": []
   },
   "outputs": [
    {
     "name": "stdout",
     "output_type": "stream",
     "text": [
      "Model: \"sequential\"\n",
      "_________________________________________________________________\n",
      "Layer (type)                 Output Shape              Param #   \n",
      "=================================================================\n",
      "dense (Dense)                (None, 10)                50        \n",
      "_________________________________________________________________\n",
      "dense_1 (Dense)              (None, 10)                110       \n",
      "_________________________________________________________________\n",
      "dense_2 (Dense)              (None, 3)                 33        \n",
      "=================================================================\n",
      "Total params: 193\n",
      "Trainable params: 193\n",
      "Non-trainable params: 0\n",
      "_________________________________________________________________\n",
      "None\n"
     ]
    }
   ],
   "source": [
    "# Define a classifier network\n",
    "hl = 10 # Number of hidden layer nodes\n",
    "\n",
    "dl_model = Sequential()\n",
    "dl_model.add(Dense(hl, input_dim=len(features_ls), activation='relu'))\n",
    "dl_model.add(Dense(hl, input_dim=hl, activation='relu'))\n",
    "dl_model.add(Dense(len(penguin_classes_ls), input_dim=hl, activation='softmax'))\n",
    "\n",
    "print(dl_model.summary())"
   ]
  },
  {
   "cell_type": "markdown",
   "metadata": {},
   "source": [
    "## Train the model\n",
    "\n",
    "To train the model, we need to repeatedly feed the training values forward through the network, use a loss function to calculate the loss, use an optimizer to backpropagate the weight and bias value adjustments, and validate the model using the test data we withheld.\n",
    "\n",
    "To do this, we'll apply an Adam optimizer to a categorical cross-entropy loss function iteratively over 50 epochs."
   ]
  },
  {
   "cell_type": "code",
   "execution_count": 9,
   "metadata": {
    "scrolled": true,
    "tags": []
   },
   "outputs": [
    {
     "name": "stdout",
     "output_type": "stream",
     "text": [
      "Epoch 1/50\n",
      "96/96 [==============================] - 2s 11ms/step - loss: 9.9547 - accuracy: 0.2644 - val_loss: 2.2697 - val_accuracy: 0.4331\n",
      "Epoch 2/50\n",
      "96/96 [==============================] - 1s 6ms/step - loss: 1.0327 - accuracy: 0.5361 - val_loss: 0.8885 - val_accuracy: 0.7494\n",
      "Epoch 3/50\n",
      "96/96 [==============================] - 1s 7ms/step - loss: 0.8062 - accuracy: 0.7106 - val_loss: 0.7699 - val_accuracy: 0.7397\n",
      "Epoch 4/50\n",
      "96/96 [==============================] - 0s 5ms/step - loss: 0.7034 - accuracy: 0.7680 - val_loss: 0.6903 - val_accuracy: 0.7786\n",
      "Epoch 5/50\n",
      "96/96 [==============================] - 1s 10ms/step - loss: 0.6202 - accuracy: 0.7941 - val_loss: 0.6100 - val_accuracy: 0.8200\n",
      "Epoch 6/50\n",
      "96/96 [==============================] - 0s 5ms/step - loss: 0.5555 - accuracy: 0.8077 - val_loss: 0.5407 - val_accuracy: 0.8345\n",
      "Epoch 7/50\n",
      "96/96 [==============================] - 1s 15ms/step - loss: 0.4953 - accuracy: 0.8234 - val_loss: 0.4865 - val_accuracy: 0.8394\n",
      "Epoch 8/50\n",
      "96/96 [==============================] - 1s 6ms/step - loss: 0.4424 - accuracy: 0.8464 - val_loss: 0.4411 - val_accuracy: 0.8467\n",
      "Epoch 9/50\n",
      "96/96 [==============================] - 0s 5ms/step - loss: 0.4009 - accuracy: 0.8777 - val_loss: 0.4057 - val_accuracy: 0.8297\n",
      "Epoch 10/50\n",
      "96/96 [==============================] - 2s 16ms/step - loss: 0.3625 - accuracy: 0.8976 - val_loss: 0.3625 - val_accuracy: 0.9100\n",
      "Epoch 11/50\n",
      "96/96 [==============================] - 2s 20ms/step - loss: 0.3205 - accuracy: 0.9164 - val_loss: 0.3233 - val_accuracy: 0.9659\n",
      "Epoch 12/50\n",
      "96/96 [==============================] - 1s 10ms/step - loss: 0.2790 - accuracy: 0.9446 - val_loss: 0.2822 - val_accuracy: 0.9465\n",
      "Epoch 13/50\n",
      "96/96 [==============================] - 1s 9ms/step - loss: 0.2447 - accuracy: 0.9425 - val_loss: 0.2684 - val_accuracy: 0.8613\n",
      "Epoch 14/50\n",
      "96/96 [==============================] - 2s 17ms/step - loss: 0.2076 - accuracy: 0.9488 - val_loss: 0.2092 - val_accuracy: 0.9684\n",
      "Epoch 15/50\n",
      "96/96 [==============================] - 1s 5ms/step - loss: 0.1760 - accuracy: 0.9655 - val_loss: 0.1888 - val_accuracy: 0.9684\n",
      "Epoch 16/50\n",
      "96/96 [==============================] - 0s 5ms/step - loss: 0.1531 - accuracy: 0.9655 - val_loss: 0.1582 - val_accuracy: 0.9805\n",
      "Epoch 17/50\n",
      "96/96 [==============================] - 0s 5ms/step - loss: 0.1368 - accuracy: 0.9666 - val_loss: 0.1424 - val_accuracy: 0.9805\n",
      "Epoch 18/50\n",
      "96/96 [==============================] - 0s 4ms/step - loss: 0.1192 - accuracy: 0.9781 - val_loss: 0.1291 - val_accuracy: 0.9878\n",
      "Epoch 19/50\n",
      "96/96 [==============================] - 1s 8ms/step - loss: 0.1113 - accuracy: 0.9801 - val_loss: 0.1121 - val_accuracy: 0.9805\n",
      "Epoch 20/50\n",
      "96/96 [==============================] - 1s 8ms/step - loss: 0.1003 - accuracy: 0.9781 - val_loss: 0.1038 - val_accuracy: 0.9903\n",
      "Epoch 21/50\n",
      "96/96 [==============================] - 2s 17ms/step - loss: 0.0915 - accuracy: 0.9812 - val_loss: 0.0979 - val_accuracy: 0.9781\n",
      "Epoch 22/50\n",
      "96/96 [==============================] - 1s 14ms/step - loss: 0.0864 - accuracy: 0.9843 - val_loss: 0.0887 - val_accuracy: 0.9805\n",
      "Epoch 23/50\n",
      "96/96 [==============================] - 1s 15ms/step - loss: 0.0837 - accuracy: 0.9843 - val_loss: 0.0832 - val_accuracy: 0.9830\n",
      "Epoch 24/50\n",
      "96/96 [==============================] - 1s 11ms/step - loss: 0.0726 - accuracy: 0.9896 - val_loss: 0.0873 - val_accuracy: 0.9708\n",
      "Epoch 25/50\n",
      "96/96 [==============================] - 2s 21ms/step - loss: 0.0732 - accuracy: 0.9812 - val_loss: 0.0725 - val_accuracy: 0.9903\n",
      "Epoch 26/50\n",
      "96/96 [==============================] - 1s 11ms/step - loss: 0.0646 - accuracy: 0.9885 - val_loss: 0.0693 - val_accuracy: 0.9951\n",
      "Epoch 27/50\n",
      "96/96 [==============================] - 1s 9ms/step - loss: 0.0630 - accuracy: 0.9906 - val_loss: 0.0756 - val_accuracy: 0.9903\n",
      "Epoch 28/50\n",
      "96/96 [==============================] - 0s 5ms/step - loss: 0.0624 - accuracy: 0.9875 - val_loss: 0.0631 - val_accuracy: 0.9951\n",
      "Epoch 29/50\n",
      "96/96 [==============================] - 1s 7ms/step - loss: 0.0569 - accuracy: 0.9864 - val_loss: 0.0617 - val_accuracy: 0.9976\n",
      "Epoch 30/50\n",
      "96/96 [==============================] - 3s 27ms/step - loss: 0.0556 - accuracy: 0.9896 - val_loss: 0.0755 - val_accuracy: 0.9708\n",
      "Epoch 31/50\n",
      "96/96 [==============================] - 2s 18ms/step - loss: 0.0536 - accuracy: 0.9885 - val_loss: 0.0564 - val_accuracy: 0.9976\n",
      "Epoch 32/50\n",
      "96/96 [==============================] - 1s 10ms/step - loss: 0.0511 - accuracy: 0.9916 - val_loss: 0.0575 - val_accuracy: 0.9781\n",
      "Epoch 33/50\n",
      "96/96 [==============================] - 1s 8ms/step - loss: 0.0484 - accuracy: 0.9896 - val_loss: 0.0503 - val_accuracy: 0.9951\n",
      "Epoch 34/50\n",
      "96/96 [==============================] - 1s 5ms/step - loss: 0.0497 - accuracy: 0.9854 - val_loss: 0.0493 - val_accuracy: 0.9976\n",
      "Epoch 35/50\n",
      "96/96 [==============================] - 0s 5ms/step - loss: 0.0500 - accuracy: 0.9875 - val_loss: 0.0474 - val_accuracy: 0.9976\n",
      "Epoch 36/50\n",
      "96/96 [==============================] - 1s 5ms/step - loss: 0.0492 - accuracy: 0.9885 - val_loss: 0.0460 - val_accuracy: 0.9951\n",
      "Epoch 37/50\n",
      "96/96 [==============================] - 0s 5ms/step - loss: 0.0430 - accuracy: 0.9885 - val_loss: 0.0512 - val_accuracy: 0.9927\n",
      "Epoch 38/50\n",
      "96/96 [==============================] - 1s 6ms/step - loss: 0.0426 - accuracy: 0.9927 - val_loss: 0.0447 - val_accuracy: 0.9976\n",
      "Epoch 39/50\n",
      "96/96 [==============================] - 0s 4ms/step - loss: 0.0433 - accuracy: 0.9896 - val_loss: 0.0423 - val_accuracy: 0.9951\n",
      "Epoch 40/50\n",
      "96/96 [==============================] - 1s 7ms/step - loss: 0.0418 - accuracy: 0.9875 - val_loss: 0.0405 - val_accuracy: 0.9976\n",
      "Epoch 41/50\n",
      "96/96 [==============================] - 1s 7ms/step - loss: 0.0455 - accuracy: 0.9854 - val_loss: 0.0454 - val_accuracy: 0.9854\n",
      "Epoch 42/50\n",
      "96/96 [==============================] - 1s 5ms/step - loss: 0.0389 - accuracy: 0.9916 - val_loss: 0.0430 - val_accuracy: 0.9854\n",
      "Epoch 43/50\n",
      "96/96 [==============================] - 1s 7ms/step - loss: 0.0387 - accuracy: 0.9896 - val_loss: 0.0374 - val_accuracy: 0.9976\n",
      "Epoch 44/50\n",
      "96/96 [==============================] - 1s 7ms/step - loss: 0.0376 - accuracy: 0.9896 - val_loss: 0.0356 - val_accuracy: 0.9976\n",
      "Epoch 45/50\n",
      "96/96 [==============================] - 1s 6ms/step - loss: 0.0409 - accuracy: 0.9875 - val_loss: 0.0349 - val_accuracy: 0.9976\n",
      "Epoch 46/50\n",
      "96/96 [==============================] - 1s 6ms/step - loss: 0.0414 - accuracy: 0.9864 - val_loss: 0.0353 - val_accuracy: 0.9976\n",
      "Epoch 47/50\n",
      "96/96 [==============================] - 1s 5ms/step - loss: 0.0381 - accuracy: 0.9916 - val_loss: 0.0343 - val_accuracy: 0.9976\n",
      "Epoch 48/50\n",
      "96/96 [==============================] - 0s 5ms/step - loss: 0.0333 - accuracy: 0.9896 - val_loss: 0.0347 - val_accuracy: 1.0000\n",
      "Epoch 49/50\n",
      "96/96 [==============================] - 1s 5ms/step - loss: 0.0368 - accuracy: 0.9875 - val_loss: 0.0418 - val_accuracy: 0.9927\n",
      "Epoch 50/50\n",
      "96/96 [==============================] - 1s 7ms/step - loss: 0.0348 - accuracy: 0.9885 - val_loss: 0.0316 - val_accuracy: 0.9976\n"
     ]
    }
   ],
   "source": [
    "# hyper-parameters for optimizer\n",
    "learning_rate = 0.001\n",
    "opt = optimizers.Adam(learning_rate=learning_rate)\n",
    "\n",
    "dl_model.compile(loss='categorical_crossentropy',\n",
    "              optimizer=opt,\n",
    "              metrics=['accuracy'])\n",
    "\n",
    "# Train the dl_model over 50 epochs using 10-observation batches and using the test holdout dataset for validation\n",
    "num_epochs = 50\n",
    "history = dl_model.fit(X_train, y_train, epochs=num_epochs, batch_size=10, validation_data=(X_test, y_test))"
   ]
  },
  {
   "cell_type": "markdown",
   "metadata": {},
   "source": [
    "While the training process is running, let's try to understand what's happening:\n",
    "\n",
    "1. In each *epoch*, the full set of training data is passed forward through the network. There are four features for each observation, and four corresponding nodes in the input layer - so the features for each observation are passed as a vector of four values to that layer. However, for efficiency, the feature vectors are grouped into batches; so actually a matrix of multiple feature vectors is fed in each time.\n",
    "2. The matrix of feature values is processed by a function that performs a weighted sum using initialized weights and bias values. The result of this function is then processed by the activation function for the input layer to constrain the values passed to the nodes in the next layer.\n",
    "3. The weighted sum and activation functions are repeated in each layer. Note that the functions operate on vectors and matrices rather than individual scalar values. In other words, the forward pass is essentially a series of nested linear algebra functions. This is the reason data scientists prefer to use computers with graphical processing units (GPUs), since these are optimized for matrix and vector calculations.\n",
    "4. In the final layer of the network, the output vectors contain a probability value for each possible class (in this case, classes 0, 1, and 2). This vector is processed by a *loss function* to determine how far the values calculated by the network are from the actual values - so for example, suppose the output for a Gentoo penguin (class 1) observation is \\[0.3, 0.4, 0.3\\]. The correct prediction should be \\[0.0, 1.0, 0.0\\], so the variance between the predicted and actual values (how far away the each predicted value is from what it should be) is \\[0.3, 0.6, 0.3\\]. This variance is aggregated for each batch and maintained as a running aggregate to calculate the overall level of error (*loss*) incurred by the training data for the epoch. The accuracy (proportion of correct predictions based on the highest probability value in the output vector) for the training data is also calculated.\n",
    "5. At the end of each epoch, the validation data is passed through the network, and its loss and accuracy are also calculated. It's important to do this because it enables us to compare the performance of the model using data on which it was not trained, helping us determine if it will generalize well for new data or if it's *overfitted* to the training data.\n",
    "6. After all the data has been passed forward through the network, the output of the loss function for the *training* data (but <u>not</u> the *validation* data) is passed to the opimizer. The precise details of how the optimizer processes the loss vary depending on the specific optimization algorithm being used; but fundamentally you can think of the entire network, from the input layer to the loss function as being one big nested (*composite*) function. The optimizer applies some differential calculus to calculate *partial derivatives* for the function with respect to each weight and bias value that was used in the network. It's possible to do this efficiently for a nested function due to something called the *chain rule*, which enables you to determine the derivative of a composite function from the derivatives of its inner function and outer functions. You don't really need to worry about the details of the math here (the optimizer does it for you), but the end result is that the partial derivatives tell us about the slope (or *gradient*) of the loss function with respect to each weight and bias value - in other words, we can determine whether to increase or decrease the weight and bias values in order to decrease the loss.\n",
    "7. Having determined in which direction to adjust the weights and biases, the optimizer uses the *learning rate* to determine by how much to adjust them; and then works backwards through the network in a process called *backpropagation* to assign new values to the weights and biases in each layer.\n",
    "8. Now the next epoch repeats the whole training, validation, and backpropagation process starting with the revised weights and biases from the previous epoch - which hopefully will result in a lower level of loss.\n",
    "9. The process continues like this for 50 epochs.\n",
    "\n",
    "## Review training and validation loss\n",
    "\n",
    "After training is complete, we can examine the loss metrics we recorded while training and validating the model. We're really looking for two things:\n",
    "* The loss should reduce with each epoch, showing that the model is learning the right weights and biases to predict the correct labels.\n",
    "* The training loss and validation loss should follow a similar trend, showing that the model is not overfitting to the training data.\n",
    "\n",
    "Let's plot the loss metrics and see:"
   ]
  },
  {
   "cell_type": "code",
   "execution_count": 10,
   "metadata": {},
   "outputs": [
    {
     "data": {
      "image/png": "[encoded data removed]",
      "text/plain": [
       "<Figure size 640x480 with 1 Axes>"
      ]
     },
     "metadata": {},
     "output_type": "display_data"
    }
   ],
   "source": [
    "epoch_nums = range(1, num_epochs+1)\n",
    "training_loss = history.history[\"loss\"]\n",
    "validation_loss = history.history[\"val_loss\"]\n",
    "\n",
    "plt.plot(epoch_nums, training_loss)\n",
    "plt.plot(epoch_nums, validation_loss)\n",
    "plt.xlabel('epoch')\n",
    "plt.ylabel('loss')\n",
    "plt.legend(['training', 'validation'], loc='upper right')\n",
    "plt.show()"
   ]
  },
  {
   "cell_type": "markdown",
   "metadata": {},
   "source": [
    "## View the learned weights and biases\n",
    "\n",
    "The trained model consists of the final weights and biases that were determined by the optimizer during training. Based on our network model we should expect the following values for each layer:\n",
    "* Layer 1: There are four input values going to ten output nodes, so there should be 4 x 10 weights and 10 bias values.\n",
    "* Layer 2: There are ten input values going to ten output nodes, so there should be 10 x 10 weights and 10 bias values.\n",
    "* Layer 3: There are ten input values going to three output nodes, so there should be 10 x 3 weights and 3 bias values."
   ]
  },
  {
   "cell_type": "code",
   "execution_count": 11,
   "metadata": {
    "tags": []
   },
   "outputs": [
    {
     "name": "stdout",
     "output_type": "stream",
     "text": [
      "------------\n",
      "Weights:\n",
      " [[ 0.07896271 -0.07724023 -0.192622   -0.26673934 -0.6105819   0.18955344\n",
      "   0.39786857  0.60199356 -0.35832292 -0.36242038]\n",
      " [-0.68693775  0.29110593 -0.48027074  0.21932493  0.09768587  0.4733167\n",
      "  -0.90692806  0.25281194  0.1761601  -0.39367166]\n",
      " [ 0.13868207  0.06001151 -0.5138173   0.37973857  0.2098509  -0.26316363\n",
      "   0.01842526 -0.39920634  0.46184134 -0.07774442]\n",
      " [ 0.5155531  -0.34365922  0.4082328   0.3360075  -0.00745261 -0.42007372\n",
      "   0.27720782  0.34172216 -0.25088134  0.2445836 ]] \n",
      "Biases:\n",
      " [-0.27922124  0.          0.          0.21591038  0.         -0.04957207\n",
      " -0.21269833  0.04297782  0.          0.        ]\n",
      "------------\n",
      "Weights:\n",
      " [[ 0.20582455 -0.01700258  0.3715045  -0.09371363  0.223914    0.34674835\n",
      "   0.44229668  0.4603293  -0.16513148  0.05168593]\n",
      " [-0.2611498   0.21617872 -0.41667908  0.03816909  0.23540765  0.41081136\n",
      "  -0.17562729 -0.35736018 -0.06369784  0.43908298]\n",
      " [-0.3965088  -0.41388136  0.08265036  0.4838779   0.45861745  0.10635102\n",
      "   0.12153769  0.35148746  0.36445224  0.42895973]\n",
      " [-0.5326358  -0.00210911 -0.04112966  0.5481108   0.5361789   0.14525731\n",
      "  -0.4247854   0.55525833  0.04261309 -0.07960492]\n",
      " [-0.10825956  0.18209857 -0.36863852 -0.34812978  0.5152993  -0.48046517\n",
      "   0.03324401  0.5334811  -0.02772081  0.3994819 ]\n",
      " [-0.3253355  -0.42231104 -0.1867692   0.19966882 -0.3175809   0.32016122\n",
      "   0.1438359   0.48594853 -0.2857233   0.3687222 ]\n",
      " [-0.49552163  0.32941753  0.29734707 -0.5215863   0.16179581  0.60141754\n",
      "   0.36937508  0.22835384  0.13733602  0.40018356]\n",
      " [-0.37130588 -0.42611322  0.17057481  0.08666835  0.16544811 -0.00679998\n",
      "   0.2751654  -0.36665526 -0.33913022 -0.38725424]\n",
      " [-0.38428652  0.39379233  0.45650792  0.00492442  0.40056968  0.222745\n",
      "   0.03765208 -0.16329765  0.1458419   0.37420267]\n",
      " [-0.07163727 -0.22282687  0.3823837  -0.32254106 -0.12025088  0.09959787\n",
      "   0.41492385  0.24069852 -0.4387563   0.49084175]] \n",
      "Biases:\n",
      " [ 0.          0.          0.00906472  0.17892247  0.27966538 -0.22402686\n",
      " -0.3091242  -0.05287082  0.          0.        ]\n",
      "------------\n",
      "Weights:\n",
      " [[ 0.3279543   0.17465997 -0.65574515]\n",
      " [-0.21312413  0.01445371 -0.16609949]\n",
      " [-0.5463808  -0.5571119  -0.35070047]\n",
      " [ 0.9735858  -1.9309125  -1.0418004 ]\n",
      " [ 0.6826286  -0.35198495  0.19481018]\n",
      " [-0.0039112   0.6100108   0.4907821 ]\n",
      " [-0.4312807   0.44703853  0.12548721]\n",
      " [ 0.01046992  0.79486346 -1.1014841 ]\n",
      " [-0.10496938  0.530419    0.39227057]\n",
      " [-0.54124314 -0.4156521  -0.30032453]] \n",
      "Biases:\n",
      " [ 0.22633722 -0.24057862 -0.03833288]\n"
     ]
    }
   ],
   "source": [
    "for layer in dl_model.layers:\n",
    "    weights = layer.get_weights()[0]\n",
    "    biases = layer.get_weights()[1]\n",
    "    print('------------\\nWeights:\\n',weights,'\\nBiases:\\n', biases)"
   ]
  },
  {
   "cell_type": "markdown",
   "metadata": {},
   "source": [
    "## Evaluate model performance\n",
    "\n",
    "So, is the model any good? The raw accuracy reported from the validation data would seem to indicate that it predicts pretty well; but it's typically useful to dig a little deeper and compare the predictions for each possible class. A common way to visualize the performance of a classification model is to create a *confusion matrix* that shows a crosstab of correct and incorrect predictions for each class."
   ]
  },
  {
   "cell_type": "code",
   "execution_count": 12,
   "metadata": {},
   "outputs": [
    {
     "data": {
      "image/png": "[encoded data removed]",
      "text/plain": [
       "<Figure size 640x480 with 2 Axes>"
      ]
     },
     "metadata": {},
     "output_type": "display_data"
    }
   ],
   "source": [
    "class_probabilities = dl_model.predict(X_test)\n",
    "predictions = np.argmax(class_probabilities, axis=1)\n",
    "true_labels = np.argmax(y_test, axis=1)\n",
    "\n",
    "# Plot the confusion matrix\n",
    "cm = confusion_matrix(true_labels, predictions)\n",
    "plt.imshow(cm, interpolation=\"nearest\", cmap=plt.cm.Blues)\n",
    "plt.colorbar()\n",
    "tick_marks = np.arange(len(penguin_classes_ls))\n",
    "plt.xticks(tick_marks, penguin_classes_ls, rotation=85)\n",
    "plt.yticks(tick_marks, penguin_classes_ls)\n",
    "plt.xlabel(\"Predicted Species\")\n",
    "plt.ylabel(\"Actual Species\")\n",
    "plt.show()"
   ]
  },
  {
   "cell_type": "markdown",
   "metadata": {},
   "source": [
    "The confusion matrix should show a strong diagonal line indicating that there are more correct than incorrect predictions for each class.\n",
    "\n",
    "## Save the trained model\n",
    "Now that we have a model we believe is reasonably accurate, we can save its trained weights for use later."
   ]
  },
  {
   "cell_type": "code",
   "execution_count": 13,
   "metadata": {},
   "outputs": [
    {
     "name": "stdout",
     "output_type": "stream",
     "text": [
      "Model saved as models/penguin-classifier.h5\n"
     ]
    }
   ],
   "source": [
    "# Save the trained model\n",
    "modelFileName = 'models/penguin-classifier.h5'\n",
    "dl_model.save(modelFileName)\n",
    "del dl_model  # deletes the existing model variable\n",
    "print('Model saved as', modelFileName)"
   ]
  },
  {
   "cell_type": "markdown",
   "metadata": {},
   "source": [
    "## Use the trained model\n",
    "\n",
    "When we have a new penguin observation, we can use the model to predict the species."
   ]
  },
  {
   "cell_type": "code",
   "execution_count": 14,
   "metadata": {
    "tags": []
   },
   "outputs": [
    {
     "name": "stdout",
     "output_type": "stream",
     "text": [
      "<tensorflow.python.keras.engine.sequential.Sequential object at 0x0000022761E27070>\n",
      "New sample: [[50.4 15.3 20.  50. ]]\n",
      "Gentoo\n"
     ]
    }
   ],
   "source": [
    "# Load the saved model\n",
    "loaded_dl_model = models.load_model(modelFileName)\n",
    "print(loaded_dl_model)\n",
    "\n",
    "# CReate a new array of features\n",
    "x_new = np.array([[50.4,15.3,20,50]])\n",
    "print ('New sample: {}'.format(x_new))\n",
    "\n",
    "# Use the model to predict the class\n",
    "class_probabilities = loaded_dl_model.predict(x_new)\n",
    "predictions = np.argmax(class_probabilities, axis=1)\n",
    "\n",
    "print(penguin_classes_ls[predictions[0]])"
   ]
  },
  {
   "cell_type": "markdown",
   "metadata": {},
   "source": [
    "## Learn more\n",
    "\n",
    "This notebook was designed to help you understand the basic concepts and principles involved in deep neural networks, using a simple Tensorflow example. To learn more about Tensorflow, take a look at the <a href=\"https://www.tensorflow.org/\" target=\"_blank\">Tensorflow web site</a>."
   ]
  }
 ],
 "metadata": {
  "kernelspec": {
   "display_name": "Python 3.9.2 64-bit",
   "language": "python",
   "name": "python3"
  },
  "language_info": {
   "codemirror_mode": {
    "name": "ipython",
    "version": 3
   },
   "file_extension": ".py",
   "mimetype": "text/x-python",
   "name": "python",
   "nbconvert_exporter": "python",
   "pygments_lexer": "ipython3",
   "version": "3.9.2"
  },
  "vscode": {
   "interpreter": {
    "hash": "01fd550304b9e7cfb3e25c8e3ca63c0030fb0173de6652dd3d36373edc7c122f"
   }
  }
 },
 "nbformat": 4,
 "nbformat_minor": 2
}
