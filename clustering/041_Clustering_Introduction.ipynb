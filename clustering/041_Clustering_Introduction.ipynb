{
 "cells": [
  {
   "cell_type": "markdown",
   "metadata": {},
   "source": [
    "# Clustering - Introduction\n",
    "\n",
    "In contrast to *supervised* machine learning, *unsupervised* learning is used when there is no \"ground truth\" from which to train and validate label predictions. The most common form of unsupervised learning is *clustering*, which is simllar conceptually to *classification*, except that the the training data does not include known values for the class label to be predicted. Clustering works by separating the training cases based on similarities that can be determined from their feature values. Think of it this way; the numeric features of a given entity can be thought of as vector coordinates that define the entity's position in n-dimensional space. What a clustering model seeks to do is to identify groups, or *clusters*, of entities that are close to one another while being separated from other clusters.\n",
    "\n",
    "For example, let's take a look at a dataset that contains measurements of different species of wheat seed.\n",
    "\n",
    "> **Citation**: The seeds dataset used in the this exercise was originally published by the Institute of Agrophysics of the Polish Academy of Sciences in Lublin, and can be downloaded from the UCI dataset repository (Dua, D. and Graff, C. (2019). UCI Machine Learning Repository [http://archive.ics.uci.edu/ml]. Irvine, CA: University of California, School of Information and Computer Science)."
   ]
  },
  {
   "cell_type": "code",
   "execution_count": 1,
   "metadata": {},
   "outputs": [
    {
     "name": "stderr",
     "output_type": "stream",
     "text": [
      "--2022-10-21 19:26:51--  https://raw.githubusercontent.com/MicrosoftDocs/mslearn-introduction-to-machine-learning/main/Data/ml-basics/seeds.csv\n",
      "Resolving raw.githubusercontent.com (raw.githubusercontent.com)... 185.199.108.133, 185.199.109.133, 185.199.110.133, ...\n",
      "Connecting to raw.githubusercontent.com (raw.githubusercontent.com)|185.199.108.133|:443... connected.\n",
      "HTTP request sent, awaiting response... 200 OK\n",
      "Length: 9386 (9.2K) [text/plain]\n",
      "Saving to: 'data/seeds.csv'\n",
      "\n",
      "     0K .........                                             100% 2.49M=0.004s\n",
      "\n",
      "2022-10-21 19:26:52 (2.49 MB/s) - 'data/seeds.csv' saved [9386/9386]\n",
      "\n"
     ]
    }
   ],
   "source": [
    "!wget -P data https://raw.githubusercontent.com/MicrosoftDocs/mslearn-introduction-to-machine-learning/main/Data/ml-basics/seeds.csv"
   ]
  },
  {
   "cell_type": "code",
   "execution_count": 2,
   "metadata": {},
   "outputs": [],
   "source": [
    "import numpy as np\n",
    "import pandas as pd\n",
    "import matplotlib.pyplot as plt\n",
    "\n",
    "%matplotlib inline\n",
    "\n",
    "from sklearn.preprocessing import MinMaxScaler\n",
    "from sklearn.decomposition import PCA\n",
    "from sklearn.cluster import KMeans"
   ]
  },
  {
   "cell_type": "code",
   "execution_count": 3,
   "metadata": {},
   "outputs": [
    {
     "data": {
      "text/html": [
       "<div>\n",
       "<style scoped>\n",
       "    .dataframe tbody tr th:only-of-type {\n",
       "        vertical-align: middle;\n",
       "    }\n",
       "\n",
       "    .dataframe tbody tr th {\n",
       "        vertical-align: top;\n",
       "    }\n",
       "\n",
       "    .dataframe thead th {\n",
       "        text-align: right;\n",
       "    }\n",
       "</style>\n",
       "<table border=\"1\" class=\"dataframe\">\n",
       "  <thead>\n",
       "    <tr style=\"text-align: right;\">\n",
       "      <th></th>\n",
       "      <th>area</th>\n",
       "      <th>perimeter</th>\n",
       "      <th>compactness</th>\n",
       "      <th>kernel_length</th>\n",
       "      <th>kernel_width</th>\n",
       "      <th>asymmetry_coefficient</th>\n",
       "    </tr>\n",
       "  </thead>\n",
       "  <tbody>\n",
       "    <tr>\n",
       "      <th>18</th>\n",
       "      <td>14.70</td>\n",
       "      <td>14.21</td>\n",
       "      <td>0.9153</td>\n",
       "      <td>5.205</td>\n",
       "      <td>3.466</td>\n",
       "      <td>1.767</td>\n",
       "    </tr>\n",
       "    <tr>\n",
       "      <th>19</th>\n",
       "      <td>12.72</td>\n",
       "      <td>13.57</td>\n",
       "      <td>0.8686</td>\n",
       "      <td>5.226</td>\n",
       "      <td>3.049</td>\n",
       "      <td>4.102</td>\n",
       "    </tr>\n",
       "    <tr>\n",
       "      <th>105</th>\n",
       "      <td>18.83</td>\n",
       "      <td>16.29</td>\n",
       "      <td>0.8917</td>\n",
       "      <td>6.037</td>\n",
       "      <td>3.786</td>\n",
       "      <td>2.553</td>\n",
       "    </tr>\n",
       "    <tr>\n",
       "      <th>38</th>\n",
       "      <td>14.80</td>\n",
       "      <td>14.52</td>\n",
       "      <td>0.8823</td>\n",
       "      <td>5.656</td>\n",
       "      <td>3.288</td>\n",
       "      <td>3.112</td>\n",
       "    </tr>\n",
       "    <tr>\n",
       "      <th>135</th>\n",
       "      <td>15.38</td>\n",
       "      <td>14.66</td>\n",
       "      <td>0.8990</td>\n",
       "      <td>5.477</td>\n",
       "      <td>3.465</td>\n",
       "      <td>3.600</td>\n",
       "    </tr>\n",
       "    <tr>\n",
       "      <th>115</th>\n",
       "      <td>19.06</td>\n",
       "      <td>16.45</td>\n",
       "      <td>0.8854</td>\n",
       "      <td>6.416</td>\n",
       "      <td>3.719</td>\n",
       "      <td>2.248</td>\n",
       "    </tr>\n",
       "    <tr>\n",
       "      <th>87</th>\n",
       "      <td>18.98</td>\n",
       "      <td>16.66</td>\n",
       "      <td>0.8590</td>\n",
       "      <td>6.549</td>\n",
       "      <td>3.670</td>\n",
       "      <td>3.691</td>\n",
       "    </tr>\n",
       "    <tr>\n",
       "      <th>121</th>\n",
       "      <td>18.14</td>\n",
       "      <td>16.12</td>\n",
       "      <td>0.8772</td>\n",
       "      <td>6.059</td>\n",
       "      <td>3.563</td>\n",
       "      <td>3.619</td>\n",
       "    </tr>\n",
       "    <tr>\n",
       "      <th>179</th>\n",
       "      <td>12.21</td>\n",
       "      <td>13.47</td>\n",
       "      <td>0.8453</td>\n",
       "      <td>5.357</td>\n",
       "      <td>2.893</td>\n",
       "      <td>1.661</td>\n",
       "    </tr>\n",
       "    <tr>\n",
       "      <th>140</th>\n",
       "      <td>13.07</td>\n",
       "      <td>13.92</td>\n",
       "      <td>0.8480</td>\n",
       "      <td>5.472</td>\n",
       "      <td>2.994</td>\n",
       "      <td>5.304</td>\n",
       "    </tr>\n",
       "  </tbody>\n",
       "</table>\n",
       "</div>"
      ],
      "text/plain": [
       "      area  perimeter  compactness  kernel_length  kernel_width  \\\n",
       "18   14.70      14.21       0.9153          5.205         3.466   \n",
       "19   12.72      13.57       0.8686          5.226         3.049   \n",
       "105  18.83      16.29       0.8917          6.037         3.786   \n",
       "38   14.80      14.52       0.8823          5.656         3.288   \n",
       "135  15.38      14.66       0.8990          5.477         3.465   \n",
       "115  19.06      16.45       0.8854          6.416         3.719   \n",
       "87   18.98      16.66       0.8590          6.549         3.670   \n",
       "121  18.14      16.12       0.8772          6.059         3.563   \n",
       "179  12.21      13.47       0.8453          5.357         2.893   \n",
       "140  13.07      13.92       0.8480          5.472         2.994   \n",
       "\n",
       "     asymmetry_coefficient  \n",
       "18                   1.767  \n",
       "19                   4.102  \n",
       "105                  2.553  \n",
       "38                   3.112  \n",
       "135                  3.600  \n",
       "115                  2.248  \n",
       "87                   3.691  \n",
       "121                  3.619  \n",
       "179                  1.661  \n",
       "140                  5.304  "
      ]
     },
     "execution_count": 3,
     "metadata": {},
     "output_type": "execute_result"
    }
   ],
   "source": [
    "# load the training dataset\n",
    "data_df = pd.read_csv('data/seeds.csv')\n",
    "\n",
    "# Display a random sample of 10 observations (just the features)\n",
    "features_df = data_df[data_df.columns[0:6]]\n",
    "features_df.sample(10)"
   ]
  },
  {
   "cell_type": "markdown",
   "metadata": {},
   "source": [
    "As you can see, the dataset contains six data points (or *features*) for each instance (*observation*) of a seed. So you could interpret these as coordinates that describe each instance's location in six-dimensional space.\n",
    "\n",
    "Now, of course six-dimensional space is difficult to visualise in a three-dimensional world, or on a two-dimensional plot; so we'll take advantage of a mathematical technique called *Principal Component Analysis* (PCA) to analyze the relationships between the features and summarize each observation as coordinates for two principal components - in other words, we'll translate the six-dimensional feature values into two-dimensional coordinates."
   ]
  },
  {
   "cell_type": "code",
   "execution_count": 4,
   "metadata": {},
   "outputs": [
    {
     "data": {
      "text/plain": [
       "array([[ 0.11883593, -0.09382469],\n",
       "       [ 0.0696878 , -0.31077233],\n",
       "       [-0.03499184, -0.37044705],\n",
       "       [-0.06582089, -0.36365235],\n",
       "       [ 0.32594892, -0.37695797],\n",
       "       [-0.02455447, -0.31060184],\n",
       "       [-0.00769646, -0.07594931],\n",
       "       [-0.05646955, -0.26696284],\n",
       "       [ 0.38196305, -0.05149471],\n",
       "       [ 0.35701044, -0.17697998]])"
      ]
     },
     "execution_count": 4,
     "metadata": {},
     "output_type": "execute_result"
    }
   ],
   "source": [
    "# Normalize the numeric features so they're on the same scale\n",
    "scaled_features_np = MinMaxScaler().fit_transform(features_df[data_df.columns[0:6]])\n",
    "\n",
    "# Get two principal components\n",
    "pca_model = PCA(n_components=2).fit(scaled_features_np)\n",
    "features_2d_np = pca_model.transform(scaled_features_np)\n",
    "features_2d_np[0:10]"
   ]
  },
  {
   "cell_type": "markdown",
   "metadata": {},
   "source": [
    "Now that we have the data points translated to two dimensions, we can visualize them in a plot:"
   ]
  },
  {
   "cell_type": "code",
   "execution_count": 5,
   "metadata": {},
   "outputs": [
    {
     "data": {
      "image/png": "[encoded data removed]",
      "text/plain": [
       "<Figure size 640x480 with 1 Axes>"
      ]
     },
     "metadata": {},
     "output_type": "display_data"
    }
   ],
   "source": [
    "plt.scatter(x=features_2d_np[:,0], y=features_2d_np[:,1])\n",
    "plt.xlabel('Dimension 1')\n",
    "plt.ylabel('Dimension 2')\n",
    "plt.title('Data')\n",
    "plt.show()"
   ]
  },
  {
   "cell_type": "markdown",
   "metadata": {},
   "source": [
    "Hopefully you can see at least two, arguably three, reasonably distinct groups of data points; but here lies one of the fundamental problems with clustering - without known class labels, how do you know how many clusters to separate your data into?\n",
    "\n",
    "One way we can try to find out is to use a data sample to create a series of clustering models with an incrementing number of clusters, and measure how tightly the data points are grouped within each cluster. A metric often used to measure this tightness is the *within cluster sum of squares* (WCSS), with lower values meaning that the data points are closer. You can then plot the WCSS for each model."
   ]
  },
  {
   "cell_type": "code",
   "execution_count": 6,
   "metadata": {},
   "outputs": [
    {
     "data": {
      "image/png": "[encoded data removed]",
      "text/plain": [
       "<Figure size 640x480 with 1 Axes>"
      ]
     },
     "metadata": {},
     "output_type": "display_data"
    }
   ],
   "source": [
    "# Create 10 models with 1 to 10 clusters\n",
    "wcss_ls = []\n",
    "for i in range(1, 11):\n",
    "    kmeans_model = KMeans(n_clusters=i)\n",
    "    # Fit the data points\n",
    "    kmeans_model.fit(features_df.values)\n",
    "    # Get the WCSS (inertia) value\n",
    "    wcss_ls.append(kmeans_model.inertia_)\n",
    "    \n",
    "# Plot the WCSS values onto a line graph\n",
    "plt.plot(range(1, 11), wcss_ls)\n",
    "plt.title('WCSS by Clusters')\n",
    "plt.xlabel('Number of clusters')\n",
    "plt.ylabel('WCSS')\n",
    "plt.show()"
   ]
  },
  {
   "cell_type": "markdown",
   "metadata": {},
   "source": [
    "The plot shows a large reduction in WCSS (so greater *tightness*) as the number of clusters increases from one to two, and a further noticable reduction from two to three clusters. After that, the reduction is less pronounced, resulting in an \"elbow\" in the chart at around three clusters. This is a good indication that there are two to three reasonably well separated clusters of data points.\n",
    "\n",
    "## Summary\n",
    "\n",
    "Here we looked at what clustering means, and how to determine whether clustering might be appropriate for your data. In the next notebook, we will look at two ways of \n",
    "labelling the data automatically."
   ]
  }
 ],
 "metadata": {
  "kernelspec": {
   "display_name": "Python 3.10.5 ('venv': venv)",
   "language": "python",
   "name": "python3"
  },
  "language_info": {
   "codemirror_mode": {
    "name": "ipython",
    "version": 3
   },
   "file_extension": ".py",
   "mimetype": "text/x-python",
   "name": "python",
   "nbconvert_exporter": "python",
   "pygments_lexer": "ipython3",
   "version": "3.10.5"
  },
  "vscode": {
   "interpreter": {
    "hash": "613dfda3628462da2f8d12167db22471b14e575900a5a648eb956c03253d9679"
   }
  }
 },
 "nbformat": 4,
 "nbformat_minor": 2
}
