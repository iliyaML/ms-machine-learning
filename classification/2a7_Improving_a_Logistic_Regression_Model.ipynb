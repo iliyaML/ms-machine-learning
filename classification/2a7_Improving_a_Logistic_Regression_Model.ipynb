{
 "cells": [
  {
   "cell_type": "markdown",
   "id": "edd76bd1",
   "metadata": {},
   "source": [
    "# Exercise: Improving a logistic regression model\n",
    "\n",
    "In the previous exercise, we fit a simple logistic regression model to predict the chance of an avalanche. This time, we will improve its performance by using multiple features intelligently.\n",
    "\n",
    "## Data visualisation\n",
    "\n",
    "Let's load our data."
   ]
  },
  {
   "cell_type": "code",
   "execution_count": null,
   "id": "e566e045",
   "metadata": {},
   "outputs": [],
   "source": [
    "!wget -P data https://raw.githubusercontent.com/MicrosoftDocs/mslearn-introduction-to-machine-learning/main/Data/avalanche.csv\n",
    "!wget https://raw.githubusercontent.com/MicrosoftDocs/mslearn-introduction-to-machine-learning/main/graphing.py"
   ]
  },
  {
   "cell_type": "code",
   "execution_count": 1,
   "id": "937fbc2b",
   "metadata": {},
   "outputs": [],
   "source": [
    "import pandas as pd\n",
    "\n",
    "from sklearn.model_selection import train_test_split\n",
    "from sklearn.metrics import accuracy_score\n",
    "\n",
    "import statsmodels.formula.api as smf\n",
    "\n",
    "import graphing"
   ]
  },
  {
   "cell_type": "code",
   "execution_count": 2,
   "id": "4eec3f24",
   "metadata": {
    "scrolled": true
   },
   "outputs": [
    {
     "name": "stdout",
     "output_type": "stream",
     "text": [
      "Train size: 821\n",
      "Test size: 274\n"
     ]
    },
    {
     "data": {
      "text/html": [
       "<div>\n",
       "<style scoped>\n",
       "    .dataframe tbody tr th:only-of-type {\n",
       "        vertical-align: middle;\n",
       "    }\n",
       "\n",
       "    .dataframe tbody tr th {\n",
       "        vertical-align: top;\n",
       "    }\n",
       "\n",
       "    .dataframe thead th {\n",
       "        text-align: right;\n",
       "    }\n",
       "</style>\n",
       "<table border=\"1\" class=\"dataframe\">\n",
       "  <thead>\n",
       "    <tr style=\"text-align: right;\">\n",
       "      <th></th>\n",
       "      <th>avalanche</th>\n",
       "      <th>no_visitors</th>\n",
       "      <th>surface_hoar</th>\n",
       "      <th>fresh_thickness</th>\n",
       "      <th>wind</th>\n",
       "      <th>weak_layers</th>\n",
       "      <th>tracked_out</th>\n",
       "    </tr>\n",
       "  </thead>\n",
       "  <tbody>\n",
       "    <tr>\n",
       "      <th>176</th>\n",
       "      <td>0</td>\n",
       "      <td>9</td>\n",
       "      <td>5.142447</td>\n",
       "      <td>9.877195</td>\n",
       "      <td>6</td>\n",
       "      <td>8</td>\n",
       "      <td>1</td>\n",
       "    </tr>\n",
       "    <tr>\n",
       "      <th>114</th>\n",
       "      <td>1</td>\n",
       "      <td>3</td>\n",
       "      <td>8.170281</td>\n",
       "      <td>9.136835</td>\n",
       "      <td>34</td>\n",
       "      <td>7</td>\n",
       "      <td>0</td>\n",
       "    </tr>\n",
       "    <tr>\n",
       "      <th>869</th>\n",
       "      <td>0</td>\n",
       "      <td>3</td>\n",
       "      <td>1.979579</td>\n",
       "      <td>9.497017</td>\n",
       "      <td>10</td>\n",
       "      <td>8</td>\n",
       "      <td>0</td>\n",
       "    </tr>\n",
       "    <tr>\n",
       "      <th>775</th>\n",
       "      <td>1</td>\n",
       "      <td>0</td>\n",
       "      <td>1.999078</td>\n",
       "      <td>9.337908</td>\n",
       "      <td>21</td>\n",
       "      <td>6</td>\n",
       "      <td>0</td>\n",
       "    </tr>\n",
       "    <tr>\n",
       "      <th>181</th>\n",
       "      <td>1</td>\n",
       "      <td>9</td>\n",
       "      <td>6.854401</td>\n",
       "      <td>6.099359</td>\n",
       "      <td>22</td>\n",
       "      <td>5</td>\n",
       "      <td>0</td>\n",
       "    </tr>\n",
       "    <tr>\n",
       "      <th>...</th>\n",
       "      <td>...</td>\n",
       "      <td>...</td>\n",
       "      <td>...</td>\n",
       "      <td>...</td>\n",
       "      <td>...</td>\n",
       "      <td>...</td>\n",
       "      <td>...</td>\n",
       "    </tr>\n",
       "    <tr>\n",
       "      <th>490</th>\n",
       "      <td>1</td>\n",
       "      <td>2</td>\n",
       "      <td>2.376316</td>\n",
       "      <td>7.876755</td>\n",
       "      <td>37</td>\n",
       "      <td>6</td>\n",
       "      <td>1</td>\n",
       "    </tr>\n",
       "    <tr>\n",
       "      <th>256</th>\n",
       "      <td>1</td>\n",
       "      <td>6</td>\n",
       "      <td>3.103706</td>\n",
       "      <td>11.880560</td>\n",
       "      <td>17</td>\n",
       "      <td>7</td>\n",
       "      <td>1</td>\n",
       "    </tr>\n",
       "    <tr>\n",
       "      <th>1032</th>\n",
       "      <td>1</td>\n",
       "      <td>9</td>\n",
       "      <td>6.624182</td>\n",
       "      <td>7.633355</td>\n",
       "      <td>23</td>\n",
       "      <td>0</td>\n",
       "      <td>1</td>\n",
       "    </tr>\n",
       "    <tr>\n",
       "      <th>733</th>\n",
       "      <td>0</td>\n",
       "      <td>3</td>\n",
       "      <td>11.176954</td>\n",
       "      <td>6.179161</td>\n",
       "      <td>14</td>\n",
       "      <td>3</td>\n",
       "      <td>0</td>\n",
       "    </tr>\n",
       "    <tr>\n",
       "      <th>527</th>\n",
       "      <td>1</td>\n",
       "      <td>2</td>\n",
       "      <td>7.827184</td>\n",
       "      <td>9.835755</td>\n",
       "      <td>36</td>\n",
       "      <td>2</td>\n",
       "      <td>1</td>\n",
       "    </tr>\n",
       "  </tbody>\n",
       "</table>\n",
       "<p>821 rows × 7 columns</p>\n",
       "</div>"
      ],
      "text/plain": [
       "      avalanche  no_visitors  surface_hoar  fresh_thickness  wind  \\\n",
       "176           0            9      5.142447         9.877195     6   \n",
       "114           1            3      8.170281         9.136835    34   \n",
       "869           0            3      1.979579         9.497017    10   \n",
       "775           1            0      1.999078         9.337908    21   \n",
       "181           1            9      6.854401         6.099359    22   \n",
       "...         ...          ...           ...              ...   ...   \n",
       "490           1            2      2.376316         7.876755    37   \n",
       "256           1            6      3.103706        11.880560    17   \n",
       "1032          1            9      6.624182         7.633355    23   \n",
       "733           0            3     11.176954         6.179161    14   \n",
       "527           1            2      7.827184         9.835755    36   \n",
       "\n",
       "      weak_layers  tracked_out  \n",
       "176             8            1  \n",
       "114             7            0  \n",
       "869             8            0  \n",
       "775             6            0  \n",
       "181             5            0  \n",
       "...           ...          ...  \n",
       "490             6            1  \n",
       "256             7            1  \n",
       "1032            0            1  \n",
       "733             3            0  \n",
       "527             2            1  \n",
       "\n",
       "[821 rows x 7 columns]"
      ]
     },
     "execution_count": 2,
     "metadata": {},
     "output_type": "execute_result"
    }
   ],
   "source": [
    "# Constants\n",
    "RANDOM_STATE = 42\n",
    "\n",
    "# Import the data from the .csv file\n",
    "data_df = pd.read_csv('data/avalanche.csv', delimiter=\"\\t\", index_col=0)\n",
    "\n",
    "train_df, test_df = train_test_split(data_df, test_size=0.25, random_state=RANDOM_STATE)\n",
    "\n",
    "print(\"Train size:\", train_df.shape[0])\n",
    "print(\"Test size:\", test_df.shape[0])\n",
    "\n",
    "# Let's have a look at the data\n",
    "train_df"
   ]
  },
  {
   "cell_type": "markdown",
   "metadata": {},
   "source": [
    "We have numerous features available:\n",
    "\n",
    "* `surface_hoar` is how disturbed the surface of the snow is\n",
    "* `fresh_thickness` is how thick the top layer of snow is, or 0 if there is no fresh snow on top\n",
    "* `wind` is the top wind speed that day, in km/h\n",
    "* `weak_layers` is the number of layers of snow that are not well-bound to other layers\n",
    "* `no_visitors` is the number of hikers who were on the trail that day\n",
    "* `tracked_out` is a `1` or `0`. A `1` means that the snow has been trampled heavily by hikers \n",
    "\n",
    "## Simple logistic regression\n",
    "\n",
    "Let's make a simple logistic regression model and assess its performance with accuracy.\n",
    "\n"
   ]
  },
  {
   "cell_type": "code",
   "execution_count": 3,
   "metadata": {},
   "outputs": [
    {
     "name": "stdout",
     "output_type": "stream",
     "text": [
      "Optimization terminated successfully.\n",
      "         Current function value: 0.616312\n",
      "         Iterations 5\n",
      "Accuracy: 0.6167883211678832\n"
     ]
    }
   ],
   "source": [
    "# Perform logistic regression.\n",
    "simple_logistic_reg_model = smf.logit(\"avalanche ~ weak_layers\", train_df).fit()\n",
    "\n",
    "# Calculate accuracy\n",
    "def calculate_accuracy(model):\n",
    "    '''\n",
    "    Calculates accuracy\n",
    "    '''\n",
    "    # Make estimations and convert to categories\n",
    "    avalanche_predicted = model.predict(test_df) > 0.5\n",
    "\n",
    "    # Calculate what proportion were predicted correctly\n",
    "    # We can use sklearn to calculate accuracy for us\n",
    "    print(\"Accuracy:\", accuracy_score(test_df.avalanche, avalanche_predicted))\n",
    "\n",
    "calculate_accuracy(simple_logistic_reg_model)"
   ]
  },
  {
   "cell_type": "markdown",
   "metadata": {},
   "source": [
    "Let's see how we can improve our model\n",
    "\n",
    "## Utilizing multiple features\n",
    "\n",
    "Most of our features seem like they could be useful, least in theory. Let's try a model with all features we have available."
   ]
  },
  {
   "cell_type": "code",
   "execution_count": 4,
   "metadata": {},
   "outputs": [
    {
     "name": "stdout",
     "output_type": "stream",
     "text": [
      "Optimization terminated successfully.\n",
      "         Current function value: 0.459347\n",
      "         Iterations 7\n",
      "Accuracy: 0.7846715328467153\n"
     ]
    }
   ],
   "source": [
    "# Perform logistic regression.\n",
    "model_all_features = smf.logit(\"avalanche ~ weak_layers + surface_hoar + fresh_thickness + wind + no_visitors + tracked_out\", train_df).fit()\n",
    "calculate_accuracy(model_all_features)"
   ]
  },
  {
   "cell_type": "markdown",
   "metadata": {},
   "source": [
    "That's a big improvement on the simpler model we've been working with. \n",
    "\n",
    "To understand why, we can look at the summary information"
   ]
  },
  {
   "cell_type": "code",
   "execution_count": 5,
   "metadata": {},
   "outputs": [
    {
     "data": {
      "text/html": [
       "<table class=\"simpletable\">\n",
       "<caption>Logit Regression Results</caption>\n",
       "<tr>\n",
       "  <th>Dep. Variable:</th>       <td>avalanche</td>    <th>  No. Observations:  </th>  <td>   821</td>  \n",
       "</tr>\n",
       "<tr>\n",
       "  <th>Model:</th>                 <td>Logit</td>      <th>  Df Residuals:      </th>  <td>   814</td>  \n",
       "</tr>\n",
       "<tr>\n",
       "  <th>Method:</th>                 <td>MLE</td>       <th>  Df Model:          </th>  <td>     6</td>  \n",
       "</tr>\n",
       "<tr>\n",
       "  <th>Date:</th>            <td>Sat, 22 Oct 2022</td> <th>  Pseudo R-squ.:     </th>  <td>0.3305</td>  \n",
       "</tr>\n",
       "<tr>\n",
       "  <th>Time:</th>                <td>17:34:38</td>     <th>  Log-Likelihood:    </th> <td> -377.12</td> \n",
       "</tr>\n",
       "<tr>\n",
       "  <th>converged:</th>             <td>True</td>       <th>  LL-Null:           </th> <td> -563.33</td> \n",
       "</tr>\n",
       "<tr>\n",
       "  <th>Covariance Type:</th>     <td>nonrobust</td>    <th>  LLR p-value:       </th> <td>2.372e-77</td>\n",
       "</tr>\n",
       "</table>\n",
       "<table class=\"simpletable\">\n",
       "<tr>\n",
       "         <td></td>            <th>coef</th>     <th>std err</th>      <th>z</th>      <th>P>|z|</th>  <th>[0.025</th>    <th>0.975]</th>  \n",
       "</tr>\n",
       "<tr>\n",
       "  <th>Intercept</th>       <td>   -4.0107</td> <td>    0.443</td> <td>   -9.043</td> <td> 0.000</td> <td>   -4.880</td> <td>   -3.141</td>\n",
       "</tr>\n",
       "<tr>\n",
       "  <th>weak_layers</th>     <td>    0.3733</td> <td>    0.034</td> <td>   10.871</td> <td> 0.000</td> <td>    0.306</td> <td>    0.441</td>\n",
       "</tr>\n",
       "<tr>\n",
       "  <th>surface_hoar</th>    <td>    0.3306</td> <td>    0.035</td> <td>    9.424</td> <td> 0.000</td> <td>    0.262</td> <td>    0.399</td>\n",
       "</tr>\n",
       "<tr>\n",
       "  <th>fresh_thickness</th> <td>   -0.0220</td> <td>    0.030</td> <td>   -0.732</td> <td> 0.464</td> <td>   -0.081</td> <td>    0.037</td>\n",
       "</tr>\n",
       "<tr>\n",
       "  <th>wind</th>            <td>    0.1009</td> <td>    0.009</td> <td>   11.149</td> <td> 0.000</td> <td>    0.083</td> <td>    0.119</td>\n",
       "</tr>\n",
       "<tr>\n",
       "  <th>no_visitors</th>     <td>   -0.1060</td> <td>    0.032</td> <td>   -3.262</td> <td> 0.001</td> <td>   -0.170</td> <td>   -0.042</td>\n",
       "</tr>\n",
       "<tr>\n",
       "  <th>tracked_out</th>     <td>   -0.0664</td> <td>    0.181</td> <td>   -0.367</td> <td> 0.713</td> <td>   -0.420</td> <td>    0.288</td>\n",
       "</tr>\n",
       "</table>"
      ],
      "text/plain": [
       "<class 'statsmodels.iolib.summary.Summary'>\n",
       "\"\"\"\n",
       "                           Logit Regression Results                           \n",
       "==============================================================================\n",
       "Dep. Variable:              avalanche   No. Observations:                  821\n",
       "Model:                          Logit   Df Residuals:                      814\n",
       "Method:                           MLE   Df Model:                            6\n",
       "Date:                Sat, 22 Oct 2022   Pseudo R-squ.:                  0.3305\n",
       "Time:                        17:34:38   Log-Likelihood:                -377.12\n",
       "converged:                       True   LL-Null:                       -563.33\n",
       "Covariance Type:            nonrobust   LLR p-value:                 2.372e-77\n",
       "===================================================================================\n",
       "                      coef    std err          z      P>|z|      [0.025      0.975]\n",
       "-----------------------------------------------------------------------------------\n",
       "Intercept          -4.0107      0.443     -9.043      0.000      -4.880      -3.141\n",
       "weak_layers         0.3733      0.034     10.871      0.000       0.306       0.441\n",
       "surface_hoar        0.3306      0.035      9.424      0.000       0.262       0.399\n",
       "fresh_thickness    -0.0220      0.030     -0.732      0.464      -0.081       0.037\n",
       "wind                0.1009      0.009     11.149      0.000       0.083       0.119\n",
       "no_visitors        -0.1060      0.032     -3.262      0.001      -0.170      -0.042\n",
       "tracked_out        -0.0664      0.181     -0.367      0.713      -0.420       0.288\n",
       "===================================================================================\n",
       "\"\"\""
      ]
     },
     "execution_count": 5,
     "metadata": {},
     "output_type": "execute_result"
    }
   ],
   "source": [
    "model_all_features.summary()"
   ]
  },
  {
   "cell_type": "markdown",
   "metadata": {},
   "source": [
    "Take a look at the P column, recalling that values less than 0.05 mean we can be confident that this parameter is helping the model make better predictions.\n",
    "\n",
    "Both `surface_hoar` and `wind` have very small values here, meaning they are useful predictors and probably explain why our model is working better. If we look at the `coef` (which states _parameters_) column we see that these have positive values. This means that higher winds, and greater amounts of surface hoar result in higher avalanche risk.\n",
    "\n",
    "## Simplifying our model\n",
    "\n",
    "Looking at the summary again, we can see that `tracked_out` (how trampled the snow is), and `fresh_thickness` have large p-values. This means they are not useful predictors. Let's see what happens if we remove them from our model:"
   ]
  },
  {
   "cell_type": "code",
   "execution_count": 6,
   "metadata": {},
   "outputs": [
    {
     "name": "stdout",
     "output_type": "stream",
     "text": [
      "Optimization terminated successfully.\n",
      "         Current function value: 0.459760\n",
      "         Iterations 7\n",
      "Accuracy: 0.781021897810219\n"
     ]
    }
   ],
   "source": [
    "# Perform logistic regression.\n",
    "model_simplified = smf.logit(\"avalanche ~ weak_layers + surface_hoar + wind + no_visitors\", train_df).fit()\n",
    "calculate_accuracy(model_simplified)"
   ]
  },
  {
   "cell_type": "markdown",
   "metadata": {},
   "source": [
    "Our new model works very similarly to the old one! In some circumstances simplifying a model like this can even improve it, as it becomes less likely to overfit.\n",
    "\n",
    "## Careful feature selection\n",
    "\n",
    "Usually, we don't just pick features blindly. Let's think about what we've just done - we removed how much fresh snow was in a model, trying to predict avalanches. Something seems off. Surely avalanches are much _more_ likely after it has snowed? Similarly, the number of people on the track seems unrelated to how many avalanches there were, but we know that people often can trigger avalanches.\n",
    "\n",
    "Let's review our earlier model again:"
   ]
  },
  {
   "cell_type": "code",
   "execution_count": 7,
   "metadata": {},
   "outputs": [
    {
     "data": {
      "text/html": [
       "<table class=\"simpletable\">\n",
       "<caption>Logit Regression Results</caption>\n",
       "<tr>\n",
       "  <th>Dep. Variable:</th>       <td>avalanche</td>    <th>  No. Observations:  </th>  <td>   821</td>  \n",
       "</tr>\n",
       "<tr>\n",
       "  <th>Model:</th>                 <td>Logit</td>      <th>  Df Residuals:      </th>  <td>   814</td>  \n",
       "</tr>\n",
       "<tr>\n",
       "  <th>Method:</th>                 <td>MLE</td>       <th>  Df Model:          </th>  <td>     6</td>  \n",
       "</tr>\n",
       "<tr>\n",
       "  <th>Date:</th>            <td>Sat, 22 Oct 2022</td> <th>  Pseudo R-squ.:     </th>  <td>0.3305</td>  \n",
       "</tr>\n",
       "<tr>\n",
       "  <th>Time:</th>                <td>17:34:39</td>     <th>  Log-Likelihood:    </th> <td> -377.12</td> \n",
       "</tr>\n",
       "<tr>\n",
       "  <th>converged:</th>             <td>True</td>       <th>  LL-Null:           </th> <td> -563.33</td> \n",
       "</tr>\n",
       "<tr>\n",
       "  <th>Covariance Type:</th>     <td>nonrobust</td>    <th>  LLR p-value:       </th> <td>2.372e-77</td>\n",
       "</tr>\n",
       "</table>\n",
       "<table class=\"simpletable\">\n",
       "<tr>\n",
       "         <td></td>            <th>coef</th>     <th>std err</th>      <th>z</th>      <th>P>|z|</th>  <th>[0.025</th>    <th>0.975]</th>  \n",
       "</tr>\n",
       "<tr>\n",
       "  <th>Intercept</th>       <td>   -4.0107</td> <td>    0.443</td> <td>   -9.043</td> <td> 0.000</td> <td>   -4.880</td> <td>   -3.141</td>\n",
       "</tr>\n",
       "<tr>\n",
       "  <th>weak_layers</th>     <td>    0.3733</td> <td>    0.034</td> <td>   10.871</td> <td> 0.000</td> <td>    0.306</td> <td>    0.441</td>\n",
       "</tr>\n",
       "<tr>\n",
       "  <th>surface_hoar</th>    <td>    0.3306</td> <td>    0.035</td> <td>    9.424</td> <td> 0.000</td> <td>    0.262</td> <td>    0.399</td>\n",
       "</tr>\n",
       "<tr>\n",
       "  <th>fresh_thickness</th> <td>   -0.0220</td> <td>    0.030</td> <td>   -0.732</td> <td> 0.464</td> <td>   -0.081</td> <td>    0.037</td>\n",
       "</tr>\n",
       "<tr>\n",
       "  <th>wind</th>            <td>    0.1009</td> <td>    0.009</td> <td>   11.149</td> <td> 0.000</td> <td>    0.083</td> <td>    0.119</td>\n",
       "</tr>\n",
       "<tr>\n",
       "  <th>no_visitors</th>     <td>   -0.1060</td> <td>    0.032</td> <td>   -3.262</td> <td> 0.001</td> <td>   -0.170</td> <td>   -0.042</td>\n",
       "</tr>\n",
       "<tr>\n",
       "  <th>tracked_out</th>     <td>   -0.0664</td> <td>    0.181</td> <td>   -0.367</td> <td> 0.713</td> <td>   -0.420</td> <td>    0.288</td>\n",
       "</tr>\n",
       "</table>"
      ],
      "text/plain": [
       "<class 'statsmodels.iolib.summary.Summary'>\n",
       "\"\"\"\n",
       "                           Logit Regression Results                           \n",
       "==============================================================================\n",
       "Dep. Variable:              avalanche   No. Observations:                  821\n",
       "Model:                          Logit   Df Residuals:                      814\n",
       "Method:                           MLE   Df Model:                            6\n",
       "Date:                Sat, 22 Oct 2022   Pseudo R-squ.:                  0.3305\n",
       "Time:                        17:34:39   Log-Likelihood:                -377.12\n",
       "converged:                       True   LL-Null:                       -563.33\n",
       "Covariance Type:            nonrobust   LLR p-value:                 2.372e-77\n",
       "===================================================================================\n",
       "                      coef    std err          z      P>|z|      [0.025      0.975]\n",
       "-----------------------------------------------------------------------------------\n",
       "Intercept          -4.0107      0.443     -9.043      0.000      -4.880      -3.141\n",
       "weak_layers         0.3733      0.034     10.871      0.000       0.306       0.441\n",
       "surface_hoar        0.3306      0.035      9.424      0.000       0.262       0.399\n",
       "fresh_thickness    -0.0220      0.030     -0.732      0.464      -0.081       0.037\n",
       "wind                0.1009      0.009     11.149      0.000       0.083       0.119\n",
       "no_visitors        -0.1060      0.032     -3.262      0.001      -0.170      -0.042\n",
       "tracked_out        -0.0664      0.181     -0.367      0.713      -0.420       0.288\n",
       "===================================================================================\n",
       "\"\"\""
      ]
     },
     "execution_count": 7,
     "metadata": {},
     "output_type": "execute_result"
    }
   ],
   "source": [
    "model_all_features.summary()"
   ]
  },
  {
   "cell_type": "markdown",
   "metadata": {},
   "source": [
    "Look at the `fresh_thickness` row. We're told that it has a negative coefficient. This means that as thickness increases, avalanches decrease.\n",
    "\n",
    "Similarly, `no_visitors` has a negative coefficient, meaning that fewer hikers means more avalanches.\n",
    "\n",
    "How can this bes? Well, while visitors can cause avalanches if there is a lot of fresh snow, presumably they cannot do so easily if there is no fresh snow. This means that our features are not fully independent.\n",
    "\n",
    "We can tell the model to try to take into account that these features interact, using a multiply sign. Let's try that now."
   ]
  },
  {
   "cell_type": "code",
   "execution_count": 8,
   "metadata": {},
   "outputs": [
    {
     "name": "stdout",
     "output_type": "stream",
     "text": [
      "Optimization terminated successfully.\n",
      "         Current function value: 0.413538\n",
      "         Iterations 7\n",
      "Accuracy: 0.8357664233576643\n"
     ]
    }
   ],
   "source": [
    "# Create a model with an interaction. Notice the end of the string where\n",
    "# we have a multiply sign between no_visitors and fresh_thickness\n",
    "formula = \"avalanche ~ weak_layers + surface_hoar + wind + no_visitors * fresh_thickness\"\n",
    "model_with_interaction = smf.logit(formula, train_df).fit()\n",
    "calculate_accuracy(model_with_interaction)"
   ]
  },
  {
   "cell_type": "markdown",
   "metadata": {},
   "source": [
    "The model has improved to 84% accuracy! Let's look at the summary information:"
   ]
  },
  {
   "cell_type": "code",
   "execution_count": 9,
   "metadata": {},
   "outputs": [
    {
     "data": {
      "text/html": [
       "<table class=\"simpletable\">\n",
       "<caption>Logit Regression Results</caption>\n",
       "<tr>\n",
       "  <th>Dep. Variable:</th>       <td>avalanche</td>    <th>  No. Observations:  </th>  <td>   821</td>  \n",
       "</tr>\n",
       "<tr>\n",
       "  <th>Model:</th>                 <td>Logit</td>      <th>  Df Residuals:      </th>  <td>   814</td>  \n",
       "</tr>\n",
       "<tr>\n",
       "  <th>Method:</th>                 <td>MLE</td>       <th>  Df Model:          </th>  <td>     6</td>  \n",
       "</tr>\n",
       "<tr>\n",
       "  <th>Date:</th>            <td>Sat, 22 Oct 2022</td> <th>  Pseudo R-squ.:     </th>  <td>0.3973</td>  \n",
       "</tr>\n",
       "<tr>\n",
       "  <th>Time:</th>                <td>17:34:39</td>     <th>  Log-Likelihood:    </th> <td> -339.51</td> \n",
       "</tr>\n",
       "<tr>\n",
       "  <th>converged:</th>             <td>True</td>       <th>  LL-Null:           </th> <td> -563.33</td> \n",
       "</tr>\n",
       "<tr>\n",
       "  <th>Covariance Type:</th>     <td>nonrobust</td>    <th>  LLR p-value:       </th> <td>1.587e-93</td>\n",
       "</tr>\n",
       "</table>\n",
       "<table class=\"simpletable\">\n",
       "<tr>\n",
       "               <td></td>                  <th>coef</th>     <th>std err</th>      <th>z</th>      <th>P>|z|</th>  <th>[0.025</th>    <th>0.975]</th>  \n",
       "</tr>\n",
       "<tr>\n",
       "  <th>Intercept</th>                   <td>   -0.9606</td> <td>    0.587</td> <td>   -1.636</td> <td> 0.102</td> <td>   -2.111</td> <td>    0.190</td>\n",
       "</tr>\n",
       "<tr>\n",
       "  <th>weak_layers</th>                 <td>    0.4327</td> <td>    0.039</td> <td>   11.193</td> <td> 0.000</td> <td>    0.357</td> <td>    0.508</td>\n",
       "</tr>\n",
       "<tr>\n",
       "  <th>surface_hoar</th>                <td>    0.3887</td> <td>    0.039</td> <td>   10.035</td> <td> 0.000</td> <td>    0.313</td> <td>    0.465</td>\n",
       "</tr>\n",
       "<tr>\n",
       "  <th>wind</th>                        <td>    0.1204</td> <td>    0.010</td> <td>   11.607</td> <td> 0.000</td> <td>    0.100</td> <td>    0.141</td>\n",
       "</tr>\n",
       "<tr>\n",
       "  <th>no_visitors</th>                 <td>   -0.9430</td> <td>    0.114</td> <td>   -8.237</td> <td> 0.000</td> <td>   -1.167</td> <td>   -0.719</td>\n",
       "</tr>\n",
       "<tr>\n",
       "  <th>fresh_thickness</th>             <td>   -0.4962</td> <td>    0.069</td> <td>   -7.191</td> <td> 0.000</td> <td>   -0.631</td> <td>   -0.361</td>\n",
       "</tr>\n",
       "<tr>\n",
       "  <th>no_visitors:fresh_thickness</th> <td>    0.1015</td> <td>    0.013</td> <td>    7.835</td> <td> 0.000</td> <td>    0.076</td> <td>    0.127</td>\n",
       "</tr>\n",
       "</table>"
      ],
      "text/plain": [
       "<class 'statsmodels.iolib.summary.Summary'>\n",
       "\"\"\"\n",
       "                           Logit Regression Results                           \n",
       "==============================================================================\n",
       "Dep. Variable:              avalanche   No. Observations:                  821\n",
       "Model:                          Logit   Df Residuals:                      814\n",
       "Method:                           MLE   Df Model:                            6\n",
       "Date:                Sat, 22 Oct 2022   Pseudo R-squ.:                  0.3973\n",
       "Time:                        17:34:39   Log-Likelihood:                -339.51\n",
       "converged:                       True   LL-Null:                       -563.33\n",
       "Covariance Type:            nonrobust   LLR p-value:                 1.587e-93\n",
       "===============================================================================================\n",
       "                                  coef    std err          z      P>|z|      [0.025      0.975]\n",
       "-----------------------------------------------------------------------------------------------\n",
       "Intercept                      -0.9606      0.587     -1.636      0.102      -2.111       0.190\n",
       "weak_layers                     0.4327      0.039     11.193      0.000       0.357       0.508\n",
       "surface_hoar                    0.3887      0.039     10.035      0.000       0.313       0.465\n",
       "wind                            0.1204      0.010     11.607      0.000       0.100       0.141\n",
       "no_visitors                    -0.9430      0.114     -8.237      0.000      -1.167      -0.719\n",
       "fresh_thickness                -0.4962      0.069     -7.191      0.000      -0.631      -0.361\n",
       "no_visitors:fresh_thickness     0.1015      0.013      7.835      0.000       0.076       0.127\n",
       "===============================================================================================\n",
       "\"\"\""
      ]
     },
     "execution_count": 9,
     "metadata": {},
     "output_type": "execute_result"
    }
   ],
   "source": [
    "model_with_interaction.summary()"
   ]
  },
  {
   "cell_type": "markdown",
   "metadata": {},
   "source": [
    "We can see that the interaction term is helpful - the p-value is less than 0.05. The model is also performing better than our previous attempts.\n",
    "\n",
    "## Making predictions with multiple features\n",
    "\n",
    "Very quickly, lets explore what this interaction means by looking at model predictions. \n",
    "\n",
    "We will first graph two independent features in 3D. Let's start with `weak_layers` and `wind`:"
   ]
  },
  {
   "cell_type": "code",
   "execution_count": 10,
   "metadata": {},
   "outputs": [
    {
     "name": "stdout",
     "output_type": "stream",
     "text": [
      "Creating plot...\n"
     ]
    },
    {
     "data": {
      "application/vnd.plotly.v1+json": {
       "config": {
        "plotlyServerURL": "https://plot.ly"
       },
       "data": [
        {
         "colorbar": {
          "title": {
           "text": "Probability"
          }
         },
         "type": "surface",
         "x": [
          0,
          0.5263157894736842,
          1.0526315789473684,
          1.5789473684210527,
          2.1052631578947367,
          2.631578947368421,
          3.1578947368421053,
          3.6842105263157894,
          4.2105263157894735,
          4.7368421052631575,
          5.263157894736842,
          5.789473684210526,
          6.315789473684211,
          6.842105263157895,
          7.368421052631579,
          7.894736842105263,
          8.421052631578947,
          8.947368421052632,
          9.473684210526315,
          10
         ],
         "y": [
          0,
          2.1052631578947367,
          4.2105263157894735,
          6.315789473684211,
          8.421052631578947,
          10.526315789473683,
          12.631578947368421,
          14.736842105263158,
          16.842105263157894,
          18.94736842105263,
          21.052631578947366,
          23.157894736842103,
          25.263157894736842,
          27.36842105263158,
          29.473684210526315,
          31.57894736842105,
          33.68421052631579,
          35.78947368421053,
          37.89473684210526,
          40
         ],
         "z": [
          [
           0.016645957693825056,
           0.020814840607851454,
           0.02600019030453691,
           0.032434515151245846,
           0.04039511781818852,
           0.0502081541005343,
           0.062250392880744104,
           0.076946924689372,
           0.09476250165120643,
           0.11618374094289906,
           0.14168936410604607,
           0.17170638939602195,
           0.206552225613091,
           0.24636626991052768,
           0.2910396955272616,
           0.3401574636647385,
           0.3929699130776832,
           0.4484097530447753,
           0.5051621313818825,
           0.5617817957334992
          ],
          [
           0.021346250874046374,
           0.026660379959860345,
           0.03325250563605881,
           0.041405281377053606,
           0.05145055573832171,
           0.06377077263590873,
           0.07879608612711328,
           0.09699481187948708,
           0.11885441453560695,
           0.14485023834257188,
           0.17540005473580333,
           0.21080470437300503,
           0.2511789509343639,
           0.2963818573936387,
           0.34596124808260137,
           0.39912972998722407,
           0.45478751969294684,
           0.5115984217991139,
           0.5681112654228487,
           0.622904929747915
          ],
          [
           0.027336862478350966,
           0.034090398796134416,
           0.042439588961305334,
           0.05272199409901785,
           0.06532569878550105,
           0.08068580151860122,
           0.09927394146533038,
           0.121578033134854,
           0.14806946226643572,
           0.1791559903959387,
           0.2151209961653295,
           0.2560537039268288,
           0.3017803371457658,
           0.3518112596427833,
           0.4053216310213684,
           0.461180154682843,
           0.5180308686491494,
           0.574418570769919,
           0.6289346881541373,
           0.6803534544597579
          ],
          [
           0.0349486418445592,
           0.04349856121946093,
           0.05402306260154112,
           0.06691582893685824,
           0.08261677228887322,
           0.10160059922327566,
           0.12435525671790353,
           0.15134756941626798,
           0.18297450739284649,
           0.21950108471615506,
           0.2609900899184287,
           0.3072342118701478,
           0.35770609018974564,
           0.4115437987197178,
           0.46758558341843826,
           0.5244573448590972,
           0.5807017480046247,
           0.6349245385796639,
           0.6859277746666799,
           0.7328041649648124
          ],
          [
           0.04458272717896005,
           0.055354362536169655,
           0.06854182693460961,
           0.0845897028652513,
           0.10397549166090808,
           0.127186735246931,
           0.1546850732641815,
           0.18685588500277087,
           0.223944910338666,
           0.2659876173870464,
           0.3127425025115834,
           0.36364427996741894,
           0.41779437764768235,
           0.4740017144933723,
           0.5308757312572931,
           0.5869588642866028,
           0.6408729098191849,
           0.6914489707921985,
           0.7378162846035232,
           0.7794384064287008
          ],
          [
           0.056716502944610885,
           0.0702043625843675,
           0.08660530018906312,
           0.10639932223086003,
           0.13007310764345903,
           0.15808246595543152,
           0.19080036940203476,
           0.22845236871818475,
           0.2710457415176516,
           0.31830417394258337,
           0.3696243187094081,
           0.4240714764669755,
           0.48042644240012156,
           0.5372839193601385,
           0.5931880199809336,
           0.6467782796614672,
           0.6969159942763314,
           0.7427673886102318,
           0.7838337961072348,
           0.8199334554749754
          ],
          [
           0.07190411135523353,
           0.08866427320006466,
           0.10887279055148738,
           0.13301500073263567,
           0.1615402170280647,
           0.19480817230942885,
           0.2330233097333141,
           0.2761638635378257,
           0.32391813514133755,
           0.37564464684767696,
           0.4303731701007749,
           0.4868576502785506,
           0.5436798141289764,
           0.5993873508453104,
           0.6526391761263506,
           0.7023278525986818,
           0.7476569727396458,
           0.7881653993443142,
           0.8237043806463827,
           0.8543826343307096
          ],
          [
           0.09076733229295485,
           0.11139659159602473,
           0.13601302815798513,
           0.16505877211442144,
           0.1988794696340385,
           0.23765753631757008,
           0.28134133013343915,
           0.32958323948078067,
           0.381703656838813,
           0.4366975019886719,
           0.4932932126962612,
           0.5500613366893954,
           0.605555030123668,
           0.6584541785834421,
           0.7076836093736509,
           0.7524845854834108,
           0.7924331895614501,
           0.8274129580459253,
           0.857557460180735,
           0.883180210148344
          ],
          [
           0.11397141485009529,
           0.13906778926737626,
           0.16863855162652064,
           0.2030144001319638,
           0.24235480336595172,
           0.2865774329487215,
           0.3352982851309857,
           0.3877996946065137,
           0.4430424864261319,
           0.4997309984530128,
           0.5564264270055198,
           0.6116892705417273,
           0.6642219187519384,
           0.712982384339243,
           0.7572498272751562,
           0.7966371826481412,
           0.8310595219050168,
           0.8606743545154305,
           0.8858110901652293,
           0.9069032764599655
          ],
          [
           0.14217986797108434,
           0.17227994942751426,
           0.20721306407553247,
           0.2471148166909522,
           0.29187140817481766,
           0.341062015576775,
           0.39393106109847703,
           0.44940611098279926,
           0.5061688734013627,
           0.5627730465020616,
           0.6177883262003098,
           0.6699410815814572,
           0.7182233532425084,
           0.7619523496275623,
           0.8007774356937654,
           0.8346444358063171,
           0.863733883197193,
           0.8883902080802186,
           0.9090549085911789,
           0.9262113037878474
          ],
          [
           0.17598333149156434,
           0.21147552193875382,
           0.25193723203254453,
           0.29722243623078237,
           0.34687312025207495,
           0.4000960139554224,
           0.4557863389936233,
           0.5126047032756066,
           0.5690991806271593,
           0.6238504943627534,
           0.6756104060141773,
           0.7234057476249417,
           0.766591854205972,
           0.8048540456950112,
           0.8381680913339092,
           0.8667366287937116,
           0.8909182464449444,
           0.9111616839040712,
           0.9279521440586539,
           0.9417720006578866
          ],
          [
           0.21580179310289022,
           0.2568216541266967,
           0.30262964154077315,
           0.35273023529216674,
           0.4062927692894987,
           0.46218111211644264,
           0.5190363565210503,
           0.5754028413493049,
           0.6298741171331829,
           0.6812286856290086,
           0.7285288545113716,
           0.7711680918430948,
           0.8088671482428638,
           0.8416309067323197,
           0.8696831894069272,
           0.8933958942473216,
           0.9132243137232933,
           0.9296550332720765,
           0.9431682550481993,
           0.954213445875353
          ],
          [
           0.2617676358369628,
           0.30809209241100455,
           0.3586319444045797,
           0.4125195035688896,
           0.46858835294935103,
           0.5254617071156504,
           0.5816820695819706,
           0.6358575830228645,
           0.6867947691689027,
           0.7335920160060944,
           0.7756808614993521,
           0.812816916193029,
           0.8450333255769138,
           0.8725741775288057,
           0.895823846034714,
           0.9152435085396288,
           0.9313206526727138,
           0.9445330004356005,
           0.955325517723023,
           0.9640978962737138
          ],
          [
           0.3136088010097931,
           0.36457677985897086,
           0.4187743556049629,
           0.4750059677008967,
           0.5318786373760891,
           0.5879349375298796,
           0.6417993284023285,
           0.6923075609528095,
           0.7385946288001818,
           0.7801300091734076,
           0.8167035583235579,
           0.8483758154580294,
           0.8754102189249392,
           0.8982028010687956,
           0.9172199774356153,
           0.9329496781887815,
           0.9458668541081956,
           0.956411813192564,
           0.9649787040389304,
           0.9719112944640012
          ],
          [
           0.37056322359590005,
           0.4250554286378745,
           0.4814318489059055,
           0.5382850407404355,
           0.5941595509512245,
           0.6476978388374044,
           0.6977660211741308,
           0.7435361435940516,
           0.7845154267673815,
           0.8205273179832826,
           0.8516588666810544,
           0.8781919515468614,
           0.9005334625120655,
           0.9191544275397019,
           0.9345427801108466,
           0.9471704257495396,
           0.9574728703739549,
           0.9658386681162755,
           0.9726058582162337,
           0.9780629493614907
          ],
          [
           0.4313607925161041,
           0.4878638781795082,
           0.5446788245196436,
           0.6003540513305257,
           0.6535516503077713,
           0.7031691660878787,
           0.7484160644395245,
           0.7888370509112106,
           0.8242884717345303,
           0.8548829909844837,
           0.8809200244738328,
           0.9028165366458969,
           0.9210475635083619,
           0.9361006227925329,
           0.9484443173024492,
           0.958509218994293,
           0.9666782445653918,
           0.9732837192447673,
           0.9786087459777622,
           0.9828910582158095
          ],
          [
           0.4942999290017695,
           0.5510579126103023,
           0.6065166179572109,
           0.6593593503070883,
           0.7085160680890586,
           0.7532339480057016,
           0.7930948617505401,
           0.8279873279934331,
           0.8580487202778405,
           0.8835950968847349,
           0.9050527321199291,
           0.9229000870355565,
           0.9376238643724677,
           0.9496891228478452,
           0.9595213804025993,
           0.9674978812793721,
           0.9739452561140353,
           0.9791412527088456,
           0.9833187796263508,
           0.9866710334833123
          ],
          [
           0.5574202481612276,
           0.6126454699054307,
           0.6651195788242044,
           0.7138058556851004,
           0.7579894027730836,
           0.7972888817024616,
           0.8316242256709866,
           0.8611566054011814,
           0.886217837060591,
           0.9072427592325494,
           0.924712696388919,
           0.9391131565167516,
           0.9509054284979732,
           0.9605098675638244,
           0.9682980180398959,
           0.9745908399409995,
           0.9796607789064213,
           0.9837359849930212,
           0.9870055053241357,
           0.9896246930062356
          ],
          [
           0.6187388679110466,
           0.6708310292053972,
           0.7190377133654297,
           0.7626820881604134,
           0.8014191741833104,
           0.8351995328178564,
           0.8642072149077569,
           0.888788921418126,
           0.9093873292421425,
           0.926486085972001,
           0.9405691441812263,
           0.9520938123033512,
           0.9614751850615483,
           0.9690790865772716,
           0.975220834484881,
           0.9801676274236324,
           0.9841429241199448,
           0.9873316918230046,
           0.9898858066476875,
           0.9919291842124516
          ],
          [
           0.6764924488980055,
           0.7242108813715356,
           0.7673117135887769,
           0.8054858423126383,
           0.8387136452757654,
           0.867201133871246,
           0.8913090335746723,
           0.9114871537087417,
           0.9282209459119153,
           0.9419924653928231,
           0.9532548441728245,
           0.9624178291088816,
           0.9698415106350348,
           0.9758355962389341,
           0.9806620947164298,
           0.9845398413099923,
           0.9876497928747765,
           0.9901404143557498,
           0.9921327621613009,
           0.9937250633679068
          ]
         ]
        }
       ],
       "layout": {
        "scene": {
         "xaxis": {
          "title": {
           "text": "weak_layers"
          }
         },
         "yaxis": {
          "title": {
           "text": "wind"
          }
         },
         "zaxis": {
          "title": {
           "text": "Probability"
          }
         }
        },
        "template": {
         "data": {
          "bar": [
           {
            "error_x": {
             "color": "#2a3f5f"
            },
            "error_y": {
             "color": "#2a3f5f"
            },
            "marker": {
             "line": {
              "color": "white",
              "width": 0.5
             }
            },
            "type": "bar"
           }
          ],
          "barpolar": [
           {
            "marker": {
             "line": {
              "color": "white",
              "width": 0.5
             }
            },
            "type": "barpolar"
           }
          ],
          "box": [
           {
            "boxpoints": "outliers",
            "notched": false,
            "type": "box"
           }
          ],
          "carpet": [
           {
            "aaxis": {
             "endlinecolor": "#2a3f5f",
             "gridcolor": "#C8D4E3",
             "linecolor": "#C8D4E3",
             "minorgridcolor": "#C8D4E3",
             "startlinecolor": "#2a3f5f"
            },
            "baxis": {
             "endlinecolor": "#2a3f5f",
             "gridcolor": "#C8D4E3",
             "linecolor": "#C8D4E3",
             "minorgridcolor": "#C8D4E3",
             "startlinecolor": "#2a3f5f"
            },
            "type": "carpet"
           }
          ],
          "choropleth": [
           {
            "colorbar": {
             "outlinewidth": 0,
             "ticks": ""
            },
            "type": "choropleth"
           }
          ],
          "contour": [
           {
            "colorbar": {
             "outlinewidth": 0,
             "ticks": ""
            },
            "colorscale": [
             [
              0,
              "#0d0887"
             ],
             [
              0.1111111111111111,
              "#46039f"
             ],
             [
              0.2222222222222222,
              "#7201a8"
             ],
             [
              0.3333333333333333,
              "#9c179e"
             ],
             [
              0.4444444444444444,
              "#bd3786"
             ],
             [
              0.5555555555555556,
              "#d8576b"
             ],
             [
              0.6666666666666666,
              "#ed7953"
             ],
             [
              0.7777777777777778,
              "#fb9f3a"
             ],
             [
              0.8888888888888888,
              "#fdca26"
             ],
             [
              1,
              "#f0f921"
             ]
            ],
            "type": "contour"
           }
          ],
          "contourcarpet": [
           {
            "colorbar": {
             "outlinewidth": 0,
             "ticks": ""
            },
            "type": "contourcarpet"
           }
          ],
          "heatmap": [
           {
            "colorbar": {
             "outlinewidth": 0,
             "ticks": ""
            },
            "colorscale": [
             [
              0,
              "#0d0887"
             ],
             [
              0.1111111111111111,
              "#46039f"
             ],
             [
              0.2222222222222222,
              "#7201a8"
             ],
             [
              0.3333333333333333,
              "#9c179e"
             ],
             [
              0.4444444444444444,
              "#bd3786"
             ],
             [
              0.5555555555555556,
              "#d8576b"
             ],
             [
              0.6666666666666666,
              "#ed7953"
             ],
             [
              0.7777777777777778,
              "#fb9f3a"
             ],
             [
              0.8888888888888888,
              "#fdca26"
             ],
             [
              1,
              "#f0f921"
             ]
            ],
            "type": "heatmap"
           }
          ],
          "heatmapgl": [
           {
            "colorbar": {
             "outlinewidth": 0,
             "ticks": ""
            },
            "colorscale": [
             [
              0,
              "#0d0887"
             ],
             [
              0.1111111111111111,
              "#46039f"
             ],
             [
              0.2222222222222222,
              "#7201a8"
             ],
             [
              0.3333333333333333,
              "#9c179e"
             ],
             [
              0.4444444444444444,
              "#bd3786"
             ],
             [
              0.5555555555555556,
              "#d8576b"
             ],
             [
              0.6666666666666666,
              "#ed7953"
             ],
             [
              0.7777777777777778,
              "#fb9f3a"
             ],
             [
              0.8888888888888888,
              "#fdca26"
             ],
             [
              1,
              "#f0f921"
             ]
            ],
            "type": "heatmapgl"
           }
          ],
          "histogram": [
           {
            "marker": {
             "colorbar": {
              "outlinewidth": 0,
              "ticks": ""
             },
             "line": {
              "width": 1
             }
            },
            "type": "histogram"
           }
          ],
          "histogram2d": [
           {
            "colorbar": {
             "outlinewidth": 0,
             "ticks": ""
            },
            "colorscale": [
             [
              0,
              "#0d0887"
             ],
             [
              0.1111111111111111,
              "#46039f"
             ],
             [
              0.2222222222222222,
              "#7201a8"
             ],
             [
              0.3333333333333333,
              "#9c179e"
             ],
             [
              0.4444444444444444,
              "#bd3786"
             ],
             [
              0.5555555555555556,
              "#d8576b"
             ],
             [
              0.6666666666666666,
              "#ed7953"
             ],
             [
              0.7777777777777778,
              "#fb9f3a"
             ],
             [
              0.8888888888888888,
              "#fdca26"
             ],
             [
              1,
              "#f0f921"
             ]
            ],
            "type": "histogram2d"
           }
          ],
          "histogram2dcontour": [
           {
            "colorbar": {
             "outlinewidth": 0,
             "ticks": ""
            },
            "colorscale": [
             [
              0,
              "#0d0887"
             ],
             [
              0.1111111111111111,
              "#46039f"
             ],
             [
              0.2222222222222222,
              "#7201a8"
             ],
             [
              0.3333333333333333,
              "#9c179e"
             ],
             [
              0.4444444444444444,
              "#bd3786"
             ],
             [
              0.5555555555555556,
              "#d8576b"
             ],
             [
              0.6666666666666666,
              "#ed7953"
             ],
             [
              0.7777777777777778,
              "#fb9f3a"
             ],
             [
              0.8888888888888888,
              "#fdca26"
             ],
             [
              1,
              "#f0f921"
             ]
            ],
            "type": "histogram2dcontour"
           }
          ],
          "mesh3d": [
           {
            "colorbar": {
             "outlinewidth": 0,
             "ticks": ""
            },
            "type": "mesh3d"
           }
          ],
          "parcoords": [
           {
            "line": {
             "colorbar": {
              "outlinewidth": 0,
              "ticks": ""
             }
            },
            "type": "parcoords"
           }
          ],
          "pie": [
           {
            "automargin": true,
            "type": "pie"
           }
          ],
          "scatter": [
           {
            "marker": {
             "colorbar": {
              "outlinewidth": 0,
              "ticks": ""
             },
             "opacity": 0.8
            },
            "type": "scatter"
           }
          ],
          "scatter3d": [
           {
            "line": {
             "colorbar": {
              "outlinewidth": 0,
              "ticks": ""
             }
            },
            "marker": {
             "colorbar": {
              "outlinewidth": 0,
              "ticks": ""
             },
             "opacity": 0.8
            },
            "type": "scatter3d"
           }
          ],
          "scattercarpet": [
           {
            "marker": {
             "colorbar": {
              "outlinewidth": 0,
              "ticks": ""
             }
            },
            "type": "scattercarpet"
           }
          ],
          "scattergeo": [
           {
            "marker": {
             "colorbar": {
              "outlinewidth": 0,
              "ticks": ""
             }
            },
            "type": "scattergeo"
           }
          ],
          "scattergl": [
           {
            "marker": {
             "colorbar": {
              "outlinewidth": 0,
              "ticks": ""
             }
            },
            "type": "scattergl"
           }
          ],
          "scattermapbox": [
           {
            "marker": {
             "colorbar": {
              "outlinewidth": 0,
              "ticks": ""
             }
            },
            "type": "scattermapbox"
           }
          ],
          "scatterpolar": [
           {
            "marker": {
             "colorbar": {
              "outlinewidth": 0,
              "ticks": ""
             }
            },
            "type": "scatterpolar"
           }
          ],
          "scatterpolargl": [
           {
            "marker": {
             "colorbar": {
              "outlinewidth": 0,
              "ticks": ""
             }
            },
            "type": "scatterpolargl"
           }
          ],
          "scatterternary": [
           {
            "marker": {
             "colorbar": {
              "outlinewidth": 0,
              "ticks": ""
             }
            },
            "type": "scatterternary"
           }
          ],
          "surface": [
           {
            "colorbar": {
             "outlinewidth": 0,
             "ticks": ""
            },
            "colorscale": [
             [
              0,
              "#0d0887"
             ],
             [
              0.1111111111111111,
              "#46039f"
             ],
             [
              0.2222222222222222,
              "#7201a8"
             ],
             [
              0.3333333333333333,
              "#9c179e"
             ],
             [
              0.4444444444444444,
              "#bd3786"
             ],
             [
              0.5555555555555556,
              "#d8576b"
             ],
             [
              0.6666666666666666,
              "#ed7953"
             ],
             [
              0.7777777777777778,
              "#fb9f3a"
             ],
             [
              0.8888888888888888,
              "#fdca26"
             ],
             [
              1,
              "#f0f921"
             ]
            ],
            "type": "surface"
           }
          ],
          "table": [
           {
            "cells": {
             "fill": {
              "color": "#EBF0F8"
             },
             "line": {
              "color": "white"
             }
            },
            "header": {
             "fill": {
              "color": "#C8D4E3"
             },
             "line": {
              "color": "white"
             }
            },
            "type": "table"
           }
          ]
         },
         "layout": {
          "annotationdefaults": {
           "arrowcolor": "#2a3f5f",
           "arrowhead": 0,
           "arrowwidth": 1
          },
          "autotypenumbers": "strict",
          "coloraxis": {
           "colorbar": {
            "outlinewidth": 0,
            "ticks": ""
           }
          },
          "colorscale": {
           "diverging": [
            [
             0,
             "#8e0152"
            ],
            [
             0.1,
             "#c51b7d"
            ],
            [
             0.2,
             "#de77ae"
            ],
            [
             0.3,
             "#f1b6da"
            ],
            [
             0.4,
             "#fde0ef"
            ],
            [
             0.5,
             "#f7f7f7"
            ],
            [
             0.6,
             "#e6f5d0"
            ],
            [
             0.7,
             "#b8e186"
            ],
            [
             0.8,
             "#7fbc41"
            ],
            [
             0.9,
             "#4d9221"
            ],
            [
             1,
             "#276419"
            ]
           ],
           "sequential": [
            [
             0,
             "#0d0887"
            ],
            [
             0.1111111111111111,
             "#46039f"
            ],
            [
             0.2222222222222222,
             "#7201a8"
            ],
            [
             0.3333333333333333,
             "#9c179e"
            ],
            [
             0.4444444444444444,
             "#bd3786"
            ],
            [
             0.5555555555555556,
             "#d8576b"
            ],
            [
             0.6666666666666666,
             "#ed7953"
            ],
            [
             0.7777777777777778,
             "#fb9f3a"
            ],
            [
             0.8888888888888888,
             "#fdca26"
            ],
            [
             1,
             "#f0f921"
            ]
           ],
           "sequentialminus": [
            [
             0,
             "#0d0887"
            ],
            [
             0.1111111111111111,
             "#46039f"
            ],
            [
             0.2222222222222222,
             "#7201a8"
            ],
            [
             0.3333333333333333,
             "#9c179e"
            ],
            [
             0.4444444444444444,
             "#bd3786"
            ],
            [
             0.5555555555555556,
             "#d8576b"
            ],
            [
             0.6666666666666666,
             "#ed7953"
            ],
            [
             0.7777777777777778,
             "#fb9f3a"
            ],
            [
             0.8888888888888888,
             "#fdca26"
            ],
            [
             1,
             "#f0f921"
            ]
           ]
          },
          "colorway": [
           "#636efa",
           "#EF553B",
           "#00cc96",
           "#ab63fa",
           "#FFA15A",
           "#19d3f3",
           "#FF6692",
           "#B6E880",
           "#FF97FF",
           "#FECB52"
          ],
          "font": {
           "color": "#2a3f5f"
          },
          "geo": {
           "bgcolor": "white",
           "lakecolor": "white",
           "landcolor": "white",
           "showlakes": true,
           "showland": true,
           "subunitcolor": "#C8D4E3"
          },
          "height": 400,
          "hoverlabel": {
           "align": "left"
          },
          "hovermode": "closest",
          "mapbox": {
           "style": "light"
          },
          "margin": {
           "b": 2,
           "l": 2,
           "r": 2,
           "t": 30
          },
          "paper_bgcolor": "white",
          "plot_bgcolor": "white",
          "polar": {
           "angularaxis": {
            "gridcolor": "#EBF0F8",
            "linecolor": "#EBF0F8",
            "ticks": ""
           },
           "bgcolor": "white",
           "radialaxis": {
            "gridcolor": "#EBF0F8",
            "linecolor": "#EBF0F8",
            "ticks": ""
           }
          },
          "scene": {
           "camera": {
            "eye": {
             "x": 1.5,
             "y": 1.5,
             "z": 0.1
            }
           },
           "xaxis": {
            "backgroundcolor": "white",
            "gridcolor": "#DFE8F3",
            "gridwidth": 2,
            "linecolor": "#EBF0F8",
            "showbackground": true,
            "ticks": "",
            "zerolinecolor": "#EBF0F8"
           },
           "yaxis": {
            "backgroundcolor": "white",
            "gridcolor": "#DFE8F3",
            "gridwidth": 2,
            "linecolor": "#EBF0F8",
            "showbackground": true,
            "ticks": "",
            "zerolinecolor": "#EBF0F8"
           },
           "zaxis": {
            "backgroundcolor": "white",
            "gridcolor": "#DFE8F3",
            "gridwidth": 2,
            "linecolor": "#EBF0F8",
            "showbackground": true,
            "ticks": "",
            "zerolinecolor": "#EBF0F8"
           }
          },
          "shapedefaults": {
           "line": {
            "color": "#2a3f5f"
           }
          },
          "ternary": {
           "aaxis": {
            "gridcolor": "#DFE8F3",
            "linecolor": "#A2B1C6",
            "ticks": ""
           },
           "baxis": {
            "gridcolor": "#DFE8F3",
            "linecolor": "#A2B1C6",
            "ticks": ""
           },
           "bgcolor": "white",
           "caxis": {
            "gridcolor": "#DFE8F3",
            "linecolor": "#A2B1C6",
            "ticks": ""
           }
          },
          "title": {
           "x": 0.5
          },
          "xaxis": {
           "automargin": true,
           "gridcolor": "#EBF0F8",
           "linecolor": "#EBF0F8",
           "linewidth": 2,
           "showline": true,
           "ticks": "",
           "title": {
            "standoff": 15
           },
           "zerolinecolor": "#EBF0F8",
           "zerolinewidth": 2
          },
          "yaxis": {
           "automargin": true,
           "gridcolor": "#EBF0F8",
           "linecolor": "#EBF0F8",
           "linewidth": 2,
           "showline": true,
           "ticks": "",
           "title": {
            "standoff": 15
           },
           "zerolinecolor": "#EBF0F8",
           "zerolinewidth": 2
          }
         }
        },
        "title": {
         "text": "Model Prediction"
        }
       }
      }
     },
     "metadata": {},
     "output_type": "display_data"
    }
   ],
   "source": [
    "graphing.model_to_surface_plot(model_with_interaction, [\"weak_layers\", \"wind\"], test_df)"
   ]
  },
  {
   "cell_type": "markdown",
   "metadata": {},
   "source": [
    "The graph is interactive - rotate it and explore how there is a clear s-shaped relationship between the features and probability.\n",
    "\n",
    "Let's now look at the features that we have said can interact:"
   ]
  },
  {
   "cell_type": "code",
   "execution_count": 11,
   "metadata": {},
   "outputs": [
    {
     "name": "stdout",
     "output_type": "stream",
     "text": [
      "Creating plot...\n"
     ]
    },
    {
     "data": {
      "application/vnd.plotly.v1+json": {
       "config": {
        "plotlyServerURL": "https://plot.ly"
       },
       "data": [
        {
         "colorbar": {
          "title": {
           "text": "Probability"
          }
         },
         "type": "surface",
         "x": [
          0,
          0.47368421052631576,
          0.9473684210526315,
          1.4210526315789473,
          1.894736842105263,
          2.3684210526315788,
          2.8421052631578947,
          3.31578947368421,
          3.789473684210526,
          4.263157894736842,
          4.7368421052631575,
          5.2105263157894735,
          5.684210526315789,
          6.157894736842105,
          6.63157894736842,
          7.105263157894736,
          7.578947368421052,
          8.052631578947368,
          8.526315789473683,
          9
         ],
         "y": [
          0.4137014307004687,
          1.2959187122253057,
          2.1781359937501428,
          3.0603532752749802,
          3.9425705567998173,
          4.824787838324655,
          5.707005119849492,
          6.589222401374329,
          7.471439682899166,
          8.353656964424003,
          9.23587424594884,
          10.118091527473677,
          11.000308808998515,
          11.882526090523351,
          12.764743372048189,
          13.646960653573025,
          14.529177935097863,
          15.4113952166227,
          16.29361249814754,
          17.175829779672377
         ],
         "z": [
          [
           0.99044918008353,
           0.9854392371316609,
           0.9778600417499924,
           0.966469944710615,
           0.9495225928648764,
           0.9246769998260714,
           0.8890313166146231,
           0.8394457433886229,
           0.7733518652935405,
           0.6900944442979234,
           0.5923735767580232,
           0.4867560566771182,
           0.38230816459947153,
           0.28770895395160245,
           0.2086120942316285,
           0.1467795382116591,
           0.10093661725478213,
           0.06826601525051652,
           0.045633319963443914,
           0.03026049763788077
          ],
          [
           0.9852805799553711,
           0.9785303897364478,
           0.9687827037145869,
           0.9548137161707447,
           0.9350132513097367,
           0.9073779610227785,
           0.8696294712482959,
           0.8195558525936689,
           0.7556535479978904,
           0.6780119636373165,
           0.589114309289757,
           0.4939902474396436,
           0.3992993054992533,
           0.31158259783380987,
           0.23557830435770663,
           0.1734427528770636,
           0.12501566386065807,
           0.08865958913492797,
           0.06212561403997503,
           0.043156656612182966
          ],
          [
           0.9773787812881171,
           0.9684483644175704,
           0.9561505644008695,
           0.9393596186708871,
           0.9166991944073009,
           0.8865932077592887,
           0.8474175942462414,
           0.7977954769159218,
           0.7370431335968362,
           0.6656866223244292,
           0.5858472013833486,
           0.5012269555332395,
           0.41653636506615455,
           0.33650137432733,
           0.2648636669745739,
           0.2037925942075138,
           0.15385591367802243,
           0.11439746629010664,
           0.08405341946170548,
           0.06120192945481741
          ],
          [
           0.9653841059371397,
           0.9538551336028975,
           0.9387300859192843,
           0.9190680908910764,
           0.8938101642972097,
           0.8618543811722702,
           0.822195118764651,
           0.774134149214139,
           0.7175450997272513,
           0.6531308525319152,
           0.5825725226493618,
           0.5084631496155111,
           0.43397994331015394,
           0.3623640314854631,
           0.2963780766870718,
           0.23792449347860875,
           0.18792049132653887,
           0.14640672023126414,
           0.1127900675847381,
           0.08611348547981067
          ],
          [
           0.9473718388209149,
           0.9329793598287853,
           0.9150040266384516,
           0.8927617469677956,
           0.8655542010259727,
           0.8327370775944403,
           0.793817704739337,
           0.7485766208337947,
           0.6971952760168536,
           0.6403582882366237,
           0.5792905453283066,
           0.5156957992051342,
           0.4515886291033741,
           0.38904889763222766,
           0.3299591654769669,
           0.27579281341728634,
           0.22749934908121094,
           0.18549640569261386,
           0.14974516047982775,
           0.11987028947390026
          ],
          [
           0.9207563007618523,
           0.9036137806867809,
           0.8832331606674778,
           0.8592145314224405,
           0.8311995580229822,
           0.798914543453415,
           0.762221080734639,
           0.7211687938868461,
           0.6760412542509633,
           0.6273837265502266,
           0.5760015442048456,
           0.5229218797560148,
           0.4693193773048236,
           0.4164155330306058,
           0.3653693867823847,
           0.3171797598812929,
           0.2726157370111061,
           0.23218393100813553,
           0.19613170529318621,
           0.16447829081559803
          ],
          [
           0.8823520755898339,
           0.8632671463983732,
           0.841641888766555,
           0.8173202060190151,
           0.7901942261324284,
           0.7602220040536135,
           0.7274449057833644,
           0.692002512127796,
           0.6541425113595657,
           0.6142230766317985,
           0.5727057965201443,
           0.5301383777103423,
           0.48712791982637776,
           0.444307243601836,
           0.4022981035675934,
           0.3616757489144153,
           0.32293902053633783,
           0.2864890722561509,
           0.2526182031264574,
           0.22150861835634075
          ],
          [
           0.82879651836193,
           0.8095904930850267,
           0.7887789891168765,
           0.7663492933889571,
           0.7423158854941226,
           0.7167241812762754,
           0.6896534540273164,
           0.6612185699355551,
           0.6315702058556376,
           0.6008932962628403,
           0.5694035818824222,
           0.5373422955126234,
           0.5049692025311009,
           0.4725543892611964,
           0.4403693342814448,
           0.4086778819466339,
           0.3777277490266702,
           0.3477431323775782,
           0.31891885911511864,
           0.29141635254737425
          ],
          [
           0.7575601053938388,
           0.7411602762959261,
           0.7240551734504722,
           0.7062676825184357,
           0.6878279485334937,
           0.6687735088959362,
           0.6491492736840159,
           0.6290073385291837,
           0.608406620788217,
           0.5874123163854297,
           0.5660951821757623,
           0.5445306565670203,
           0.5227978389269232,
           0.500978355438443,
           0.4791551450183897,
           0.45741120321088075,
           0.43582832426040397,
           0.41448588166901607,
           0.39345968544057247,
           0.3728209500856288
          ],
          [
           0.6685371538019935,
           0.6585106517915471,
           0.6483403924658074,
           0.6380337333213337,
           0.6275985090473764,
           0.6170430132797601,
           0.6063759770448287,
           0.5956065439621949,
           0.5847442423142708,
           0.5737989541298102,
           0.5627808814672379,
           0.5517005101206619,
           0.5405685710064144,
           0.5293959995200488,
           0.5181938931822547,
           0.5069734679165431,
           0.49574601332127455,
           0.48452284731320217,
           0.47331527052889455,
           0.46213452087393747
          ],
          [
           0.5655710296385342,
           0.5649608876032273,
           0.564350548717092,
           0.5637400147670191,
           0.5631292875422444,
           0.5625183688343289,
           0.5619072604371375,
           0.5612959641468194,
           0.560684481761787,
           0.5600728150826951,
           0.5594609659124211,
           0.5588489360560431,
           0.5582367273208199,
           0.55762434151617,
           0.5570117804536503,
           0.5563990459469361,
           0.5557861398117986,
           0.5551730638660857,
           0.5545598199296983,
           0.5539464098245719
          ],
          [
           0.45661701763568113,
           0.46654429209832293,
           0.4764981327761916,
           0.48647067810594885,
           0.4964540070789615,
           0.5064401643389815,
           0.5164211855120061,
           0.5263891225971773,
           0.5363360692468783,
           0.5462541857654659,
           0.5561357236593345,
           0.5659730495761746,
           0.5757586684782887,
           0.5854852459035074,
           0.5951456291775052,
           0.6047328674529246,
           0.614240230463533,
           0.6236612258953974,
           0.6329896152916028,
           0.6422194284220828
          ],
          [
           0.35166188392904246,
           0.3706646000520653,
           0.3900763550791043,
           0.40984266744288744,
           0.4299046071825558,
           0.4501994408995728,
           0.47066137842093403,
           0.49122240348843654,
           0.5118131668926816,
           0.5323639174957342,
           0.5528054447509141,
           0.5730700057667881,
           0.5930922107166634,
           0.6128098424089139,
           0.6321645889597728,
           0.6511026725248612,
           0.6695753616706156,
           0.6875393598966939,
           0.7049570677503124,
           0.7217967206240492
          ],
          [
           0.25931824520492325,
           0.28399909527998995,
           0.3100456787108204,
           0.3373555538040805,
           0.3657956179398289,
           0.39520333782138395,
           0.425389482125631,
           0.45614233899519885,
           0.48723326769756425,
           0.5184233029900681,
           0.5494704210260516,
           0.5801370040206277,
           0.6101970189946821,
           0.6394424573644635,
           0.6676886617368449,
           0.6947782811650306,
           0.7205837287113268,
           0.7450081467880816,
           0.7679850002023202,
           0.7894765028768315
          ],
          [
           0.18432916123876414,
           0.21080930528163194,
           0.2399743319083758,
           0.27178471659498765,
           0.30611345459568334,
           0.3427374440527715,
           0.3813351368496394,
           0.4214920650711701,
           0.4627149603957814,
           0.5044539472241177,
           0.5461309460192837,
           0.5871712923096765,
           0.6270349621284825,
           0.6652438708953694,
           0.7014024578981101,
           0.735209972794277,
           0.7664642273101309,
           0.7950577538804514,
           0.8209681116773466,
           0.8442444266160961
          ],
          [
           0.12729830320347688,
           0.15246492285961213,
           0.18157176764508698,
           0.21482687373595563,
           0.25229512385016856,
           0.29385256803759513,
           0.3391503311694823,
           0.3875980568901904,
           0.4383756498134951,
           0.49047763419368384,
           0.5427873148592044,
           0.5941701712920427,
           0.6435704238148239,
           0.6900937727677964,
           0.7330633349025443,
           0.7720430702833637,
           0.8068306583075951,
           0.8374273497797222,
           0.8639946652907263,
           0.8868072398124105
          ],
          [
           0.08605109388601169,
           0.10805719708168988,
           0.134860575961894,
           0.167067165387278,
           0.20514136185201706,
           0.24929555622898028,
           0.299373968447071,
           0.35475821623783527,
           0.414329325301631,
           0.4765161913122093,
           0.5394398241656674,
           0.6011309982411999,
           0.659770564860186,
           0.7138923539334421,
           0.7625038557026503,
           0.8051107334039288,
           0.841661185265991,
           0.8724428355653442,
           0.8979658645564408,
           0.9188569459616384
          ],
          [
           0.05729142433785015,
           0.07543270074598046,
           0.09871686183763852,
           0.1281917395933661,
           0.16485746944286905,
           0.20949040646222364,
           0.26241026737329914,
           0.323232198350467,
           0.39068446650216065,
           0.462591353233543,
           0.5360887719458592,
           0.6080511907862612,
           0.6756055335023512,
           0.7365610341764276,
           0.7896291817449367,
           0.8344104028195287,
           0.8712138541994167,
           0.9008098528897746,
           0.9241962578413476,
           0.9424212111107135
          ],
          [
           0.03774672216054444,
           0.05208298683156045,
           0.07145983009533911,
           0.09730558273492,
           0.1311786624256719,
           0.174563057645194,
           0.22852187290623235,
           0.29323457279386156,
           0.3675421663239988,
           0.4487246269018704,
           0.5327344574893166,
           0.614928230453065,
           0.6910486222944147,
           0.7580423822832731,
           0.8144104805279219,
           0.8600707371383156,
           0.8959327521910543,
           0.9234221408540753,
           0.9441032312968476,
           0.9594443568634645
          ],
          [
           0.024694941718144854,
           0.035682085898466796,
           0.05130044891370532,
           0.07323591881496933,
           0.1035272129983008,
           0.1443952962700301,
           0.19783607252309482,
           0.26493106866446486,
           0.34499453653606343,
           0.4349371596028979,
           0.5293771812619648,
           0.6217596659969116,
           0.7060763715510662,
           0.7782993291185387,
           0.8368756443471578,
           0.8823154875872372,
           0.9163626403942021,
           0.9412159191238683,
           0.9590142345085426,
           0.9715863560479974
          ]
         ]
        }
       ],
       "layout": {
        "scene": {
         "xaxis": {
          "title": {
           "text": "no_visitors"
          }
         },
         "yaxis": {
          "title": {
           "text": "fresh_thickness"
          }
         },
         "zaxis": {
          "title": {
           "text": "Probability"
          }
         }
        },
        "template": {
         "data": {
          "bar": [
           {
            "error_x": {
             "color": "#2a3f5f"
            },
            "error_y": {
             "color": "#2a3f5f"
            },
            "marker": {
             "line": {
              "color": "white",
              "width": 0.5
             }
            },
            "type": "bar"
           }
          ],
          "barpolar": [
           {
            "marker": {
             "line": {
              "color": "white",
              "width": 0.5
             }
            },
            "type": "barpolar"
           }
          ],
          "box": [
           {
            "boxpoints": "outliers",
            "notched": false,
            "type": "box"
           }
          ],
          "carpet": [
           {
            "aaxis": {
             "endlinecolor": "#2a3f5f",
             "gridcolor": "#C8D4E3",
             "linecolor": "#C8D4E3",
             "minorgridcolor": "#C8D4E3",
             "startlinecolor": "#2a3f5f"
            },
            "baxis": {
             "endlinecolor": "#2a3f5f",
             "gridcolor": "#C8D4E3",
             "linecolor": "#C8D4E3",
             "minorgridcolor": "#C8D4E3",
             "startlinecolor": "#2a3f5f"
            },
            "type": "carpet"
           }
          ],
          "choropleth": [
           {
            "colorbar": {
             "outlinewidth": 0,
             "ticks": ""
            },
            "type": "choropleth"
           }
          ],
          "contour": [
           {
            "colorbar": {
             "outlinewidth": 0,
             "ticks": ""
            },
            "colorscale": [
             [
              0,
              "#0d0887"
             ],
             [
              0.1111111111111111,
              "#46039f"
             ],
             [
              0.2222222222222222,
              "#7201a8"
             ],
             [
              0.3333333333333333,
              "#9c179e"
             ],
             [
              0.4444444444444444,
              "#bd3786"
             ],
             [
              0.5555555555555556,
              "#d8576b"
             ],
             [
              0.6666666666666666,
              "#ed7953"
             ],
             [
              0.7777777777777778,
              "#fb9f3a"
             ],
             [
              0.8888888888888888,
              "#fdca26"
             ],
             [
              1,
              "#f0f921"
             ]
            ],
            "type": "contour"
           }
          ],
          "contourcarpet": [
           {
            "colorbar": {
             "outlinewidth": 0,
             "ticks": ""
            },
            "type": "contourcarpet"
           }
          ],
          "heatmap": [
           {
            "colorbar": {
             "outlinewidth": 0,
             "ticks": ""
            },
            "colorscale": [
             [
              0,
              "#0d0887"
             ],
             [
              0.1111111111111111,
              "#46039f"
             ],
             [
              0.2222222222222222,
              "#7201a8"
             ],
             [
              0.3333333333333333,
              "#9c179e"
             ],
             [
              0.4444444444444444,
              "#bd3786"
             ],
             [
              0.5555555555555556,
              "#d8576b"
             ],
             [
              0.6666666666666666,
              "#ed7953"
             ],
             [
              0.7777777777777778,
              "#fb9f3a"
             ],
             [
              0.8888888888888888,
              "#fdca26"
             ],
             [
              1,
              "#f0f921"
             ]
            ],
            "type": "heatmap"
           }
          ],
          "heatmapgl": [
           {
            "colorbar": {
             "outlinewidth": 0,
             "ticks": ""
            },
            "colorscale": [
             [
              0,
              "#0d0887"
             ],
             [
              0.1111111111111111,
              "#46039f"
             ],
             [
              0.2222222222222222,
              "#7201a8"
             ],
             [
              0.3333333333333333,
              "#9c179e"
             ],
             [
              0.4444444444444444,
              "#bd3786"
             ],
             [
              0.5555555555555556,
              "#d8576b"
             ],
             [
              0.6666666666666666,
              "#ed7953"
             ],
             [
              0.7777777777777778,
              "#fb9f3a"
             ],
             [
              0.8888888888888888,
              "#fdca26"
             ],
             [
              1,
              "#f0f921"
             ]
            ],
            "type": "heatmapgl"
           }
          ],
          "histogram": [
           {
            "marker": {
             "colorbar": {
              "outlinewidth": 0,
              "ticks": ""
             },
             "line": {
              "width": 1
             }
            },
            "type": "histogram"
           }
          ],
          "histogram2d": [
           {
            "colorbar": {
             "outlinewidth": 0,
             "ticks": ""
            },
            "colorscale": [
             [
              0,
              "#0d0887"
             ],
             [
              0.1111111111111111,
              "#46039f"
             ],
             [
              0.2222222222222222,
              "#7201a8"
             ],
             [
              0.3333333333333333,
              "#9c179e"
             ],
             [
              0.4444444444444444,
              "#bd3786"
             ],
             [
              0.5555555555555556,
              "#d8576b"
             ],
             [
              0.6666666666666666,
              "#ed7953"
             ],
             [
              0.7777777777777778,
              "#fb9f3a"
             ],
             [
              0.8888888888888888,
              "#fdca26"
             ],
             [
              1,
              "#f0f921"
             ]
            ],
            "type": "histogram2d"
           }
          ],
          "histogram2dcontour": [
           {
            "colorbar": {
             "outlinewidth": 0,
             "ticks": ""
            },
            "colorscale": [
             [
              0,
              "#0d0887"
             ],
             [
              0.1111111111111111,
              "#46039f"
             ],
             [
              0.2222222222222222,
              "#7201a8"
             ],
             [
              0.3333333333333333,
              "#9c179e"
             ],
             [
              0.4444444444444444,
              "#bd3786"
             ],
             [
              0.5555555555555556,
              "#d8576b"
             ],
             [
              0.6666666666666666,
              "#ed7953"
             ],
             [
              0.7777777777777778,
              "#fb9f3a"
             ],
             [
              0.8888888888888888,
              "#fdca26"
             ],
             [
              1,
              "#f0f921"
             ]
            ],
            "type": "histogram2dcontour"
           }
          ],
          "mesh3d": [
           {
            "colorbar": {
             "outlinewidth": 0,
             "ticks": ""
            },
            "type": "mesh3d"
           }
          ],
          "parcoords": [
           {
            "line": {
             "colorbar": {
              "outlinewidth": 0,
              "ticks": ""
             }
            },
            "type": "parcoords"
           }
          ],
          "pie": [
           {
            "automargin": true,
            "type": "pie"
           }
          ],
          "scatter": [
           {
            "marker": {
             "colorbar": {
              "outlinewidth": 0,
              "ticks": ""
             },
             "opacity": 0.8
            },
            "type": "scatter"
           }
          ],
          "scatter3d": [
           {
            "line": {
             "colorbar": {
              "outlinewidth": 0,
              "ticks": ""
             }
            },
            "marker": {
             "colorbar": {
              "outlinewidth": 0,
              "ticks": ""
             },
             "opacity": 0.8
            },
            "type": "scatter3d"
           }
          ],
          "scattercarpet": [
           {
            "marker": {
             "colorbar": {
              "outlinewidth": 0,
              "ticks": ""
             }
            },
            "type": "scattercarpet"
           }
          ],
          "scattergeo": [
           {
            "marker": {
             "colorbar": {
              "outlinewidth": 0,
              "ticks": ""
             }
            },
            "type": "scattergeo"
           }
          ],
          "scattergl": [
           {
            "marker": {
             "colorbar": {
              "outlinewidth": 0,
              "ticks": ""
             }
            },
            "type": "scattergl"
           }
          ],
          "scattermapbox": [
           {
            "marker": {
             "colorbar": {
              "outlinewidth": 0,
              "ticks": ""
             }
            },
            "type": "scattermapbox"
           }
          ],
          "scatterpolar": [
           {
            "marker": {
             "colorbar": {
              "outlinewidth": 0,
              "ticks": ""
             }
            },
            "type": "scatterpolar"
           }
          ],
          "scatterpolargl": [
           {
            "marker": {
             "colorbar": {
              "outlinewidth": 0,
              "ticks": ""
             }
            },
            "type": "scatterpolargl"
           }
          ],
          "scatterternary": [
           {
            "marker": {
             "colorbar": {
              "outlinewidth": 0,
              "ticks": ""
             }
            },
            "type": "scatterternary"
           }
          ],
          "surface": [
           {
            "colorbar": {
             "outlinewidth": 0,
             "ticks": ""
            },
            "colorscale": [
             [
              0,
              "#0d0887"
             ],
             [
              0.1111111111111111,
              "#46039f"
             ],
             [
              0.2222222222222222,
              "#7201a8"
             ],
             [
              0.3333333333333333,
              "#9c179e"
             ],
             [
              0.4444444444444444,
              "#bd3786"
             ],
             [
              0.5555555555555556,
              "#d8576b"
             ],
             [
              0.6666666666666666,
              "#ed7953"
             ],
             [
              0.7777777777777778,
              "#fb9f3a"
             ],
             [
              0.8888888888888888,
              "#fdca26"
             ],
             [
              1,
              "#f0f921"
             ]
            ],
            "type": "surface"
           }
          ],
          "table": [
           {
            "cells": {
             "fill": {
              "color": "#EBF0F8"
             },
             "line": {
              "color": "white"
             }
            },
            "header": {
             "fill": {
              "color": "#C8D4E3"
             },
             "line": {
              "color": "white"
             }
            },
            "type": "table"
           }
          ]
         },
         "layout": {
          "annotationdefaults": {
           "arrowcolor": "#2a3f5f",
           "arrowhead": 0,
           "arrowwidth": 1
          },
          "autotypenumbers": "strict",
          "coloraxis": {
           "colorbar": {
            "outlinewidth": 0,
            "ticks": ""
           }
          },
          "colorscale": {
           "diverging": [
            [
             0,
             "#8e0152"
            ],
            [
             0.1,
             "#c51b7d"
            ],
            [
             0.2,
             "#de77ae"
            ],
            [
             0.3,
             "#f1b6da"
            ],
            [
             0.4,
             "#fde0ef"
            ],
            [
             0.5,
             "#f7f7f7"
            ],
            [
             0.6,
             "#e6f5d0"
            ],
            [
             0.7,
             "#b8e186"
            ],
            [
             0.8,
             "#7fbc41"
            ],
            [
             0.9,
             "#4d9221"
            ],
            [
             1,
             "#276419"
            ]
           ],
           "sequential": [
            [
             0,
             "#0d0887"
            ],
            [
             0.1111111111111111,
             "#46039f"
            ],
            [
             0.2222222222222222,
             "#7201a8"
            ],
            [
             0.3333333333333333,
             "#9c179e"
            ],
            [
             0.4444444444444444,
             "#bd3786"
            ],
            [
             0.5555555555555556,
             "#d8576b"
            ],
            [
             0.6666666666666666,
             "#ed7953"
            ],
            [
             0.7777777777777778,
             "#fb9f3a"
            ],
            [
             0.8888888888888888,
             "#fdca26"
            ],
            [
             1,
             "#f0f921"
            ]
           ],
           "sequentialminus": [
            [
             0,
             "#0d0887"
            ],
            [
             0.1111111111111111,
             "#46039f"
            ],
            [
             0.2222222222222222,
             "#7201a8"
            ],
            [
             0.3333333333333333,
             "#9c179e"
            ],
            [
             0.4444444444444444,
             "#bd3786"
            ],
            [
             0.5555555555555556,
             "#d8576b"
            ],
            [
             0.6666666666666666,
             "#ed7953"
            ],
            [
             0.7777777777777778,
             "#fb9f3a"
            ],
            [
             0.8888888888888888,
             "#fdca26"
            ],
            [
             1,
             "#f0f921"
            ]
           ]
          },
          "colorway": [
           "#636efa",
           "#EF553B",
           "#00cc96",
           "#ab63fa",
           "#FFA15A",
           "#19d3f3",
           "#FF6692",
           "#B6E880",
           "#FF97FF",
           "#FECB52"
          ],
          "font": {
           "color": "#2a3f5f"
          },
          "geo": {
           "bgcolor": "white",
           "lakecolor": "white",
           "landcolor": "white",
           "showlakes": true,
           "showland": true,
           "subunitcolor": "#C8D4E3"
          },
          "height": 400,
          "hoverlabel": {
           "align": "left"
          },
          "hovermode": "closest",
          "mapbox": {
           "style": "light"
          },
          "margin": {
           "b": 2,
           "l": 2,
           "r": 2,
           "t": 30
          },
          "paper_bgcolor": "white",
          "plot_bgcolor": "white",
          "polar": {
           "angularaxis": {
            "gridcolor": "#EBF0F8",
            "linecolor": "#EBF0F8",
            "ticks": ""
           },
           "bgcolor": "white",
           "radialaxis": {
            "gridcolor": "#EBF0F8",
            "linecolor": "#EBF0F8",
            "ticks": ""
           }
          },
          "scene": {
           "camera": {
            "eye": {
             "x": 1.5,
             "y": 1.5,
             "z": 0.1
            }
           },
           "xaxis": {
            "backgroundcolor": "white",
            "gridcolor": "#DFE8F3",
            "gridwidth": 2,
            "linecolor": "#EBF0F8",
            "showbackground": true,
            "ticks": "",
            "zerolinecolor": "#EBF0F8"
           },
           "yaxis": {
            "backgroundcolor": "white",
            "gridcolor": "#DFE8F3",
            "gridwidth": 2,
            "linecolor": "#EBF0F8",
            "showbackground": true,
            "ticks": "",
            "zerolinecolor": "#EBF0F8"
           },
           "zaxis": {
            "backgroundcolor": "white",
            "gridcolor": "#DFE8F3",
            "gridwidth": 2,
            "linecolor": "#EBF0F8",
            "showbackground": true,
            "ticks": "",
            "zerolinecolor": "#EBF0F8"
           }
          },
          "shapedefaults": {
           "line": {
            "color": "#2a3f5f"
           }
          },
          "ternary": {
           "aaxis": {
            "gridcolor": "#DFE8F3",
            "linecolor": "#A2B1C6",
            "ticks": ""
           },
           "baxis": {
            "gridcolor": "#DFE8F3",
            "linecolor": "#A2B1C6",
            "ticks": ""
           },
           "bgcolor": "white",
           "caxis": {
            "gridcolor": "#DFE8F3",
            "linecolor": "#A2B1C6",
            "ticks": ""
           }
          },
          "title": {
           "x": 0.5
          },
          "xaxis": {
           "automargin": true,
           "gridcolor": "#EBF0F8",
           "linecolor": "#EBF0F8",
           "linewidth": 2,
           "showline": true,
           "ticks": "",
           "title": {
            "standoff": 15
           },
           "zerolinecolor": "#EBF0F8",
           "zerolinewidth": 2
          },
          "yaxis": {
           "automargin": true,
           "gridcolor": "#EBF0F8",
           "linecolor": "#EBF0F8",
           "linewidth": 2,
           "showline": true,
           "ticks": "",
           "title": {
            "standoff": 15
           },
           "zerolinecolor": "#EBF0F8",
           "zerolinewidth": 2
          }
         }
        },
        "title": {
         "text": "Model Prediction"
        }
       }
      }
     },
     "metadata": {},
     "output_type": "display_data"
    }
   ],
   "source": [
    "graphing.model_to_surface_plot(model_with_interaction, [\"no_visitors\", \"fresh_thickness\"], test_df)"
   ]
  },
  {
   "cell_type": "markdown",
   "metadata": {},
   "source": [
    "It looks quite different to the other! From any side, we can see an s-shape, but these combine in strange ways.\n",
    "\n",
    "We can see that the risk goes up on days with lots of visitors _and_ lots of snow. There is no real risk of avalanche when there is a lot of snow but no visitors, or when there are a lot of visitors but no snow.\n",
    "\n",
    "The fact that it shows high risk when there is no fresh snow and no visitors could be due to rain, which keeps visitors and snow clouds away but results in avalanches of the older snow. To confirm this, we'd need to explore the data in more depth, but we'll stop here for now.\n",
    "\n",
    "## Summary\n",
    "\n",
    "Well done! Let's recap. We've:\n",
    "\n",
    "* improved our simple model by adding more features. \n",
    "* practiced interpreting our model coefficients (parameters) from the model summary\n",
    "* eliminated unnecessary features\n",
    "* explored how sometimes it's important to think about what your data really mean\n",
    "* created a model that combined features to give superior result"
   ]
  }
 ],
 "metadata": {
  "kernelspec": {
   "display_name": "Python 3.9.2 64-bit",
   "language": "python",
   "name": "python3"
  },
  "language_info": {
   "codemirror_mode": {
    "name": "ipython",
    "version": 3
   },
   "file_extension": ".py",
   "mimetype": "text/x-python",
   "name": "python",
   "nbconvert_exporter": "python",
   "pygments_lexer": "ipython3",
   "version": "3.9.2"
  },
  "vscode": {
   "interpreter": {
    "hash": "01fd550304b9e7cfb3e25c8e3ca63c0030fb0173de6652dd3d36373edc7c122f"
   }
  }
 },
 "nbformat": 4,
 "nbformat_minor": 5
}
