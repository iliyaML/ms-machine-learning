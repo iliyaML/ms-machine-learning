{
 "cells": [
  {
   "cell_type": "markdown",
   "id": "6aee698d",
   "metadata": {},
   "source": [
    "# Exercise: Supervised learning using different cost functions\n",
    "\n",
    "In this exercise, we will have a deeper look at how cost functions can change:\n",
    "\n",
    "1. how well models appear to have fit data\n",
    "2. the kinds of relationships a model represents\n",
    "\n",
    "## Loading the data\n",
    "\n",
    "Let's start by having a look at the data. To make this exercise simpler, we will only use a few datapoints this time."
   ]
  },
  {
   "cell_type": "code",
   "execution_count": 1,
   "id": "d5104c6d",
   "metadata": {},
   "outputs": [
    {
     "name": "stderr",
     "output_type": "stream",
     "text": [
      "--2022-10-09 22:52:46--  https://raw.githubusercontent.com/MicrosoftDocs/mslearn-introduction-to-machine-learning/main/Data/seattleWeather_1948-2017.csv\n",
      "Resolving raw.githubusercontent.com (raw.githubusercontent.com)... 185.199.108.133, 185.199.109.133, 185.199.110.133, ...\n",
      "Connecting to raw.githubusercontent.com (raw.githubusercontent.com)|185.199.108.133|:443... connected.\n",
      "HTTP request sent, awaiting response... 200 OK\n",
      "Length: 762017 (744K) [text/plain]\n",
      "Saving to: 'data/seattleWeather_1948-2017.csv.1'\n",
      "\n",
      "     0K .......... .......... .......... .......... ..........  6%  651K 1s\n",
      "    50K .......... .......... .......... .......... .......... 13% 2.04M 1s\n",
      "   100K .......... .......... .......... .......... .......... 20%  736K 1s\n",
      "   150K .......... .......... .......... .......... .......... 26%  798K 1s\n",
      "   200K .......... .......... .......... .......... .......... 33%  638K 1s\n",
      "   250K .......... .......... .......... .......... .......... 40%  701K 1s\n",
      "   300K .......... .......... .......... .......... .......... 47% 1.23M 0s\n",
      "   350K .......... .......... .......... .......... .......... 53%  489K 0s\n",
      "   400K .......... .......... .......... .......... .......... 60%  907K 0s\n",
      "   450K .......... .......... .......... .......... .......... 67% 1.60M 0s\n",
      "   500K .......... .......... .......... .......... .......... 73% 1.11M 0s\n",
      "   550K .......... .......... .......... .......... .......... 80% 2.94M 0s\n",
      "   600K .......... .......... .......... .......... .......... 87% 1.09M 0s\n",
      "   650K .......... .......... .......... .......... .......... 94% 1.78M 0s\n",
      "   700K .......... .......... .......... .......... ....      100% 3.33M=0.8s\n",
      "\n",
      "2022-10-09 22:52:46 (986 KB/s) - 'data/seattleWeather_1948-2017.csv.1' saved [762017/762017]\n",
      "\n"
     ]
    }
   ],
   "source": [
    "!wget -P data https://raw.githubusercontent.com/MicrosoftDocs/mslearn-introduction-to-machine-learning/main/Data/seattleWeather_1948-2017.csv"
   ]
  },
  {
   "cell_type": "code",
   "execution_count": 2,
   "id": "6765c718",
   "metadata": {},
   "outputs": [],
   "source": [
    "import numpy\n",
    "import pandas\n",
    "from datetime import datetime\n",
    "\n",
    "import plotly.graph_objects as go\n",
    "\n",
    "# def warn(*args, **kwargs):\n",
    "#     pass\n",
    "# import warnings\n",
    "# warnings.warn = warn"
   ]
  },
  {
   "cell_type": "code",
   "execution_count": 3,
   "metadata": {},
   "outputs": [
    {
     "data": {
      "text/html": [
       "<div>\n",
       "<style scoped>\n",
       "    .dataframe tbody tr th:only-of-type {\n",
       "        vertical-align: middle;\n",
       "    }\n",
       "\n",
       "    .dataframe tbody tr th {\n",
       "        vertical-align: top;\n",
       "    }\n",
       "\n",
       "    .dataframe thead th {\n",
       "        text-align: right;\n",
       "    }\n",
       "</style>\n",
       "<table border=\"1\" class=\"dataframe\">\n",
       "  <thead>\n",
       "    <tr style=\"text-align: right;\">\n",
       "      <th></th>\n",
       "      <th>date</th>\n",
       "      <th>amount_of_precipitation</th>\n",
       "      <th>max_temperature</th>\n",
       "      <th>min_temperature</th>\n",
       "      <th>rain</th>\n",
       "      <th>year</th>\n",
       "    </tr>\n",
       "  </thead>\n",
       "  <tbody>\n",
       "    <tr>\n",
       "      <th>762</th>\n",
       "      <td>1950-02-01</td>\n",
       "      <td>0.00</td>\n",
       "      <td>27</td>\n",
       "      <td>1</td>\n",
       "      <td>False</td>\n",
       "      <td>1950.087611</td>\n",
       "    </tr>\n",
       "    <tr>\n",
       "      <th>4414</th>\n",
       "      <td>1960-02-01</td>\n",
       "      <td>0.15</td>\n",
       "      <td>52</td>\n",
       "      <td>44</td>\n",
       "      <td>True</td>\n",
       "      <td>1960.087611</td>\n",
       "    </tr>\n",
       "    <tr>\n",
       "      <th>8067</th>\n",
       "      <td>1970-02-01</td>\n",
       "      <td>0.00</td>\n",
       "      <td>50</td>\n",
       "      <td>42</td>\n",
       "      <td>False</td>\n",
       "      <td>1970.087611</td>\n",
       "    </tr>\n",
       "    <tr>\n",
       "      <th>11719</th>\n",
       "      <td>1980-02-01</td>\n",
       "      <td>0.37</td>\n",
       "      <td>54</td>\n",
       "      <td>36</td>\n",
       "      <td>True</td>\n",
       "      <td>1980.087611</td>\n",
       "    </tr>\n",
       "    <tr>\n",
       "      <th>15372</th>\n",
       "      <td>1990-02-01</td>\n",
       "      <td>0.08</td>\n",
       "      <td>45</td>\n",
       "      <td>37</td>\n",
       "      <td>True</td>\n",
       "      <td>1990.087611</td>\n",
       "    </tr>\n",
       "    <tr>\n",
       "      <th>19024</th>\n",
       "      <td>2000-02-01</td>\n",
       "      <td>1.34</td>\n",
       "      <td>49</td>\n",
       "      <td>41</td>\n",
       "      <td>True</td>\n",
       "      <td>2000.087611</td>\n",
       "    </tr>\n",
       "    <tr>\n",
       "      <th>22677</th>\n",
       "      <td>2010-02-01</td>\n",
       "      <td>0.08</td>\n",
       "      <td>49</td>\n",
       "      <td>40</td>\n",
       "      <td>True</td>\n",
       "      <td>2010.087611</td>\n",
       "    </tr>\n",
       "    <tr>\n",
       "      <th>25234</th>\n",
       "      <td>2017-02-01</td>\n",
       "      <td>0.00</td>\n",
       "      <td>43</td>\n",
       "      <td>29</td>\n",
       "      <td>False</td>\n",
       "      <td>2017.087611</td>\n",
       "    </tr>\n",
       "  </tbody>\n",
       "</table>\n",
       "</div>"
      ],
      "text/plain": [
       "            date  amount_of_precipitation  max_temperature  min_temperature  \\\n",
       "762   1950-02-01                     0.00               27                1   \n",
       "4414  1960-02-01                     0.15               52               44   \n",
       "8067  1970-02-01                     0.00               50               42   \n",
       "11719 1980-02-01                     0.37               54               36   \n",
       "15372 1990-02-01                     0.08               45               37   \n",
       "19024 2000-02-01                     1.34               49               41   \n",
       "22677 2010-02-01                     0.08               49               40   \n",
       "25234 2017-02-01                     0.00               43               29   \n",
       "\n",
       "        rain         year  \n",
       "762    False  1950.087611  \n",
       "4414    True  1960.087611  \n",
       "8067   False  1970.087611  \n",
       "11719   True  1980.087611  \n",
       "15372   True  1990.087611  \n",
       "19024   True  2000.087611  \n",
       "22677   True  2010.087611  \n",
       "25234  False  2017.087611  "
      ]
     },
     "execution_count": 3,
     "metadata": {},
     "output_type": "execute_result"
    }
   ],
   "source": [
    "# Load a file containing our weather data\n",
    "dataset = pandas.read_csv('data/seattleWeather_1948-2017.csv', parse_dates=['date'])\n",
    "\n",
    "# Convert the dates into numbers so we can use it in our models\n",
    "# We make a year column which can contain fractions. For example\n",
    "# 1948.5 is half way through the year 1948\n",
    "dataset[\"year\"] = [(d.year + d.timetuple().tm_yday / 365.25) for d in dataset.date]\n",
    "\n",
    "\n",
    "# For the sake of this exercise, let's look at Feb 1st for the following years:\n",
    "desired_dates = [\n",
    "    datetime(1950,2,1),\n",
    "    datetime(1960,2,1),\n",
    "    datetime(1970,2,1),\n",
    "    datetime(1980,2,1),\n",
    "    datetime(1990,2,1),\n",
    "    datetime(2000,2,1),\n",
    "    datetime(2010,2,1),\n",
    "    datetime(2017,2,1),\n",
    "]\n",
    "\n",
    "dataset = dataset[dataset.date.isin(desired_dates)].copy()\n",
    "\n",
    "# Print the dataset\n",
    "dataset\n"
   ]
  },
  {
   "cell_type": "markdown",
   "metadata": {},
   "source": [
    "## Comparing two cost functions\n",
    "\n",
    "Let's compare two common cost functions, the _sum of squared differences_ (SSD), and the _sum of absolute differences_ (SAD). These both calculate the difference between each predicted value with the expected value. The difference is simply: \n",
    "\n",
    "* SSD squares that difference, and sums the result;\n",
    "* SAD converts differences into absolute differences, then sums them.\n",
    "\n",
    "To see these in action, we need to first implement these functions:"
   ]
  },
  {
   "cell_type": "code",
   "execution_count": 4,
   "metadata": {},
   "outputs": [],
   "source": [
    "def sum_of_square_differences(estimate, actual):\n",
    "    # Note that with numpy to square each value we use **\n",
    "    return numpy.sum((estimate - actual)**2)\n",
    "\n",
    "def sum_of_absolute_differences(estimate, actual):\n",
    "    return numpy.sum(numpy.abs(estimate - actual))"
   ]
  },
  {
   "cell_type": "markdown",
   "metadata": {},
   "source": [
    "They're very similar. How do they behave? Let's test with some fake model estimates.\n",
    "\n",
    "Let's say that the correct answers are `1` and `3`, but the model estimates `2` and `2`:"
   ]
  },
  {
   "cell_type": "code",
   "execution_count": 5,
   "metadata": {},
   "outputs": [
    {
     "name": "stdout",
     "output_type": "stream",
     "text": [
      "SSD: 2\n",
      "SAD: 2\n"
     ]
    }
   ],
   "source": [
    "actual_label = numpy.array([1, 3])\n",
    "model_estimate = numpy.array([2, 2])\n",
    "\n",
    "print(\"SSD:\", sum_of_square_differences(model_estimate, actual_label))\n",
    "print(\"SAD:\", sum_of_absolute_differences(model_estimate, actual_label))"
   ]
  },
  {
   "cell_type": "markdown",
   "metadata": {},
   "source": [
    "We have an error of `1` for each estimate, and both methods have returned the same error. \n",
    "\n",
    "What happens if we distribute these errors differently? Let's pretend we estimated the first value perfectly, but were off by `2` for the second value: "
   ]
  },
  {
   "cell_type": "code",
   "execution_count": 6,
   "metadata": {},
   "outputs": [
    {
     "name": "stdout",
     "output_type": "stream",
     "text": [
      "SSD: 4\n",
      "SAD: 2\n"
     ]
    }
   ],
   "source": [
    "actual_label = numpy.array([1, 3])\n",
    "model_estimate = numpy.array([1, 1])\n",
    "\n",
    "print(\"SSD:\", sum_of_square_differences(model_estimate, actual_label))\n",
    "print(\"SAD:\", sum_of_absolute_differences(model_estimate, actual_label))"
   ]
  },
  {
   "cell_type": "markdown",
   "id": "ddecb338",
   "metadata": {},
   "source": [
    "SAD has calculated the same cost as before, because the average error is still the same (`1 + 1 = 0 + 2`). According to SAD, the first and second set of estimates were equally good. \n",
    "\n",
    "By contrast SSD has given a higher (worse) cost for the second set of estimates (<code>1<sup>2</sup> + 1<sup>2</sup> < 0<sup>2</sup> + 2<sup>2</sup></code>). When we use SSD, we not only encourage models to be accurate, but to be consistent in their accuracy.\n",
    "\n",
    "\n",
    "## Differences in action\n",
    "\n",
    "Let's compare how our two cost functions affect model fitting.\n",
    "\n",
    "First, fit a model using the SSD cost function:"
   ]
  },
  {
   "cell_type": "code",
   "execution_count": 7,
   "id": "ad8b5f35",
   "metadata": {},
   "outputs": [],
   "source": [
    "from sklearn.base import BaseEstimator\n",
    "from scipy.optimize import minimize\n",
    "import numpy as np\n",
    "\n",
    "\n",
    "class MicrosoftCustomLinearRegressor(BaseEstimator):\n",
    "    '''\n",
    "    This class runs linear regression using any custom\n",
    "    error function. \n",
    "\n",
    "    Example use:\n",
    "    ```\n",
    "    X = ...\n",
    "    y = ...\n",
    "    my_error_function = lambda y,y_predicted: np.sum((y-y_predicted)**2)\n",
    "    my_model = MicrosoftCustomLinearRegressor().fit(X, y, my_error_function)\n",
    "    ```\n",
    "    '''\n",
    "    def __init__(self):\n",
    "        self.slope = 0\n",
    "        self.intercept = 0\n",
    "\n",
    "    def fit(self, X, y, cost_function):\n",
    "        '''\n",
    "        Fits the model\n",
    "\n",
    "        X: data to feed the mode\n",
    "        y: expected predictions\n",
    "        cost_function: A function that calculates error\n",
    "        '''\n",
    "\n",
    "        def estimate_and_calc_error(coefficients):\n",
    "            '''\n",
    "            This makes a prediction about y, using coefficients \n",
    "            (slope and intercept). It then uses the cost_function \n",
    "            function (provided) to calculate the error term.\n",
    "            '''\n",
    "            # Get our line's slope and intercept\n",
    "            # from the coefficients\n",
    "            slope = coefficients[0]\n",
    "            intercept = coefficients[1]\n",
    "\n",
    "            # Predict Y from X\n",
    "            y_predicted = X * slope + intercept\n",
    "\n",
    "            # Calculate the error versus the expected value\n",
    "            return cost_function(y, y_predicted)\n",
    "\n",
    "        # we want to fit two coefficients. One for slope, and \n",
    "        # one for intercept. First, make an initial guess \n",
    "        # for these values. Let's guess 0 and 0\n",
    "        coefs_to_fit = np.array([0,0])\n",
    "\n",
    "        # Call scipy's minimize function. This will try to\n",
    "        # find the best parameters that minimise the cost\n",
    "        # function.  (cost_function)\n",
    "        final_coefficients = minimize(estimate_and_calc_error, coefs_to_fit)\n",
    "\n",
    "        # Save the coefficients so we can use them\n",
    "        # in the predict method\n",
    "        self.slope = final_coefficients.x[0]\n",
    "        self.intercept = final_coefficients.x[1]\n",
    "\n",
    "        return self\n",
    "    \n",
    "    def predict(self, X):\n",
    "        '''\n",
    "        Predicts y from X using the fitted slope and intercept\n",
    "        '''\n",
    "        return X * self.slope + self.intercept\n"
   ]
  },
  {
   "cell_type": "code",
   "execution_count": 8,
   "id": "58a56759",
   "metadata": {},
   "outputs": [
    {
     "data": {
      "application/vnd.plotly.v1+json": {
       "config": {
        "plotlyServerURL": "https://plot.ly"
       },
       "data": [
        {
         "mode": "markers",
         "name": "actual",
         "type": "scatter",
         "x": [
          1950.0876112251883,
          1960.0876112251883,
          1970.0876112251883,
          1980.0876112251883,
          1990.0876112251883,
          2000.0876112251883,
          2010.0876112251883,
          2017.0876112251883
         ],
         "y": [
          1,
          44,
          42,
          36,
          37,
          41,
          40,
          29
         ]
        },
        {
         "mode": "lines+markers",
         "name": "prediction",
         "type": "scatter",
         "x": [
          1950.0876112251883,
          1960.0876112251883,
          1970.0876112251883,
          1980.0876112251883,
          1990.0876112251883,
          2000.0876112251883,
          2010.0876112251883,
          2017.0876112251883
         ],
         "y": [
          26.093609277984513,
          28.304841118187653,
          30.516072958390794,
          32.727304798593934,
          34.938536638797075,
          37.149768479000215,
          39.361000319203356,
          40.908862607345554
         ]
        }
       ],
       "layout": {
        "template": {
         "data": {
          "bar": [
           {
            "error_x": {
             "color": "#2a3f5f"
            },
            "error_y": {
             "color": "#2a3f5f"
            },
            "marker": {
             "line": {
              "color": "#E5ECF6",
              "width": 0.5
             },
             "pattern": {
              "fillmode": "overlay",
              "size": 10,
              "solidity": 0.2
             }
            },
            "type": "bar"
           }
          ],
          "barpolar": [
           {
            "marker": {
             "line": {
              "color": "#E5ECF6",
              "width": 0.5
             },
             "pattern": {
              "fillmode": "overlay",
              "size": 10,
              "solidity": 0.2
             }
            },
            "type": "barpolar"
           }
          ],
          "carpet": [
           {
            "aaxis": {
             "endlinecolor": "#2a3f5f",
             "gridcolor": "white",
             "linecolor": "white",
             "minorgridcolor": "white",
             "startlinecolor": "#2a3f5f"
            },
            "baxis": {
             "endlinecolor": "#2a3f5f",
             "gridcolor": "white",
             "linecolor": "white",
             "minorgridcolor": "white",
             "startlinecolor": "#2a3f5f"
            },
            "type": "carpet"
           }
          ],
          "choropleth": [
           {
            "colorbar": {
             "outlinewidth": 0,
             "ticks": ""
            },
            "type": "choropleth"
           }
          ],
          "contour": [
           {
            "colorbar": {
             "outlinewidth": 0,
             "ticks": ""
            },
            "colorscale": [
             [
              0,
              "#0d0887"
             ],
             [
              0.1111111111111111,
              "#46039f"
             ],
             [
              0.2222222222222222,
              "#7201a8"
             ],
             [
              0.3333333333333333,
              "#9c179e"
             ],
             [
              0.4444444444444444,
              "#bd3786"
             ],
             [
              0.5555555555555556,
              "#d8576b"
             ],
             [
              0.6666666666666666,
              "#ed7953"
             ],
             [
              0.7777777777777778,
              "#fb9f3a"
             ],
             [
              0.8888888888888888,
              "#fdca26"
             ],
             [
              1,
              "#f0f921"
             ]
            ],
            "type": "contour"
           }
          ],
          "contourcarpet": [
           {
            "colorbar": {
             "outlinewidth": 0,
             "ticks": ""
            },
            "type": "contourcarpet"
           }
          ],
          "heatmap": [
           {
            "colorbar": {
             "outlinewidth": 0,
             "ticks": ""
            },
            "colorscale": [
             [
              0,
              "#0d0887"
             ],
             [
              0.1111111111111111,
              "#46039f"
             ],
             [
              0.2222222222222222,
              "#7201a8"
             ],
             [
              0.3333333333333333,
              "#9c179e"
             ],
             [
              0.4444444444444444,
              "#bd3786"
             ],
             [
              0.5555555555555556,
              "#d8576b"
             ],
             [
              0.6666666666666666,
              "#ed7953"
             ],
             [
              0.7777777777777778,
              "#fb9f3a"
             ],
             [
              0.8888888888888888,
              "#fdca26"
             ],
             [
              1,
              "#f0f921"
             ]
            ],
            "type": "heatmap"
           }
          ],
          "heatmapgl": [
           {
            "colorbar": {
             "outlinewidth": 0,
             "ticks": ""
            },
            "colorscale": [
             [
              0,
              "#0d0887"
             ],
             [
              0.1111111111111111,
              "#46039f"
             ],
             [
              0.2222222222222222,
              "#7201a8"
             ],
             [
              0.3333333333333333,
              "#9c179e"
             ],
             [
              0.4444444444444444,
              "#bd3786"
             ],
             [
              0.5555555555555556,
              "#d8576b"
             ],
             [
              0.6666666666666666,
              "#ed7953"
             ],
             [
              0.7777777777777778,
              "#fb9f3a"
             ],
             [
              0.8888888888888888,
              "#fdca26"
             ],
             [
              1,
              "#f0f921"
             ]
            ],
            "type": "heatmapgl"
           }
          ],
          "histogram": [
           {
            "marker": {
             "pattern": {
              "fillmode": "overlay",
              "size": 10,
              "solidity": 0.2
             }
            },
            "type": "histogram"
           }
          ],
          "histogram2d": [
           {
            "colorbar": {
             "outlinewidth": 0,
             "ticks": ""
            },
            "colorscale": [
             [
              0,
              "#0d0887"
             ],
             [
              0.1111111111111111,
              "#46039f"
             ],
             [
              0.2222222222222222,
              "#7201a8"
             ],
             [
              0.3333333333333333,
              "#9c179e"
             ],
             [
              0.4444444444444444,
              "#bd3786"
             ],
             [
              0.5555555555555556,
              "#d8576b"
             ],
             [
              0.6666666666666666,
              "#ed7953"
             ],
             [
              0.7777777777777778,
              "#fb9f3a"
             ],
             [
              0.8888888888888888,
              "#fdca26"
             ],
             [
              1,
              "#f0f921"
             ]
            ],
            "type": "histogram2d"
           }
          ],
          "histogram2dcontour": [
           {
            "colorbar": {
             "outlinewidth": 0,
             "ticks": ""
            },
            "colorscale": [
             [
              0,
              "#0d0887"
             ],
             [
              0.1111111111111111,
              "#46039f"
             ],
             [
              0.2222222222222222,
              "#7201a8"
             ],
             [
              0.3333333333333333,
              "#9c179e"
             ],
             [
              0.4444444444444444,
              "#bd3786"
             ],
             [
              0.5555555555555556,
              "#d8576b"
             ],
             [
              0.6666666666666666,
              "#ed7953"
             ],
             [
              0.7777777777777778,
              "#fb9f3a"
             ],
             [
              0.8888888888888888,
              "#fdca26"
             ],
             [
              1,
              "#f0f921"
             ]
            ],
            "type": "histogram2dcontour"
           }
          ],
          "mesh3d": [
           {
            "colorbar": {
             "outlinewidth": 0,
             "ticks": ""
            },
            "type": "mesh3d"
           }
          ],
          "parcoords": [
           {
            "line": {
             "colorbar": {
              "outlinewidth": 0,
              "ticks": ""
             }
            },
            "type": "parcoords"
           }
          ],
          "pie": [
           {
            "automargin": true,
            "type": "pie"
           }
          ],
          "scatter": [
           {
            "fillpattern": {
             "fillmode": "overlay",
             "size": 10,
             "solidity": 0.2
            },
            "type": "scatter"
           }
          ],
          "scatter3d": [
           {
            "line": {
             "colorbar": {
              "outlinewidth": 0,
              "ticks": ""
             }
            },
            "marker": {
             "colorbar": {
              "outlinewidth": 0,
              "ticks": ""
             }
            },
            "type": "scatter3d"
           }
          ],
          "scattercarpet": [
           {
            "marker": {
             "colorbar": {
              "outlinewidth": 0,
              "ticks": ""
             }
            },
            "type": "scattercarpet"
           }
          ],
          "scattergeo": [
           {
            "marker": {
             "colorbar": {
              "outlinewidth": 0,
              "ticks": ""
             }
            },
            "type": "scattergeo"
           }
          ],
          "scattergl": [
           {
            "marker": {
             "colorbar": {
              "outlinewidth": 0,
              "ticks": ""
             }
            },
            "type": "scattergl"
           }
          ],
          "scattermapbox": [
           {
            "marker": {
             "colorbar": {
              "outlinewidth": 0,
              "ticks": ""
             }
            },
            "type": "scattermapbox"
           }
          ],
          "scatterpolar": [
           {
            "marker": {
             "colorbar": {
              "outlinewidth": 0,
              "ticks": ""
             }
            },
            "type": "scatterpolar"
           }
          ],
          "scatterpolargl": [
           {
            "marker": {
             "colorbar": {
              "outlinewidth": 0,
              "ticks": ""
             }
            },
            "type": "scatterpolargl"
           }
          ],
          "scatterternary": [
           {
            "marker": {
             "colorbar": {
              "outlinewidth": 0,
              "ticks": ""
             }
            },
            "type": "scatterternary"
           }
          ],
          "surface": [
           {
            "colorbar": {
             "outlinewidth": 0,
             "ticks": ""
            },
            "colorscale": [
             [
              0,
              "#0d0887"
             ],
             [
              0.1111111111111111,
              "#46039f"
             ],
             [
              0.2222222222222222,
              "#7201a8"
             ],
             [
              0.3333333333333333,
              "#9c179e"
             ],
             [
              0.4444444444444444,
              "#bd3786"
             ],
             [
              0.5555555555555556,
              "#d8576b"
             ],
             [
              0.6666666666666666,
              "#ed7953"
             ],
             [
              0.7777777777777778,
              "#fb9f3a"
             ],
             [
              0.8888888888888888,
              "#fdca26"
             ],
             [
              1,
              "#f0f921"
             ]
            ],
            "type": "surface"
           }
          ],
          "table": [
           {
            "cells": {
             "fill": {
              "color": "#EBF0F8"
             },
             "line": {
              "color": "white"
             }
            },
            "header": {
             "fill": {
              "color": "#C8D4E3"
             },
             "line": {
              "color": "white"
             }
            },
            "type": "table"
           }
          ]
         },
         "layout": {
          "annotationdefaults": {
           "arrowcolor": "#2a3f5f",
           "arrowhead": 0,
           "arrowwidth": 1
          },
          "autotypenumbers": "strict",
          "coloraxis": {
           "colorbar": {
            "outlinewidth": 0,
            "ticks": ""
           }
          },
          "colorscale": {
           "diverging": [
            [
             0,
             "#8e0152"
            ],
            [
             0.1,
             "#c51b7d"
            ],
            [
             0.2,
             "#de77ae"
            ],
            [
             0.3,
             "#f1b6da"
            ],
            [
             0.4,
             "#fde0ef"
            ],
            [
             0.5,
             "#f7f7f7"
            ],
            [
             0.6,
             "#e6f5d0"
            ],
            [
             0.7,
             "#b8e186"
            ],
            [
             0.8,
             "#7fbc41"
            ],
            [
             0.9,
             "#4d9221"
            ],
            [
             1,
             "#276419"
            ]
           ],
           "sequential": [
            [
             0,
             "#0d0887"
            ],
            [
             0.1111111111111111,
             "#46039f"
            ],
            [
             0.2222222222222222,
             "#7201a8"
            ],
            [
             0.3333333333333333,
             "#9c179e"
            ],
            [
             0.4444444444444444,
             "#bd3786"
            ],
            [
             0.5555555555555556,
             "#d8576b"
            ],
            [
             0.6666666666666666,
             "#ed7953"
            ],
            [
             0.7777777777777778,
             "#fb9f3a"
            ],
            [
             0.8888888888888888,
             "#fdca26"
            ],
            [
             1,
             "#f0f921"
            ]
           ],
           "sequentialminus": [
            [
             0,
             "#0d0887"
            ],
            [
             0.1111111111111111,
             "#46039f"
            ],
            [
             0.2222222222222222,
             "#7201a8"
            ],
            [
             0.3333333333333333,
             "#9c179e"
            ],
            [
             0.4444444444444444,
             "#bd3786"
            ],
            [
             0.5555555555555556,
             "#d8576b"
            ],
            [
             0.6666666666666666,
             "#ed7953"
            ],
            [
             0.7777777777777778,
             "#fb9f3a"
            ],
            [
             0.8888888888888888,
             "#fdca26"
            ],
            [
             1,
             "#f0f921"
            ]
           ]
          },
          "colorway": [
           "#636efa",
           "#EF553B",
           "#00cc96",
           "#ab63fa",
           "#FFA15A",
           "#19d3f3",
           "#FF6692",
           "#B6E880",
           "#FF97FF",
           "#FECB52"
          ],
          "font": {
           "color": "#2a3f5f"
          },
          "geo": {
           "bgcolor": "white",
           "lakecolor": "white",
           "landcolor": "#E5ECF6",
           "showlakes": true,
           "showland": true,
           "subunitcolor": "white"
          },
          "hoverlabel": {
           "align": "left"
          },
          "hovermode": "closest",
          "mapbox": {
           "style": "light"
          },
          "paper_bgcolor": "white",
          "plot_bgcolor": "#E5ECF6",
          "polar": {
           "angularaxis": {
            "gridcolor": "white",
            "linecolor": "white",
            "ticks": ""
           },
           "bgcolor": "#E5ECF6",
           "radialaxis": {
            "gridcolor": "white",
            "linecolor": "white",
            "ticks": ""
           }
          },
          "scene": {
           "xaxis": {
            "backgroundcolor": "#E5ECF6",
            "gridcolor": "white",
            "gridwidth": 2,
            "linecolor": "white",
            "showbackground": true,
            "ticks": "",
            "zerolinecolor": "white"
           },
           "yaxis": {
            "backgroundcolor": "#E5ECF6",
            "gridcolor": "white",
            "gridwidth": 2,
            "linecolor": "white",
            "showbackground": true,
            "ticks": "",
            "zerolinecolor": "white"
           },
           "zaxis": {
            "backgroundcolor": "#E5ECF6",
            "gridcolor": "white",
            "gridwidth": 2,
            "linecolor": "white",
            "showbackground": true,
            "ticks": "",
            "zerolinecolor": "white"
           }
          },
          "shapedefaults": {
           "line": {
            "color": "#2a3f5f"
           }
          },
          "ternary": {
           "aaxis": {
            "gridcolor": "white",
            "linecolor": "white",
            "ticks": ""
           },
           "baxis": {
            "gridcolor": "white",
            "linecolor": "white",
            "ticks": ""
           },
           "bgcolor": "#E5ECF6",
           "caxis": {
            "gridcolor": "white",
            "linecolor": "white",
            "ticks": ""
           }
          },
          "title": {
           "x": 0.05
          },
          "xaxis": {
           "automargin": true,
           "gridcolor": "white",
           "linecolor": "white",
           "ticks": "",
           "title": {
            "standoff": 15
           },
           "zerolinecolor": "white",
           "zerolinewidth": 2
          },
          "yaxis": {
           "automargin": true,
           "gridcolor": "white",
           "linecolor": "white",
           "ticks": "",
           "title": {
            "standoff": 15
           },
           "zerolinecolor": "white",
           "zerolinewidth": 2
          }
         }
        },
        "xaxis": {
         "title": {
          "text": "year"
         }
        },
        "yaxis": {
         "title": {
          "text": "min_temperature"
         }
        }
       }
      }
     },
     "metadata": {},
     "output_type": "display_data"
    }
   ],
   "source": [
    "# from microsoft_custom_linear_regressor import MicrosoftCustomLinearRegressor\n",
    "# import graphing\n",
    "\n",
    "# Create and fit the model\n",
    "# We use a custom object that we have hidden from this notebook as\n",
    "# you do not need to understand its details. This fits a linear model\n",
    "# using a provided cost function\n",
    "\n",
    "# Fit a model using sum of square differences\n",
    "model = MicrosoftCustomLinearRegressor().fit(X = dataset.year, \n",
    "                                             y = dataset.min_temperature, \n",
    "                                             cost_function = sum_of_square_differences)\n",
    "\n",
    "# Graph the model\n",
    "# graphing.scatter_2D(dataset, \n",
    "#                     label_x=\"year\", \n",
    "#                     label_y=\"min_temperature\", \n",
    "#                     trendline=model.predict)\n",
    "\n",
    "fig = go.Figure()\n",
    "\n",
    "# Add traces\n",
    "fig.add_trace(go.Scatter(x=dataset['year'], y=dataset['min_temperature'],\n",
    "                    mode='markers',\n",
    "                    name='actual'))\n",
    "fig.add_trace(go.Scatter(x=dataset['year'], y=model.predict(dataset['year']),\n",
    "                    mode='lines+markers',\n",
    "                    name='prediction'))\n",
    "fig.update_xaxes(title_text='year')\n",
    "fig.update_yaxes(title_text='min_temperature')\n",
    "fig.show()"
   ]
  },
  {
   "cell_type": "markdown",
   "id": "c8694563",
   "metadata": {},
   "source": [
    "Our SSD method normally does well, but here it did a poor job - the line is a far distance from the values for many years. Why? Notice the datapoint at the bottom left doesn't seem to follow the trend of the other datapoints. 1950 was a very cold winter in Seattle, and this datapoint is strongly influencing our final model (the blue line). What happens if we change the cost function?\n",
    "\n",
    "### Sum of absolute differences\n",
    "\n",
    "Let's repeat what we've just done, but using SAD."
   ]
  },
  {
   "cell_type": "code",
   "execution_count": 9,
   "id": "71d741ff",
   "metadata": {},
   "outputs": [
    {
     "data": {
      "application/vnd.plotly.v1+json": {
       "config": {
        "plotlyServerURL": "https://plot.ly"
       },
       "data": [
        {
         "mode": "markers",
         "name": "actual",
         "type": "scatter",
         "x": [
          1950.0876112251883,
          1960.0876112251883,
          1970.0876112251883,
          1980.0876112251883,
          1990.0876112251883,
          2000.0876112251883,
          2010.0876112251883,
          2017.0876112251883
         ],
         "y": [
          1,
          44,
          42,
          36,
          37,
          41,
          40,
          29
         ]
        },
        {
         "mode": "lines+markers",
         "name": "prediction",
         "type": "scatter",
         "x": [
          1950.0876112251883,
          1960.0876112251883,
          1970.0876112251883,
          1980.0876112251883,
          1990.0876112251883,
          2000.0876112251883,
          2010.0876112251883,
          2017.0876112251883
         ],
         "y": [
          38.42538698955543,
          38.6304407042315,
          38.83549441890758,
          39.04054813358365,
          39.245601848259724,
          39.4506555629358,
          39.65570927761187,
          39.799246877885125
         ]
        }
       ],
       "layout": {
        "template": {
         "data": {
          "bar": [
           {
            "error_x": {
             "color": "#2a3f5f"
            },
            "error_y": {
             "color": "#2a3f5f"
            },
            "marker": {
             "line": {
              "color": "#E5ECF6",
              "width": 0.5
             },
             "pattern": {
              "fillmode": "overlay",
              "size": 10,
              "solidity": 0.2
             }
            },
            "type": "bar"
           }
          ],
          "barpolar": [
           {
            "marker": {
             "line": {
              "color": "#E5ECF6",
              "width": 0.5
             },
             "pattern": {
              "fillmode": "overlay",
              "size": 10,
              "solidity": 0.2
             }
            },
            "type": "barpolar"
           }
          ],
          "carpet": [
           {
            "aaxis": {
             "endlinecolor": "#2a3f5f",
             "gridcolor": "white",
             "linecolor": "white",
             "minorgridcolor": "white",
             "startlinecolor": "#2a3f5f"
            },
            "baxis": {
             "endlinecolor": "#2a3f5f",
             "gridcolor": "white",
             "linecolor": "white",
             "minorgridcolor": "white",
             "startlinecolor": "#2a3f5f"
            },
            "type": "carpet"
           }
          ],
          "choropleth": [
           {
            "colorbar": {
             "outlinewidth": 0,
             "ticks": ""
            },
            "type": "choropleth"
           }
          ],
          "contour": [
           {
            "colorbar": {
             "outlinewidth": 0,
             "ticks": ""
            },
            "colorscale": [
             [
              0,
              "#0d0887"
             ],
             [
              0.1111111111111111,
              "#46039f"
             ],
             [
              0.2222222222222222,
              "#7201a8"
             ],
             [
              0.3333333333333333,
              "#9c179e"
             ],
             [
              0.4444444444444444,
              "#bd3786"
             ],
             [
              0.5555555555555556,
              "#d8576b"
             ],
             [
              0.6666666666666666,
              "#ed7953"
             ],
             [
              0.7777777777777778,
              "#fb9f3a"
             ],
             [
              0.8888888888888888,
              "#fdca26"
             ],
             [
              1,
              "#f0f921"
             ]
            ],
            "type": "contour"
           }
          ],
          "contourcarpet": [
           {
            "colorbar": {
             "outlinewidth": 0,
             "ticks": ""
            },
            "type": "contourcarpet"
           }
          ],
          "heatmap": [
           {
            "colorbar": {
             "outlinewidth": 0,
             "ticks": ""
            },
            "colorscale": [
             [
              0,
              "#0d0887"
             ],
             [
              0.1111111111111111,
              "#46039f"
             ],
             [
              0.2222222222222222,
              "#7201a8"
             ],
             [
              0.3333333333333333,
              "#9c179e"
             ],
             [
              0.4444444444444444,
              "#bd3786"
             ],
             [
              0.5555555555555556,
              "#d8576b"
             ],
             [
              0.6666666666666666,
              "#ed7953"
             ],
             [
              0.7777777777777778,
              "#fb9f3a"
             ],
             [
              0.8888888888888888,
              "#fdca26"
             ],
             [
              1,
              "#f0f921"
             ]
            ],
            "type": "heatmap"
           }
          ],
          "heatmapgl": [
           {
            "colorbar": {
             "outlinewidth": 0,
             "ticks": ""
            },
            "colorscale": [
             [
              0,
              "#0d0887"
             ],
             [
              0.1111111111111111,
              "#46039f"
             ],
             [
              0.2222222222222222,
              "#7201a8"
             ],
             [
              0.3333333333333333,
              "#9c179e"
             ],
             [
              0.4444444444444444,
              "#bd3786"
             ],
             [
              0.5555555555555556,
              "#d8576b"
             ],
             [
              0.6666666666666666,
              "#ed7953"
             ],
             [
              0.7777777777777778,
              "#fb9f3a"
             ],
             [
              0.8888888888888888,
              "#fdca26"
             ],
             [
              1,
              "#f0f921"
             ]
            ],
            "type": "heatmapgl"
           }
          ],
          "histogram": [
           {
            "marker": {
             "pattern": {
              "fillmode": "overlay",
              "size": 10,
              "solidity": 0.2
             }
            },
            "type": "histogram"
           }
          ],
          "histogram2d": [
           {
            "colorbar": {
             "outlinewidth": 0,
             "ticks": ""
            },
            "colorscale": [
             [
              0,
              "#0d0887"
             ],
             [
              0.1111111111111111,
              "#46039f"
             ],
             [
              0.2222222222222222,
              "#7201a8"
             ],
             [
              0.3333333333333333,
              "#9c179e"
             ],
             [
              0.4444444444444444,
              "#bd3786"
             ],
             [
              0.5555555555555556,
              "#d8576b"
             ],
             [
              0.6666666666666666,
              "#ed7953"
             ],
             [
              0.7777777777777778,
              "#fb9f3a"
             ],
             [
              0.8888888888888888,
              "#fdca26"
             ],
             [
              1,
              "#f0f921"
             ]
            ],
            "type": "histogram2d"
           }
          ],
          "histogram2dcontour": [
           {
            "colorbar": {
             "outlinewidth": 0,
             "ticks": ""
            },
            "colorscale": [
             [
              0,
              "#0d0887"
             ],
             [
              0.1111111111111111,
              "#46039f"
             ],
             [
              0.2222222222222222,
              "#7201a8"
             ],
             [
              0.3333333333333333,
              "#9c179e"
             ],
             [
              0.4444444444444444,
              "#bd3786"
             ],
             [
              0.5555555555555556,
              "#d8576b"
             ],
             [
              0.6666666666666666,
              "#ed7953"
             ],
             [
              0.7777777777777778,
              "#fb9f3a"
             ],
             [
              0.8888888888888888,
              "#fdca26"
             ],
             [
              1,
              "#f0f921"
             ]
            ],
            "type": "histogram2dcontour"
           }
          ],
          "mesh3d": [
           {
            "colorbar": {
             "outlinewidth": 0,
             "ticks": ""
            },
            "type": "mesh3d"
           }
          ],
          "parcoords": [
           {
            "line": {
             "colorbar": {
              "outlinewidth": 0,
              "ticks": ""
             }
            },
            "type": "parcoords"
           }
          ],
          "pie": [
           {
            "automargin": true,
            "type": "pie"
           }
          ],
          "scatter": [
           {
            "fillpattern": {
             "fillmode": "overlay",
             "size": 10,
             "solidity": 0.2
            },
            "type": "scatter"
           }
          ],
          "scatter3d": [
           {
            "line": {
             "colorbar": {
              "outlinewidth": 0,
              "ticks": ""
             }
            },
            "marker": {
             "colorbar": {
              "outlinewidth": 0,
              "ticks": ""
             }
            },
            "type": "scatter3d"
           }
          ],
          "scattercarpet": [
           {
            "marker": {
             "colorbar": {
              "outlinewidth": 0,
              "ticks": ""
             }
            },
            "type": "scattercarpet"
           }
          ],
          "scattergeo": [
           {
            "marker": {
             "colorbar": {
              "outlinewidth": 0,
              "ticks": ""
             }
            },
            "type": "scattergeo"
           }
          ],
          "scattergl": [
           {
            "marker": {
             "colorbar": {
              "outlinewidth": 0,
              "ticks": ""
             }
            },
            "type": "scattergl"
           }
          ],
          "scattermapbox": [
           {
            "marker": {
             "colorbar": {
              "outlinewidth": 0,
              "ticks": ""
             }
            },
            "type": "scattermapbox"
           }
          ],
          "scatterpolar": [
           {
            "marker": {
             "colorbar": {
              "outlinewidth": 0,
              "ticks": ""
             }
            },
            "type": "scatterpolar"
           }
          ],
          "scatterpolargl": [
           {
            "marker": {
             "colorbar": {
              "outlinewidth": 0,
              "ticks": ""
             }
            },
            "type": "scatterpolargl"
           }
          ],
          "scatterternary": [
           {
            "marker": {
             "colorbar": {
              "outlinewidth": 0,
              "ticks": ""
             }
            },
            "type": "scatterternary"
           }
          ],
          "surface": [
           {
            "colorbar": {
             "outlinewidth": 0,
             "ticks": ""
            },
            "colorscale": [
             [
              0,
              "#0d0887"
             ],
             [
              0.1111111111111111,
              "#46039f"
             ],
             [
              0.2222222222222222,
              "#7201a8"
             ],
             [
              0.3333333333333333,
              "#9c179e"
             ],
             [
              0.4444444444444444,
              "#bd3786"
             ],
             [
              0.5555555555555556,
              "#d8576b"
             ],
             [
              0.6666666666666666,
              "#ed7953"
             ],
             [
              0.7777777777777778,
              "#fb9f3a"
             ],
             [
              0.8888888888888888,
              "#fdca26"
             ],
             [
              1,
              "#f0f921"
             ]
            ],
            "type": "surface"
           }
          ],
          "table": [
           {
            "cells": {
             "fill": {
              "color": "#EBF0F8"
             },
             "line": {
              "color": "white"
             }
            },
            "header": {
             "fill": {
              "color": "#C8D4E3"
             },
             "line": {
              "color": "white"
             }
            },
            "type": "table"
           }
          ]
         },
         "layout": {
          "annotationdefaults": {
           "arrowcolor": "#2a3f5f",
           "arrowhead": 0,
           "arrowwidth": 1
          },
          "autotypenumbers": "strict",
          "coloraxis": {
           "colorbar": {
            "outlinewidth": 0,
            "ticks": ""
           }
          },
          "colorscale": {
           "diverging": [
            [
             0,
             "#8e0152"
            ],
            [
             0.1,
             "#c51b7d"
            ],
            [
             0.2,
             "#de77ae"
            ],
            [
             0.3,
             "#f1b6da"
            ],
            [
             0.4,
             "#fde0ef"
            ],
            [
             0.5,
             "#f7f7f7"
            ],
            [
             0.6,
             "#e6f5d0"
            ],
            [
             0.7,
             "#b8e186"
            ],
            [
             0.8,
             "#7fbc41"
            ],
            [
             0.9,
             "#4d9221"
            ],
            [
             1,
             "#276419"
            ]
           ],
           "sequential": [
            [
             0,
             "#0d0887"
            ],
            [
             0.1111111111111111,
             "#46039f"
            ],
            [
             0.2222222222222222,
             "#7201a8"
            ],
            [
             0.3333333333333333,
             "#9c179e"
            ],
            [
             0.4444444444444444,
             "#bd3786"
            ],
            [
             0.5555555555555556,
             "#d8576b"
            ],
            [
             0.6666666666666666,
             "#ed7953"
            ],
            [
             0.7777777777777778,
             "#fb9f3a"
            ],
            [
             0.8888888888888888,
             "#fdca26"
            ],
            [
             1,
             "#f0f921"
            ]
           ],
           "sequentialminus": [
            [
             0,
             "#0d0887"
            ],
            [
             0.1111111111111111,
             "#46039f"
            ],
            [
             0.2222222222222222,
             "#7201a8"
            ],
            [
             0.3333333333333333,
             "#9c179e"
            ],
            [
             0.4444444444444444,
             "#bd3786"
            ],
            [
             0.5555555555555556,
             "#d8576b"
            ],
            [
             0.6666666666666666,
             "#ed7953"
            ],
            [
             0.7777777777777778,
             "#fb9f3a"
            ],
            [
             0.8888888888888888,
             "#fdca26"
            ],
            [
             1,
             "#f0f921"
            ]
           ]
          },
          "colorway": [
           "#636efa",
           "#EF553B",
           "#00cc96",
           "#ab63fa",
           "#FFA15A",
           "#19d3f3",
           "#FF6692",
           "#B6E880",
           "#FF97FF",
           "#FECB52"
          ],
          "font": {
           "color": "#2a3f5f"
          },
          "geo": {
           "bgcolor": "white",
           "lakecolor": "white",
           "landcolor": "#E5ECF6",
           "showlakes": true,
           "showland": true,
           "subunitcolor": "white"
          },
          "hoverlabel": {
           "align": "left"
          },
          "hovermode": "closest",
          "mapbox": {
           "style": "light"
          },
          "paper_bgcolor": "white",
          "plot_bgcolor": "#E5ECF6",
          "polar": {
           "angularaxis": {
            "gridcolor": "white",
            "linecolor": "white",
            "ticks": ""
           },
           "bgcolor": "#E5ECF6",
           "radialaxis": {
            "gridcolor": "white",
            "linecolor": "white",
            "ticks": ""
           }
          },
          "scene": {
           "xaxis": {
            "backgroundcolor": "#E5ECF6",
            "gridcolor": "white",
            "gridwidth": 2,
            "linecolor": "white",
            "showbackground": true,
            "ticks": "",
            "zerolinecolor": "white"
           },
           "yaxis": {
            "backgroundcolor": "#E5ECF6",
            "gridcolor": "white",
            "gridwidth": 2,
            "linecolor": "white",
            "showbackground": true,
            "ticks": "",
            "zerolinecolor": "white"
           },
           "zaxis": {
            "backgroundcolor": "#E5ECF6",
            "gridcolor": "white",
            "gridwidth": 2,
            "linecolor": "white",
            "showbackground": true,
            "ticks": "",
            "zerolinecolor": "white"
           }
          },
          "shapedefaults": {
           "line": {
            "color": "#2a3f5f"
           }
          },
          "ternary": {
           "aaxis": {
            "gridcolor": "white",
            "linecolor": "white",
            "ticks": ""
           },
           "baxis": {
            "gridcolor": "white",
            "linecolor": "white",
            "ticks": ""
           },
           "bgcolor": "#E5ECF6",
           "caxis": {
            "gridcolor": "white",
            "linecolor": "white",
            "ticks": ""
           }
          },
          "title": {
           "x": 0.05
          },
          "xaxis": {
           "automargin": true,
           "gridcolor": "white",
           "linecolor": "white",
           "ticks": "",
           "title": {
            "standoff": 15
           },
           "zerolinecolor": "white",
           "zerolinewidth": 2
          },
          "yaxis": {
           "automargin": true,
           "gridcolor": "white",
           "linecolor": "white",
           "ticks": "",
           "title": {
            "standoff": 15
           },
           "zerolinecolor": "white",
           "zerolinewidth": 2
          }
         }
        },
        "xaxis": {
         "title": {
          "text": "year"
         }
        },
        "yaxis": {
         "title": {
          "text": "min_temperature"
         }
        }
       }
      }
     },
     "metadata": {},
     "output_type": "display_data"
    }
   ],
   "source": [
    "# Fit a model with SSD\n",
    "# Fit a model using sum of square differences\n",
    "model = MicrosoftCustomLinearRegressor().fit(X = dataset.year, \n",
    "                                             y = dataset.min_temperature, \n",
    "                                             cost_function = sum_of_absolute_differences)\n",
    "\n",
    "# Graph the model\n",
    "# graphing.scatter_2D(dataset, \n",
    "#                     label_x=\"year\", \n",
    "#                     label_y=\"min_temperature\", \n",
    "#                     trendline=model.predict)\n",
    "\n",
    "fig = go.Figure()\n",
    "\n",
    "# Add traces\n",
    "fig.add_trace(go.Scatter(x=dataset['year'], y=dataset['min_temperature'],\n",
    "                    mode='markers',\n",
    "                    name='actual'))\n",
    "fig.add_trace(go.Scatter(x=dataset['year'], y=model.predict(dataset['year']),\n",
    "                    mode='lines+markers',\n",
    "                    name='prediction'))\n",
    "fig.update_xaxes(title_text='year')\n",
    "fig.update_yaxes(title_text='min_temperature')\n",
    "fig.show()\n"
   ]
  },
  {
   "cell_type": "markdown",
   "id": "5145f572",
   "metadata": {},
   "source": [
    "It's clear that this line passes through the majority of points much better than before, at the expense of almost ignoring the measurement taken in 1950. \n",
    "\n",
    "In our farming scenario, we're interested in how average temperatures are changing over time. We don't have much interest in 1950 specifically, so for us this is a better result. In other situations, of course, we might consider this result worse.\n",
    "\n",
    "\n",
    "## Summary\n",
    "\n",
    "In this exercise, you learned about how changing the cost function used during fitting can result in different final results. \n",
    "\n",
    "We also learned how this behaviour is because these cost functions describe the 'best' way to fit a model, although from a data analyst's point of view there can be drawbacks no matter which cost function is chosen."
   ]
  }
 ],
 "metadata": {
  "kernelspec": {
   "display_name": "Python 3.10.5 ('venv': venv)",
   "language": "python",
   "name": "python3"
  },
  "language_info": {
   "codemirror_mode": {
    "name": "ipython",
    "version": 3
   },
   "file_extension": ".py",
   "mimetype": "text/x-python",
   "name": "python",
   "nbconvert_exporter": "python",
   "pygments_lexer": "ipython3",
   "version": "3.10.5"
  },
  "vscode": {
   "interpreter": {
    "hash": "613dfda3628462da2f8d12167db22471b14e575900a5a648eb956c03253d9679"
   }
  }
 },
 "nbformat": 4,
 "nbformat_minor": 5
}
